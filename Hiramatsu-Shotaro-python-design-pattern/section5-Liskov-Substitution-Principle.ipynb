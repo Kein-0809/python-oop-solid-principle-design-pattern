{
 "cells": [
  {
   "cell_type": "markdown",
   "metadata": {},
   "source": [
    "# リスコフの置換原則（**L**iskov Substitution Principle：LSP）"
   ]
  },
  {
   "cell_type": "markdown",
   "metadata": {},
   "source": [
    "**派生型はその基本型と置換可能でなければならない**"
   ]
  },
  {
   "cell_type": "markdown",
   "metadata": {},
   "source": [
    "*   基本型：親クラス、スーパークラス（のオブジェクト）\n",
    "*   派生型：子クラス、サブクラス（のオブジェクト）"
   ]
  },
  {
   "cell_type": "code",
   "execution_count": null,
   "metadata": {},
   "outputs": [
    {
     "name": "stdout",
     "output_type": "stream",
     "text": [
      "飛びます\n",
      "飛べません\n"
     ]
    }
   ],
   "source": [
    "# 置換可能なケース\n",
    "class Bird:\n",
    "    def fly(self) -> str:\n",
    "        return '飛びます'\n",
    "\n",
    "class Penguin(Bird):\n",
    "    def fly(self) -> str:\n",
    "        return '飛べません'\n",
    "\n",
    "def bird_fly(bird: Bird):\n",
    "    print(bird.fly())\n",
    "\n",
    "bird = Bird()\n",
    "penguin = Penguin()\n",
    "\n",
    "#　基本型と派生型を同様に扱えている\n",
    "bird_fly(bird)\n",
    "bird_fly(penguin)"
   ]
  },
  {
   "cell_type": "code",
   "execution_count": null,
   "metadata": {},
   "outputs": [
    {
     "name": "stdout",
     "output_type": "stream",
     "text": [
      "飛びます\n"
     ]
    },
    {
     "ename": "Exception",
     "evalue": "ignored",
     "output_type": "error",
     "traceback": [
      "\u001b[0;31m---------------------------------------------------------------------------\u001b[0m\n",
      "\u001b[0;31mException\u001b[0m                                 Traceback (most recent call last)\n",
      "\u001b[0;32m<ipython-input-1-1e2502032e9b>\u001b[0m in \u001b[0;36m<cell line: 17>\u001b[0;34m()\u001b[0m\n",
      "\u001b[1;32m     15\u001b[0m \u001b[0;34m\u001b[0m\u001b[0m\n",
      "\u001b[1;32m     16\u001b[0m \u001b[0mbird_fly\u001b[0m\u001b[0;34m(\u001b[0m\u001b[0mbird\u001b[0m\u001b[0;34m)\u001b[0m\u001b[0;34m\u001b[0m\u001b[0;34m\u001b[0m\u001b[0m\n",
      "\u001b[0;32m---> 17\u001b[0;31m \u001b[0mbird_fly\u001b[0m\u001b[0;34m(\u001b[0m\u001b[0mpenguin\u001b[0m\u001b[0;34m)\u001b[0m \u001b[0;31m# 例外が発生する\u001b[0m\u001b[0;34m\u001b[0m\u001b[0;34m\u001b[0m\u001b[0m\n",
      "\u001b[0m\n",
      "\u001b[0;32m<ipython-input-1-1e2502032e9b>\u001b[0m in \u001b[0;36mbird_fly\u001b[0;34m(bird)\u001b[0m\n",
      "\u001b[1;32m      9\u001b[0m \u001b[0;34m\u001b[0m\u001b[0m\n",
      "\u001b[1;32m     10\u001b[0m \u001b[0;32mdef\u001b[0m \u001b[0mbird_fly\u001b[0m\u001b[0;34m(\u001b[0m\u001b[0mbird\u001b[0m\u001b[0;34m:\u001b[0m \u001b[0mBird\u001b[0m\u001b[0;34m)\u001b[0m\u001b[0;34m:\u001b[0m\u001b[0;34m\u001b[0m\u001b[0;34m\u001b[0m\u001b[0m\n",
      "\u001b[0;32m---> 11\u001b[0;31m   \u001b[0mprint\u001b[0m\u001b[0;34m(\u001b[0m\u001b[0mbird\u001b[0m\u001b[0;34m.\u001b[0m\u001b[0mfly\u001b[0m\u001b[0;34m(\u001b[0m\u001b[0;34m)\u001b[0m\u001b[0;34m)\u001b[0m\u001b[0;34m\u001b[0m\u001b[0;34m\u001b[0m\u001b[0m\n",
      "\u001b[0m\u001b[1;32m     12\u001b[0m \u001b[0;34m\u001b[0m\u001b[0m\n",
      "\u001b[1;32m     13\u001b[0m \u001b[0mbird\u001b[0m \u001b[0;34m=\u001b[0m \u001b[0mBird\u001b[0m\u001b[0;34m(\u001b[0m\u001b[0;34m)\u001b[0m\u001b[0;34m\u001b[0m\u001b[0;34m\u001b[0m\u001b[0m\n",
      "\n",
      "\u001b[0;32m<ipython-input-1-1e2502032e9b>\u001b[0m in \u001b[0;36mfly\u001b[0;34m(self)\u001b[0m\n",
      "\u001b[1;32m      6\u001b[0m \u001b[0;32mclass\u001b[0m \u001b[0mPenguin\u001b[0m\u001b[0;34m(\u001b[0m\u001b[0mBird\u001b[0m\u001b[0;34m)\u001b[0m\u001b[0;34m:\u001b[0m\u001b[0;34m\u001b[0m\u001b[0;34m\u001b[0m\u001b[0m\n",
      "\u001b[1;32m      7\u001b[0m     \u001b[0;32mdef\u001b[0m \u001b[0mfly\u001b[0m\u001b[0;34m(\u001b[0m\u001b[0mself\u001b[0m\u001b[0;34m)\u001b[0m \u001b[0;34m->\u001b[0m \u001b[0;32mNone\u001b[0m\u001b[0;34m:\u001b[0m\u001b[0;34m\u001b[0m\u001b[0;34m\u001b[0m\u001b[0m\n",
      "\u001b[0;32m----> 8\u001b[0;31m         \u001b[0;32mraise\u001b[0m \u001b[0mException\u001b[0m\u001b[0;34m(\u001b[0m\u001b[0;34m'飛べません'\u001b[0m\u001b[0;34m)\u001b[0m\u001b[0;34m\u001b[0m\u001b[0;34m\u001b[0m\u001b[0m\n",
      "\u001b[0m\u001b[1;32m      9\u001b[0m \u001b[0;34m\u001b[0m\u001b[0m\n",
      "\u001b[1;32m     10\u001b[0m \u001b[0;32mdef\u001b[0m \u001b[0mbird_fly\u001b[0m\u001b[0;34m(\u001b[0m\u001b[0mbird\u001b[0m\u001b[0;34m:\u001b[0m \u001b[0mBird\u001b[0m\u001b[0;34m)\u001b[0m\u001b[0;34m:\u001b[0m\u001b[0;34m\u001b[0m\u001b[0;34m\u001b[0m\u001b[0m\n",
      "\n",
      "\u001b[0;31mException\u001b[0m: 飛べません"
     ]
    }
   ],
   "source": [
    "#　置換不可能なケース\n",
    "class Bird:\n",
    "    def fly(self) -> str:\n",
    "        return '飛びます'\n",
    "\n",
    "class Penguin(Bird):\n",
    "    def fly(self) -> None:\n",
    "        raise Exception('飛べません')\n",
    "\n",
    "def bird_fly(bird: Bird):\n",
    "    print(bird.fly())\n",
    "\n",
    "bird = Bird()\n",
    "penguin = Penguin()\n",
    "\n",
    "bird_fly(bird)\n",
    "bird_fly(penguin) # 例外が発生する"
   ]
  },
  {
   "cell_type": "markdown",
   "metadata": {},
   "source": [
    "置換可能なケースでは、基本型と派生型を同様に扱えているが、\n",
    "\n",
    "\n",
    "置換不可能なケースでは、派生型を基本型と同様に扱おうとすると例外が発生する\n",
    "\n",
    "⇒　派生型を基本型と置換できるように定義しよう！というのがLSP"
   ]
  },
  {
   "cell_type": "markdown",
   "metadata": {},
   "source": [
    "## LSPのメリット"
   ]
  },
  {
   "cell_type": "markdown",
   "metadata": {},
   "source": [
    "LSPを満たして、派生型が基本型と置換可能になると、\n",
    "\n",
    "**サブタイプを切り替えられる**ようになる\n",
    "\n",
    "⇒　OCPを実現できる継承が可能になる"
   ]
  },
  {
   "cell_type": "code",
   "execution_count": null,
   "metadata": {},
   "outputs": [],
   "source": [
    "#　Strategyパターンのコード（再掲）\n",
    "from abc import ABC, abstractmethod\n",
    "\n",
    "class AbstractNotification(ABC):\n",
    "    @abstractmethod\n",
    "    def send(self, user_id: int) -> None:\n",
    "        pass\n",
    "\n",
    "class EmailNotification(AbstractNotification):\n",
    "    def send(self, user_id: int) -> None:\n",
    "        # メールで通知を送信\n",
    "        print('メール')\n",
    "\n",
    "class SMSNotification(AbstractNotification):\n",
    "    def send(self, user_id: int) -> None:\n",
    "        # SMSで通知を送信\n",
    "        print('SMS')\n",
    "\n",
    "class PushNotification(AbstractNotification):\n",
    "    def send(self, user_id: int) -> None:\n",
    "        # プッシュ通知を送信\n",
    "        print('プッシュ通知')\n",
    "\n",
    "# 派生型を切り替えることができる\n",
    "def notify(user_id: int, notification: AbstractNotification): #　AbstractNotificationのサブクラスだけ渡せる\n",
    "    notification.send(user_id) # すべての派生型において、sendメソッドを同様に使える"
   ]
  },
  {
   "cell_type": "markdown",
   "metadata": {},
   "source": [
    "継承はもともと、コードの再利用による、保守性の向上を目的として誕生したが、\n",
    "\n",
    "実際には、保守性を低下させるような使われ方が非常に多かった（[神クラス](https://en.wikipedia.org/wiki/God_object)など）\n",
    "\n",
    "⇒　最近のプログラミング言語では、クラスの継承を禁止している言語もある（Go / Rustなど）\n",
    "\n",
    "⇒　LSPを守るように継承を利用すれば、OCPを守れるようになり、変更に強くなる"
   ]
  },
  {
   "cell_type": "markdown",
   "metadata": {},
   "source": [
    "## 置換できないのは、どのような場合か？"
   ]
  },
  {
   "cell_type": "markdown",
   "metadata": {},
   "source": [
    "次のいずれかが起こると、基本型を派生型で置き換えることができなくなる\n",
    "\n",
    "1.   派生型で、基本型よりも**事前条件**を強める\n",
    "2.  派生型で、基本型よりも**事後条件**を弱める\n",
    "3.  派生型で、基本型の**不変条件**に違反する\n",
    "4.  派生型で、基本型にない例外が発生する（1と同じ）"
   ]
  },
  {
   "cell_type": "markdown",
   "metadata": {},
   "source": [
    "事前条件・事後条件・不変条件は、「**契約による設計**」の構成要素"
   ]
  },
  {
   "cell_type": "markdown",
   "metadata": {},
   "source": [
    "### 契約による設計（Design by Contract：DbC）\n",
    "\n",
    "\n"
   ]
  },
  {
   "cell_type": "markdown",
   "metadata": {},
   "source": [
    "**呼び出される機能と、呼び出し側が、契約を結ぶ（と考える）ことで、**\n",
    "\n",
    "**ソフトウェアの正確性と頑健性を高める技法**"
   ]
  },
  {
   "cell_type": "markdown",
   "metadata": {},
   "source": [
    "契約による設計は、次の3つの要素からなる\n",
    "\n",
    "*   事前条件（precondition）：関数（メソッド）の開始時に保証されるべき条件\n",
    "*   事後条件（postcondition）：関数（メソッド）の正常終了時に満たされるべき条件\n",
    "*   不変条件（invariant）：関数（メソッド）の開始時と正常終了時に共通して保証されるべき状態についての条件。クラス不変表明。"
   ]
  },
  {
   "cell_type": "markdown",
   "metadata": {},
   "source": [
    "呼び出される機能と、呼び出し側は、次の契約を結ぶ（と考える）\n",
    "\n",
    "\n",
    "\n",
    "> 呼び出し側によって、呼び出される機能の事前条件がすべて満足された場合、\n",
    ">\n",
    "> 当該機能は処理完了時点ですべての事後条件と不変表明を満足させるものとする。\n",
    "\n",
    "\n",
    "上記は、[達人プログラマー](https://hiramatsuu.com/archives/1433)より引用\n"
   ]
  },
  {
   "cell_type": "markdown",
   "metadata": {},
   "source": [
    "上記を言い換えると、\n",
    ">関数やメソッドが呼び出されるときには、必ず事前条件を満たした状態で関数やメソッドを呼び出す。\n",
    ">\n",
    ">かつ、事前条件が満たされた状態で関数やメソッドが呼び出された場合、必ず事後条件と不変条件を満たすように関数やメソッドを定義する。"
   ]
  },
  {
   "cell_type": "markdown",
   "metadata": {},
   "source": [
    "銀行口座を表現するクラスについて考えてみよう"
   ]
  },
  {
   "cell_type": "code",
   "execution_count": null,
   "metadata": {},
   "outputs": [],
   "source": [
    "# 契約による設計を意識していないコード\n",
    "class BankAccount:\n",
    "    def __init__(self) -> None:\n",
    "        self._balance = 0 # 口座の初期残高は0\n",
    "\n",
    "    def deposit(self, amount: int) -> None:\n",
    "        self._balance += amount\n",
    "\n",
    "    def withdraw(self, amount: int) -> None:\n",
    "        self._balance -= amount"
   ]
  },
  {
   "cell_type": "markdown",
   "metadata": {},
   "source": [
    "上記のコードでは、次のような問題点がある\n",
    "\n",
    "*   入出金額を負の値にできてしまう\n",
    "*   残高が0より小さくなる可能性がある\n",
    "*   残高をクラスの外部から変更できる"
   ]
  },
  {
   "cell_type": "markdown",
   "metadata": {},
   "source": [
    "これらの問題は、銀行口座が持つ以下のようなルールが、\n",
    "\n",
    "コードに反映されていないために起こる\n",
    "\n",
    "*   入出金額は0以上の整数値（事前条件）\n",
    "*   残高以上の額を出金することはできない（事前条件）\n",
    "*   入金・出金額と口座残高が整合性を保つ必要がある（事後条件）\n",
    "*   残高は常に0以上の整数値（不変条件）"
   ]
  },
  {
   "cell_type": "code",
   "execution_count": null,
   "metadata": {},
   "outputs": [],
   "source": [
    "# 事前条件を守れるように変更したコード（ガード節を追加）\n",
    "class BankAccount:\n",
    "    def __init__(self) -> None:\n",
    "        self._balance = 0\n",
    "\n",
    "    def deposit(self, amount: int) -> None:\n",
    "        if amount < 0:\n",
    "            raise ValueError('事前条件: 入金額は0以上')\n",
    "        self._balance += amount\n",
    "\n",
    "    def withdraw(self, amount: int) -> None:\n",
    "        if amount < 0:\n",
    "            raise ValueError('事前条件: 出金額は0以上')\n",
    "        if amount > self._balance:\n",
    "            raise ValueError('事前条件: 引き出し額は現在の残高以下')\n",
    "        self._balance -= amount"
   ]
  },
  {
   "cell_type": "markdown",
   "metadata": {},
   "source": [
    "**契約に違反した場合は、例外を発生させる**ことで、\n",
    "\n",
    "契約に違反したまま処理が続くことを防げる"
   ]
  },
  {
   "cell_type": "code",
   "execution_count": null,
   "metadata": {},
   "outputs": [],
   "source": [
    "# 事後条件を守れるように変更したコード\n",
    "class BankAccount:\n",
    "    def __init__(self) -> None:\n",
    "        self._balance = 0\n",
    "\n",
    "    def deposit(self, amount: int) -> None:\n",
    "        if amount < 0:\n",
    "            raise ValueError('事前条件: 入金額は0以上')\n",
    "\n",
    "        old_balance = self._balance\n",
    "        new_balance = self._balance + amount\n",
    "        self._check_postcondition(new_balance, old_balance, amount) # 事後条件をチェック\n",
    "        self._balance = new_balance\n",
    "\n",
    "    def withdraw(self, amount: int) -> None:\n",
    "        if amount < 0:\n",
    "            raise ValueError('事前条件: 出金額は0以上')\n",
    "        if amount > self._balance:\n",
    "            raise ValueError('事前条件: 引き出し額は現在の残高以下')\n",
    "\n",
    "        old_balance = self._balance\n",
    "        new_balance = self._balance - amount\n",
    "        self._check_postcondition(new_balance, old_balance, amount) # 事後条件をチェック\n",
    "        self._balance = new_balance\n",
    "\n",
    "    #　事後条件を確認するメソッド\n",
    "    def _check_postcondition(self, new_balance: int, old_balance: int, amount: int):\n",
    "        difference = new_balance - old_balance\n",
    "        if abs(difference) != amount:\n",
    "            raise ValueError('事後条件: 入金・出金額と口座残高に整合性がある')"
   ]
  },
  {
   "cell_type": "markdown",
   "metadata": {},
   "source": [
    "実用の場面において、事後条件は、\n",
    "\n",
    "事前条件や不変条件のように、ガード節として組み込まれるというよりは、\n",
    "\n",
    "**テストケースとして確認される**のが基本"
   ]
  },
  {
   "cell_type": "code",
   "execution_count": null,
   "metadata": {},
   "outputs": [],
   "source": [
    "# 不変条件を守れるように変更したコード\n",
    "class BankAccount:\n",
    "    def __init__(self) -> None:\n",
    "        self._balance = 0\n",
    "\n",
    "    # クラス外部から変更されないようにする（もどき） (getter)\n",
    "    @property\n",
    "    def balance(self) -> int:\n",
    "        return self._balance\n",
    "\n",
    "    def deposit(self, amount: int) -> None:\n",
    "        if amount < 0:\n",
    "            raise ValueError('事前条件: 入金額は0以上')\n",
    "\n",
    "        new_balance = self._balance + amount\n",
    "        self._check_invariant(new_balance) # 不変条件をチェック\n",
    "        self._balance = new_balance\n",
    "\n",
    "    def withdraw(self, amount: int) -> None:\n",
    "        if amount < 0:\n",
    "            raise ValueError('事前条件: 出金額は0以上')\n",
    "        if amount > self._balance:\n",
    "            raise ValueError('事前条件: 引き出し額は現在の残高以下')\n",
    "\n",
    "        new_balance = self._balance - amount\n",
    "        self._check_invariant(new_balance) # 不変条件をチェック\n",
    "        self._balance = new_balance\n",
    "\n",
    "    #　不変条件を確認するメソッド\n",
    "    def _check_invariant(self, new_balance):\n",
    "        if new_balance < 0:\n",
    "            raise ValueError('不変条件: 残高は0以上')"
   ]
  },
  {
   "cell_type": "markdown",
   "metadata": {},
   "source": [
    "契約による設計を意識すると、コードがより正確・頑健になる"
   ]
  },
  {
   "cell_type": "markdown",
   "metadata": {},
   "source": [
    "## LSPに違反した継承の例"
   ]
  },
  {
   "cell_type": "markdown",
   "metadata": {},
   "source": [
    "（再掲）次のいずれかが起こると、基本型を派生型で置き換えることができなくなる\n",
    "\n",
    "1.  派生型(継承先)で、基本型(継承元)よりも**事前条件**を強める\n",
    "\t\t\t\n",
    "\t\t\t(継承先の条件が継承元の事前条件よりも強くなっている)\n",
    "2.  派生型(継承先)で、基本型(継承元)よりも**事後条件**を弱める\n",
    "\t\t\t\n",
    "\t\t\t(継承先の条件が継承元の事後条件よりも弱くなっている)\n",
    "3.  派生型(継承先)で、基本型(継承元)の**不変条件**に違反する\n",
    "\t\t\t\n",
    "\t\t\t(継承先の条件が継承元の不変条件に違反している)\n",
    "4.  派生型(継承先)で、基本型(継承元)にない例外が発生する（1と同じ）\n",
    "\t\t\t\n",
    "\t\t\t(継承先の条件が継承元の例外に違反している)"
   ]
  },
  {
   "cell_type": "markdown",
   "metadata": {},
   "source": [
    "### 事前条件を派生型で強めている"
   ]
  },
  {
   "cell_type": "code",
   "execution_count": null,
   "metadata": {},
   "outputs": [],
   "source": [
    "# LSPに違反した継承パターンの1と4に当てはまる例\n",
    "\n",
    "# 事前条件を派生型で強めているパターン\n",
    "class SuperHoge:\n",
    "    def hoge(self, n: int) -> int:\n",
    "        return n\n",
    "\n",
    "# SuperHogeに比べてSubHogeの条件が強くなっている\n",
    "class SubHoge(SuperHoge):\n",
    "    def hoge(self, n: int) -> int:\n",
    "        if n < 0:\n",
    "            raise ValueError('0以上にしてください')\n",
    "        return n"
   ]
  },
  {
   "cell_type": "markdown",
   "metadata": {},
   "source": [
    "「派生型で、基本型にない例外が発生する」ということは、\n",
    "\n",
    "派生型で基本型の事前条件を強めていることになるので、\n",
    "\n",
    "これも基本型と派生型を置換不可能にする"
   ]
  },
  {
   "cell_type": "code",
   "execution_count": null,
   "metadata": {},
   "outputs": [],
   "source": [
    "# LSPに違反した継承パターンの4のみに当てはまる例\n",
    "\n",
    "# 事前条件を派生型で強めているパターン（例外の発生なし）\n",
    "class SuperHoge:\n",
    "    def hoge(self, n: int) -> int:\n",
    "        return n\n",
    "\n",
    "class SubHoge(SuperHoge):\n",
    "    def hoge(self, n: int) -> int:\n",
    "        #　nは0以上を期待しているが、ガード節がない\n",
    "        return n"
   ]
  },
  {
   "cell_type": "markdown",
   "metadata": {},
   "source": [
    "逆に以下のコードは問題ない"
   ]
  },
  {
   "cell_type": "code",
   "execution_count": null,
   "metadata": {},
   "outputs": [],
   "source": [
    "# 事前条件を派生型で弱めているパターン (OKなパターン)\n",
    "class SuperHoge:\n",
    "    def hoge(self, n: int) -> int:\n",
    "        if n < 0:\n",
    "            raise ValueError('0以上にしてください')\n",
    "        return n\n",
    "\n",
    "class SubHoge(SuperHoge):\n",
    "    def hoge(self, n: int) -> int:\n",
    "        return n\n",
    "\n",
    "def hoge0(hoge_obj: SuperHoge):\n",
    "    print(hoge_obj.hoge(0))"
   ]
  },
  {
   "cell_type": "markdown",
   "metadata": {},
   "source": [
    "基本型が正常動作する呼び出し方を、\n",
    "\n",
    "派生型でも同様に行って問題ないなら、置換可能"
   ]
  },
  {
   "cell_type": "markdown",
   "metadata": {},
   "source": [
    "### 事後条件を派生型で弱めている"
   ]
  },
  {
   "cell_type": "code",
   "execution_count": null,
   "metadata": {},
   "outputs": [],
   "source": [
    "#　事後条件を派生型で弱めているパターン\n",
    "class SuperHoge:\n",
    "    def hoge(self, n: int) -> int:\n",
    "        return n\n",
    "\n",
    "class SubHoge(SuperHoge):\n",
    "    # 派生型で事後条件を弱めている (戻り値の範囲が広くなっている(戻り値の型が複数になっている))\n",
    "    # 戻り値がn>0の場合は、tuple型でintとstrを返すようになっており、\n",
    "    # n<=0の場合は、int型でnを返すようになっている\n",
    "    def hoge(self, n: int) -> int | tuple[int, str]: # 戻り値の範囲が広くなっている\n",
    "        if n > 0:\n",
    "            return n , '正の数です' # tuple型で返す (tuple[int, str])\n",
    "        return n\n",
    "\n",
    "def hoge_client(hoge_obj: SuperHoge):\n",
    "    return hoge_obj.hoge(2) * 10"
   ]
  },
  {
   "cell_type": "markdown",
   "metadata": {},
   "source": [
    "戻り値の型にいくつかのパターンがある場合は、次のように書ける\n",
    "\n",
    "\n",
    "\n",
    "```\n",
    "def メソッド名(self) -> 型1 | 型2:\n",
    "```\n",
    "\n",
    "\n",
    "\n",
    "詳しくは、[公式ドキュメント](https://docs.python.org/ja/3/library/stdtypes.html#union-type)を参照"
   ]
  },
  {
   "cell_type": "markdown",
   "metadata": {},
   "source": [
    "逆に以下のコードは問題ない"
   ]
  },
  {
   "cell_type": "code",
   "execution_count": null,
   "metadata": {},
   "outputs": [],
   "source": [
    "#　事後条件を派生型で強めているパターン (OKなパターン)\n",
    "class SuperHoge:\n",
    "    def hoge(self, n: int) -> int:\n",
    "        return n\n",
    "\n",
    "class SubHoge(SuperHoge):\n",
    "    # 派生型で事後条件を強めている\n",
    "    # 戻り値は継承元と同じint型で返す\n",
    "    # しかし、派生型では負の数はすべて0にして返すようになっている (戻り値の範囲が狭くなっている = 事後条件を強めている)\n",
    "    def hoge(self, n: int) -> int:\n",
    "        if n < 0:\n",
    "            return 0 # 負の数はすべて0にして返す、戻り値の範囲が狭くなっている\n",
    "        return n"
   ]
  },
  {
   "cell_type": "markdown",
   "metadata": {},
   "source": [
    "### 不変条件に派生型で違反している"
   ]
  },
  {
   "cell_type": "code",
   "execution_count": null,
   "metadata": {},
   "outputs": [],
   "source": [
    "# 不変条件に派生型で違反しているパターン\n",
    "# 基本型(継承元: SuperHoge)で守れられている条件が、派生型(継承先: SubHoge)で守れなくなっている\n",
    "\n",
    "class SuperHoge:\n",
    "    def __init__(self, n: int) -> None:\n",
    "        if n < 1:\n",
    "            raise ValueError('1以上にしてください') # 不変条件、nは１以上\n",
    "        self._n = n\n",
    "\n",
    "    def hoge(self, n: int) -> int:\n",
    "        #　事前条件\n",
    "        if n < 1:\n",
    "            raise ValueError('1以上にしてください')\n",
    "        self._n = self._n * n\n",
    "        return self._n\n",
    "\n",
    "class SubHoge(SuperHoge):\n",
    "    def hoge(self, n: int) -> int:\n",
    "        #　事前条件\n",
    "        if n < 1:\n",
    "            raise ValueError('1以上にしてください')\n",
    "        self._n = self._n // n  # nが１よりも小さくなる可能性がある (例: self.n = 2, n = 4, 結果=0)\n",
    "        return self._n"
   ]
  },
  {
   "cell_type": "markdown",
   "metadata": {},
   "source": [
    "### ちょっとクイズ"
   ]
  },
  {
   "cell_type": "markdown",
   "metadata": {},
   "source": [
    "①次のコードは、LSPに違反しているか？"
   ]
  },
  {
   "cell_type": "code",
   "execution_count": null,
   "metadata": {},
   "outputs": [],
   "source": [
    "class Rectangle: # 長方形クラス\n",
    "    def __init__(self, width: int, height: int) -> None:\n",
    "        self.width = width\n",
    "        self.height = height\n",
    "\n",
    "    def area(self) -> int:\n",
    "        return self.width * self.height\n",
    "\n",
    "class Square(Rectangle): # 正方形クラス\n",
    "    def __init__(self, side: int) -> None:\n",
    "        super().__init__(side, side)"
   ]
  },
  {
   "cell_type": "markdown",
   "metadata": {},
   "source": [
    "**答え**\n",
    "\n",
    "クライアントを見ないとわからない (基本型(継承元: Rectangle)と派生型(継承先:Square)を見ただけでは判断できない"
   ]
  },
  {
   "cell_type": "markdown",
   "metadata": {},
   "source": [
    "②次のコードは、\n",
    "\n",
    "adjust_width関数から見た時に、\n",
    "\n",
    "LSPに違反しているか？"
   ]
  },
  {
   "cell_type": "code",
   "execution_count": null,
   "metadata": {},
   "outputs": [],
   "source": [
    "class Rectangle: # 長方形クラス\n",
    "    def __init__(self, width: int, height: int) -> None:\n",
    "        self.width = width\n",
    "        self.height = height\n",
    "\n",
    "    def area(self) -> int:\n",
    "        return self.width * self.height\n",
    "\n",
    "class Square(Rectangle): # 正方形クラス\n",
    "    def __init__(self, side: int) -> None:\n",
    "        super().__init__(side, side)\n",
    "\n",
    "def adjust_width(rectangle: Rectangle, new_width: int) -> None:\n",
    "    print(f'初期の面積: {rectangle.area()}')\n",
    "    rectangle.width = new_width\n",
    "    print(f'幅を調整後の面積: {rectangle.area()}')"
   ]
  },
  {
   "cell_type": "markdown",
   "metadata": {},
   "source": [
    "答え：違反している\n",
    "\n",
    "理由: 長方形では期待通りの振る舞いを行うが、正方形の場合だと期待とは異なる結果になる"
   ]
  },
  {
   "cell_type": "code",
   "execution_count": null,
   "metadata": {},
   "outputs": [
    {
     "name": "stdout",
     "output_type": "stream",
     "text": [
      "初期の面積: 50\n",
      "幅を調整後の面積: 70\n",
      "初期の面積: 25\n",
      "幅を調整後の面積: 35\n"
     ]
    }
   ],
   "source": [
    "def adjust_width(rectangle: Rectangle, new_width: int) -> None:\n",
    "    print(f'初期の面積: {rectangle.area()}')\n",
    "    rectangle.width = new_width\n",
    "    print(f'幅を調整後の面積: {rectangle.area()}')\n",
    "\n",
    "rectangle = Rectangle(5, 10)\n",
    "adjust_width(rectangle, 7)\n",
    "\n",
    "square = Square(5)\n",
    "adjust_width(square, 7) # 期待とは異なる結果になる\n",
    "                        # 期待は49になるが、結果は35になる"
   ]
  },
  {
   "cell_type": "markdown",
   "metadata": {},
   "source": [
    "用語の定義からすると「正方形 is a 長方形（正方形は長方形の1つ）」なのは間違いないが、\n",
    "\n",
    "用語が「is a」の関係だからといって、適切な継承ができているとは限らない\n",
    "\n",
    "⇒　**クライアントから見て、「is a」の関係が成立している**必要がある\n",
    "\n",
    "⇒　「クライアントから見て」LSPを満たすか？が判断基準"
   ]
  },
  {
   "cell_type": "markdown",
   "metadata": {},
   "source": [
    "次のようなクライアントから見れば、\n",
    "\n",
    "上記の基本型・派生型もLSPを満たしていると言える"
   ]
  },
  {
   "cell_type": "code",
   "execution_count": null,
   "metadata": {},
   "outputs": [
    {
     "name": "stdout",
     "output_type": "stream",
     "text": [
      "面積: 50\n",
      "面積: 25\n"
     ]
    }
   ],
   "source": [
    "def print_area(rectangle: Rectangle) -> None:\n",
    "    print(f'面積: {rectangle.area()}')\n",
    "\n",
    "rectangle = Rectangle(5, 10)\n",
    "print_area(rectangle)\n",
    "\n",
    "square = Square(5)\n",
    "print_area(square)"
   ]
  },
  {
   "cell_type": "markdown",
   "metadata": {},
   "source": [
    "## 他の原則との関係性"
   ]
  },
  {
   "cell_type": "markdown",
   "metadata": {},
   "source": [
    "\n",
    "OCPを実現するための、継承の使い方を示すのがLSP"
   ]
  },
  {
   "cell_type": "markdown",
   "metadata": {},
   "source": [
    "## LSPのまとめ"
   ]
  },
  {
   "cell_type": "markdown",
   "metadata": {},
   "source": [
    "*   リスコフの置換原則（LSP）は、「派生型はその基本型と置換可能でなければならない」という原則\n",
    "*   LSPを守ることで、サブタイプを切り替えられるようになり、OCPを満たす継承ができるようになる\n",
    "*   派生型が基本型と置換可能かどうかを判断するには、\n",
    "  \n",
    "    契約による設計（Design by Contract：DbC）の観点が役立つ\n",
    "*   事前条件（precondition）：関数（メソッド）の開始時に保証されるべき条件\n",
    "*   事後条件（postcondition）：関数（メソッド）の正常終了時に満たされるべき条件\n",
    "*   不変条件（invariant）：関数（メソッド）の開始時と正常終了時に共通して保証されるべき状態についての条件\n",
    "*   例外の使い所は、契約を満たせなくなったとき\n",
    "*   派生型で基本型の①事前条件を強める、②事後条件を弱める、③不変条件に違反する、とLSPに違反してしまう\n",
    "*   LSPは、クライアントから見た「is aの関係」を保証するための原則とも言える\n"
   ]
  },
  {
   "cell_type": "markdown",
   "metadata": {},
   "source": [
    "## LSPの演習問題"
   ]
  },
  {
   "cell_type": "markdown",
   "metadata": {},
   "source": [
    "①LSPとはどのような原則でしょうか\n",
    "\n",
    "これまでに学んだことを、できる限り多く思い出してみましょう"
   ]
  },
  {
   "cell_type": "markdown",
   "metadata": {},
   "source": [
    "②基本型を派生型で置換できないのはどのような場合でしょうか\n",
    "\n",
    "契約による設計の観点から回答してください"
   ]
  },
  {
   "cell_type": "markdown",
   "metadata": {},
   "source": [
    "③商品を表現するProductクラスについて考えてみましょう\n",
    "\n",
    "商品は以下のルールを持つとします\n",
    "\n",
    "*   名前は1文字以上20文字以内\n",
    "*   価格は1円以上\n",
    "*   割引率は5~50%\n",
    "\n",
    "次のコードに契約による設計の考え方を取り入れて、\n",
    "\n",
    "コードを改善してください\n",
    "\n",
    "ただし、新たなクラスは定義しないものとします"
   ]
  },
  {
   "cell_type": "code",
   "execution_count": null,
   "metadata": {},
   "outputs": [],
   "source": [
    "class Product:\n",
    "    def __init__(self, name: str, price: int) -> None:\n",
    "        self._name = name\n",
    "        self._price = price\n",
    "\n",
    "    def discount(self, discount_percent: int) -> None:\n",
    "        self._price = self._price * (100 - discount_percent) // 100\n",
    "\n",
    "    def change_name(self, new_name: str) -> None:\n",
    "        self._name = new_name"
   ]
  },
  {
   "cell_type": "markdown",
   "metadata": {},
   "source": [
    "④次のコードはLSPに違反しているでしょうか\n",
    "\n",
    "違反している場合は、その理由を述べた上で、\n",
    "\n",
    "LSPを満たすようにコードを改善してください"
   ]
  },
  {
   "cell_type": "code",
   "execution_count": null,
   "metadata": {},
   "outputs": [],
   "source": [
    "from abc import ABC, abstractmethod\n",
    "\n",
    "class CouponStrategy(ABC):\n",
    "    @abstractmethod\n",
    "    def apply_discount(self, price: int) -> int:\n",
    "        pass\n",
    "\n",
    "class PercentageDiscountCoupon(CouponStrategy):\n",
    "    def __init__(self, percentage: int):\n",
    "        self.percentage = percentage\n",
    "\n",
    "    def apply_discount(self, price: int) -> int:\n",
    "        return int(price * (1 - self.percentage / 100))\n",
    "\n",
    "class QuantityDiscountCoupon(CouponStrategy):\n",
    "    def apply_discount(self, price: int, items_count: int) -> int:\n",
    "        if items_count >= 10:\n",
    "            return int(price * 0.9)\n",
    "        return price\n",
    "\n",
    "class ShoppingCart:\n",
    "    def __init__(self, discount_strategy: CouponStrategy):\n",
    "        self.items = []\n",
    "        self.discount_strategy = discount_strategy\n",
    "\n",
    "    def add_item(self, item_name: str, price: int):\n",
    "        self.items.append((item_name, price))\n",
    "\n",
    "    def calculate_total(self) -> int:\n",
    "        total = sum(price for _, price in self.items)\n",
    "        return self.discount_strategy.apply_discount(total)"
   ]
  },
  {
   "cell_type": "markdown",
   "metadata": {},
   "source": [
    "⑤ ④の解答のコードの問題点を指摘し、\n",
    "\n",
    "次のコードに記載されているクラスを活用して改善してください"
   ]
  },
  {
   "cell_type": "code",
   "execution_count": null,
   "metadata": {},
   "outputs": [],
   "source": [
    "class DiscountParameters:\n",
    "    def __init__(self, items: list):\n",
    "        self._items = items\n",
    "\n",
    "    @property\n",
    "    def total_price(self) -> int:\n",
    "        return sum(price for _, price in self._items)\n",
    "\n",
    "    @property\n",
    "    def item_count(self) -> int:\n",
    "        return len(self._items)"
   ]
  },
  {
   "cell_type": "markdown",
   "metadata": {},
   "source": [
    "## リスコフの置換原則（**L**iskov Substitution Principle：LSP）"
   ]
  },
  {
   "cell_type": "markdown",
   "metadata": {},
   "source": [
    "①LSPとはどのような原則でしょうか\n",
    "\n",
    "これまでに学んだことを、できる限り多く思い出してみましょう"
   ]
  },
  {
   "cell_type": "markdown",
   "metadata": {},
   "source": [
    "②基本型を派生型で置換できないのはどのような場合でしょうか\n",
    "\n",
    "契約による設計の観点から回答してください"
   ]
  },
  {
   "cell_type": "markdown",
   "metadata": {},
   "source": [
    "次のいずれかが起こると、基本型を派生型で置き換えることができなくなる\n",
    "\n",
    "1.   派生型で、基本型よりも事前条件を強める\n",
    "2.  派生型で、基本型よりも事後条件を弱める\n",
    "3.  派生型で、基本型の不変条件に違反する"
   ]
  },
  {
   "cell_type": "markdown",
   "metadata": {},
   "source": [
    "③商品を表現するProductクラスについて考えてみましょう\n",
    "\n",
    "商品は以下のルールを持つとします\n",
    "\n",
    "*   名前は1文字以上20文字以内\n",
    "*   価格は1円以上\n",
    "*   割引率は5~50%\n",
    "\n",
    "次のコードに契約による設計の考え方を取り入れて、\n",
    "\n",
    "コードを改善してください\n",
    "\n",
    "ただし、新たなクラスは定義しないものとします"
   ]
  },
  {
   "cell_type": "code",
   "execution_count": null,
   "metadata": {},
   "outputs": [],
   "source": [
    "class Product:\n",
    "    def __init__(self, name: str, price: int) -> None:\n",
    "        self._name = name\n",
    "        self._price = price\n",
    "\n",
    "    def discount(self, discount_percent: int) -> None:\n",
    "        self._price = self._price * (100 - discount_percent) // 100\n",
    "\n",
    "    def change_name(self, new_name: str) -> None:\n",
    "        self._name = new_name"
   ]
  },
  {
   "cell_type": "code",
   "execution_count": null,
   "metadata": {},
   "outputs": [],
   "source": [
    "# 解答の一例\n",
    "class Product:\n",
    "    def __init__(self, name: str, price: int) -> None:\n",
    "        if not 1 <= len(name) <= 20: # 不変条件\n",
    "            raise ValueError('名前は1文字以上20文字以内')\n",
    "        if price < 1: # 不変条件\n",
    "            raise ValueError('価格は１円以上')\n",
    "        self._name = name\n",
    "        self._price = price\n",
    "\n",
    "    @property # 読み取り専用（もどき）にして外部から変更不可に（不変条件の維持）\n",
    "    def name(self) -> str:\n",
    "        return self._name\n",
    "\n",
    "    @property # 読み取り専用（もどき）にして外部から変更不可に（不変条件の維持）\n",
    "    def price(self) -> int:\n",
    "        return self._price\n",
    "\n",
    "    def discount(self, discount_percent: int) -> None:\n",
    "        if not 5 <= discount_percent <= 50: # 事前条件\n",
    "            raise ValueError('割引率は5~50%')\n",
    "        self._price = self._price * (100 - discount_percent) // 100\n",
    "\n",
    "    def change_name(self, new_name: str) -> None:\n",
    "        if not 1 <= len(new_name) <= 20: #　事前条件・不変条件\n",
    "            raise ValueError('名前は1文字以上20文字以内')\n",
    "        self._name = new_name"
   ]
  },
  {
   "cell_type": "markdown",
   "metadata": {},
   "source": [
    "事後条件は、\n",
    "\n",
    "事前条件や不変条件のように、ガード節として組み込まれるというよりは、\n",
    "\n",
    "**テストケースとして確認される**のが基本"
   ]
  },
  {
   "cell_type": "markdown",
   "metadata": {},
   "source": [
    "④次のコードはLSPに違反しているでしょうか\n",
    "\n",
    "違反している場合は、その理由を述べた上で、\n",
    "\n",
    "LSPを満たすようにコードを改善してください"
   ]
  },
  {
   "cell_type": "code",
   "execution_count": null,
   "metadata": {},
   "outputs": [],
   "source": [
    "from abc import ABC, abstractmethod\n",
    "\n",
    "class CouponStrategy(ABC):\n",
    "    @abstractmethod\n",
    "    def apply_discount(self, price: int) -> int:\n",
    "        pass\n",
    "\n",
    "class PercentageDiscountCoupon(CouponStrategy):\n",
    "    def __init__(self, percentage: int):\n",
    "        self.percentage = percentage\n",
    "\n",
    "    def apply_discount(self, price: int) -> int:\n",
    "        return int(price * (1 - self.percentage / 100))\n",
    "\n",
    "class QuantityDiscountCoupon(CouponStrategy):\n",
    "    def apply_discount(self, price: int, items_count: int) -> int:\n",
    "        if items_count >= 10:\n",
    "            return int(price * 0.9)\n",
    "        return price\n",
    "\n",
    "class ShoppingCart:\n",
    "    def __init__(self, discount_strategy: CouponStrategy):\n",
    "        self.items = []\n",
    "        self.discount_strategy = discount_strategy\n",
    "\n",
    "    def add_item(self, item_name: str, price: int):\n",
    "        self.items.append((item_name, price))\n",
    "\n",
    "    def calculate_total(self) -> int:\n",
    "        total = sum(price for _, price in self.items)\n",
    "        return self.discount_strategy.apply_discount(total)"
   ]
  },
  {
   "cell_type": "markdown",
   "metadata": {},
   "source": [
    "QuantityDiscountCouponクラスのapply_discountメソッドのみ、\n",
    "\n",
    "items_countという引数を渡す必要があり、\n",
    "\n",
    "これは派生型で事前条件を強めていることになるので、LSPに違反する"
   ]
  },
  {
   "cell_type": "code",
   "execution_count": null,
   "metadata": {},
   "outputs": [
    {
     "name": "stdout",
     "output_type": "stream",
     "text": [
      "6300円\n"
     ]
    },
    {
     "ename": "TypeError",
     "evalue": "ignored",
     "output_type": "error",
     "traceback": [
      "\u001b[0;31m---------------------------------------------------------------------------\u001b[0m\n",
      "\n",
      "\u001b[0;31mTypeError\u001b[0m                                 Traceback (most recent call last)\n",
      "\n",
      "\u001b[0;32m<ipython-input-12-8dfb1fb6d3cc>\u001b[0m in \u001b[0;36m<cell line: 9>\u001b[0;34m()\u001b[0m\n",
      "\n",
      "\u001b[1;32m      7\u001b[0m \u001b[0mcart2\u001b[0m\u001b[0;34m.\u001b[0m\u001b[0madd_item\u001b[0m\u001b[0;34m(\u001b[0m\u001b[0;34m'Tシャツ'\u001b[0m\u001b[0;34m,\u001b[0m \u001b[0;36m2000\u001b[0m\u001b[0;34m)\u001b[0m\u001b[0;34m\u001b[0m\u001b[0;34m\u001b[0m\u001b[0m\n",
      "\n",
      "\u001b[1;32m      8\u001b[0m \u001b[0mcart2\u001b[0m\u001b[0;34m.\u001b[0m\u001b[0madd_item\u001b[0m\u001b[0;34m(\u001b[0m\u001b[0;34m'靴'\u001b[0m\u001b[0;34m,\u001b[0m \u001b[0;36m5000\u001b[0m\u001b[0;34m)\u001b[0m\u001b[0;34m\u001b[0m\u001b[0;34m\u001b[0m\u001b[0m\n",
      "\n",
      "\u001b[0;32m----> 9\u001b[0;31m \u001b[0mprint\u001b[0m\u001b[0;34m(\u001b[0m\u001b[0;34mf'{cart2.calculate_total()}円'\u001b[0m\u001b[0;34m)\u001b[0m\u001b[0;34m\u001b[0m\u001b[0;34m\u001b[0m\u001b[0m\n",
      "\n",
      "\u001b[0m\n",
      "\n",
      "\u001b[0;32m<ipython-input-11-d921f65d7bb9>\u001b[0m in \u001b[0;36mcalculate_total\u001b[0;34m(self)\u001b[0m\n",
      "\n",
      "\u001b[1;32m     29\u001b[0m     \u001b[0;32mdef\u001b[0m \u001b[0mcalculate_total\u001b[0m\u001b[0;34m(\u001b[0m\u001b[0mself\u001b[0m\u001b[0;34m)\u001b[0m \u001b[0;34m->\u001b[0m \u001b[0mint\u001b[0m\u001b[0;34m:\u001b[0m\u001b[0;34m\u001b[0m\u001b[0;34m\u001b[0m\u001b[0m\n",
      "\n",
      "\u001b[1;32m     30\u001b[0m         \u001b[0mtotal\u001b[0m \u001b[0;34m=\u001b[0m \u001b[0msum\u001b[0m\u001b[0;34m(\u001b[0m\u001b[0mprice\u001b[0m \u001b[0;32mfor\u001b[0m \u001b[0m_\u001b[0m\u001b[0;34m,\u001b[0m \u001b[0mprice\u001b[0m \u001b[0;32min\u001b[0m \u001b[0mself\u001b[0m\u001b[0;34m.\u001b[0m\u001b[0mitems\u001b[0m\u001b[0;34m)\u001b[0m\u001b[0;34m\u001b[0m\u001b[0;34m\u001b[0m\u001b[0m\n",
      "\n",
      "\u001b[0;32m---> 31\u001b[0;31m         \u001b[0;32mreturn\u001b[0m \u001b[0mself\u001b[0m\u001b[0;34m.\u001b[0m\u001b[0mdiscount_strategy\u001b[0m\u001b[0;34m.\u001b[0m\u001b[0mapply_discount\u001b[0m\u001b[0;34m(\u001b[0m\u001b[0mtotal\u001b[0m\u001b[0;34m)\u001b[0m\u001b[0;34m\u001b[0m\u001b[0;34m\u001b[0m\u001b[0m\n",
      "\n",
      "\u001b[0m\n",
      "\n",
      "\u001b[0;31mTypeError\u001b[0m: QuantityDiscountCoupon.apply_discount() missing 1 required positional argument: 'items_count'"
     ]
    }
   ],
   "source": [
    "# 使用例\n",
    "cart = ShoppingCart(PercentageDiscountCoupon(10))\n",
    "cart.add_item('Tシャツ', 2000)\n",
    "cart.add_item('靴', 5000)\n",
    "print(f'{cart.calculate_total()}円')\n",
    "\n",
    "cart2 = ShoppingCart(QuantityDiscountCoupon())\n",
    "cart2.add_item('Tシャツ', 2000)\n",
    "cart2.add_item('靴', 5000)\n",
    "print(f'{cart2.calculate_total()}円')"
   ]
  },
  {
   "cell_type": "code",
   "execution_count": null,
   "metadata": {},
   "outputs": [
    {
     "name": "stdout",
     "output_type": "stream",
     "text": [
      "5600円\n",
      "7000円\n"
     ]
    }
   ],
   "source": [
    "# 解答の一例\n",
    "from abc import ABC, abstractmethod\n",
    "\n",
    "class CouponStrategy(ABC):\n",
    "    @abstractmethod\n",
    "    def apply_discount(self, price: int, items_count: int = 0) -> int: # 引数を追加\n",
    "        pass\n",
    "\n",
    "class PercentageDiscountCoupon(CouponStrategy):\n",
    "    def __init__(self, percentage: int):\n",
    "        self.percentage = percentage\n",
    "\n",
    "    def apply_discount(self, price: int, items_count: int = 0) -> int:\n",
    "        return int(price * (1 - self.percentage / 100))\n",
    "\n",
    "class QuantityDiscountCoupon(CouponStrategy):\n",
    "  def apply_discount(self, price: int, items_count: int) -> int:\n",
    "        if items_count >= 10:\n",
    "            return int(price * 0.9)\n",
    "        return price\n",
    "\n",
    "class ShoppingCart:\n",
    "    def __init__(self, discount_strategy: CouponStrategy):\n",
    "        self.items = []\n",
    "        self.discount_strategy = discount_strategy\n",
    "\n",
    "    def add_item(self, item_name: str, price: int):\n",
    "        self.items.append((item_name, price))\n",
    "\n",
    "    def calculate_total(self) -> int:\n",
    "        total = sum(price for _, price in self.items)\n",
    "        items_count = len(self.items)\n",
    "        return self.discount_strategy.apply_discount(total, items_count)\n",
    "\n",
    "# 使用例\n",
    "cart = ShoppingCart(PercentageDiscountCoupon(20))\n",
    "cart.add_item('Tシャツ', 2000)\n",
    "cart.add_item('靴', 5000)\n",
    "print(f'{cart.calculate_total()}円')\n",
    "\n",
    "cart2 = ShoppingCart(QuantityDiscountCoupon())\n",
    "cart2.add_item('Tシャツ', 2000)\n",
    "cart2.add_item('靴', 5000)\n",
    "print(f'{cart2.calculate_total()}円')"
   ]
  },
  {
   "cell_type": "markdown",
   "metadata": {},
   "source": [
    "⑤ ④の解答のコードを、\n",
    "\n",
    "次のコードに記載されているクラスを活用して改善してください"
   ]
  },
  {
   "cell_type": "code",
   "execution_count": null,
   "metadata": {},
   "outputs": [],
   "source": [
    "class DiscountParameters:\n",
    "    def __init__(self, items: list):\n",
    "        self._items = items\n",
    "\n",
    "    @property\n",
    "    def total_price(self) -> int:\n",
    "        return sum(price for _, price in self._items)\n",
    "\n",
    "    @property\n",
    "    def item_count(self) -> int:\n",
    "        return len(self._items)"
   ]
  },
  {
   "cell_type": "markdown",
   "metadata": {},
   "source": [
    "④で見たコードは、1つの派生型でしか使わない引数を、\n",
    "\n",
    "すべての派生型で実装するように強制してしまっている\n",
    "\n",
    "⇒　ある派生型に固有の引数が増えるたびに、\n",
    "\n",
    "　　すべての派生型の引数の変更が必要になってしまう"
   ]
  },
  {
   "cell_type": "markdown",
   "metadata": {},
   "source": [
    "この問題は、**Parameter Object（Options Object）**パターンで解決できる"
   ]
  },
  {
   "cell_type": "markdown",
   "metadata": {},
   "source": [
    "### Parameter Object（Options Object）パターン"
   ]
  },
  {
   "cell_type": "markdown",
   "metadata": {},
   "source": [
    "複数のパラメータ（引数）を、１つのオブジェクトにまとめることで隠蔽するパターン"
   ]
  },
  {
   "cell_type": "code",
   "execution_count": null,
   "metadata": {},
   "outputs": [
    {
     "name": "stdout",
     "output_type": "stream",
     "text": [
      "6300円\n",
      "7000円\n"
     ]
    }
   ],
   "source": [
    "from abc import ABC, abstractmethod\n",
    "\n",
    "# 引数のクラスを用意\n",
    "class DiscountParameters:\n",
    "    def __init__(self, items: list):\n",
    "        self._items = items\n",
    "\n",
    "    @property\n",
    "    def total_price(self) -> int:\n",
    "        return sum(price for _, price in self._items)\n",
    "\n",
    "    @property\n",
    "    def item_count(self) -> int:\n",
    "        return len(self._items)\n",
    "\n",
    "class CouponStrategy(ABC):\n",
    "    @abstractmethod\n",
    "    def apply_discount(self, context: DiscountParameters) -> int: # 引数をオブジェクトにする\n",
    "        pass\n",
    "\n",
    "class PercentageDiscountCoupon(CouponStrategy):\n",
    "    def __init__(self, percentage: int):\n",
    "        self.percentage = percentage\n",
    "\n",
    "    def apply_discount(self, context: DiscountParameters) -> int:\n",
    "        return int(context.total_price * (1 - self.percentage / 100)) # 必要な属性だけを利用\n",
    "\n",
    "class QuantityDiscountCoupon(CouponStrategy):\n",
    "    def apply_discount(self, context: DiscountParameters) -> int:\n",
    "        if context.item_count >= 10:\n",
    "            return int(context.total_price * 0.9)\n",
    "        return context.total_price\n",
    "\n",
    "class ShoppingCart:\n",
    "    def __init__(self, discount_strategy: CouponStrategy):\n",
    "        self.items = []\n",
    "        self.discount_strategy = discount_strategy\n",
    "\n",
    "    def add_item(self, item_name: str, price: int):\n",
    "        self.items.append((item_name, price))\n",
    "\n",
    "    def calculate_total(self) -> int:\n",
    "        context = DiscountParameters(self.items) # パラメータオブジェクトを生成\n",
    "        return self.discount_strategy.apply_discount(context) # パラメータオブジェクトだけ渡す\n",
    "\n",
    "# 使用例\n",
    "cart = ShoppingCart(PercentageDiscountCoupon(10))\n",
    "cart.add_item('Tシャツ', 2000)\n",
    "cart.add_item('靴', 5000)\n",
    "print(f'{cart.calculate_total()}円')\n",
    "\n",
    "cart2 = ShoppingCart(QuantityDiscountCoupon())\n",
    "cart2.add_item('Tシャツ', 2000)\n",
    "cart2.add_item('靴', 5000)\n",
    "print(f'{cart2.calculate_total()}円')"
   ]
  },
  {
   "cell_type": "markdown",
   "metadata": {},
   "source": [
    "ついでに、**Null Objectパターン**についても解説"
   ]
  },
  {
   "cell_type": "markdown",
   "metadata": {},
   "source": [
    "### Null Objectパターン"
   ]
  },
  {
   "cell_type": "markdown",
   "metadata": {},
   "source": [
    "上記のコードでは、割引がない場合の処理が不足している\n",
    "\n",
    "次のようにNoneで対処することもできるが、\n",
    "\n",
    "なるべくNoneはコードから追い出す方が望ましい\n",
    "\n",
    "\n"
   ]
  },
  {
   "cell_type": "code",
   "execution_count": null,
   "metadata": {},
   "outputs": [
    {
     "name": "stdout",
     "output_type": "stream",
     "text": [
      "7000円\n"
     ]
    }
   ],
   "source": [
    "class ShoppingCart:\n",
    "    def __init__(self, discount_strategy: CouponStrategy = None):\n",
    "        self.items = []\n",
    "        self.discount_strategy = discount_strategy\n",
    "\n",
    "    # 以下略\n",
    "    def add_item(self, item_name: str, price: int):\n",
    "        self.items.append((item_name, price))\n",
    "\n",
    "    def calculate_total(self) -> int:\n",
    "        context = DiscountParameters(self.items)\n",
    "        # クーポンの使用があるかどうかでの条件分岐\n",
    "        if self.discount_strategy is not None:\n",
    "            return self.discount_strategy.apply_discount(context)\n",
    "        return context.total_price\n",
    "\n",
    "cart = ShoppingCart()\n",
    "cart.add_item('Tシャツ', 2000)\n",
    "cart.add_item('靴', 5000)\n",
    "print(f'{cart.calculate_total()}円')"
   ]
  },
  {
   "cell_type": "markdown",
   "metadata": {},
   "source": [
    "Null Objectパターンを使うことで、\n",
    "\n",
    "Noneチェックの条件分岐をなくして、他のクーポンと同様に扱えるようになる"
   ]
  },
  {
   "cell_type": "code",
   "execution_count": null,
   "metadata": {},
   "outputs": [
    {
     "name": "stdout",
     "output_type": "stream",
     "text": [
      "7000円\n"
     ]
    }
   ],
   "source": [
    "# Null Object（他の派生型と同じインターフェースを持ったNoneの表現）\n",
    "class NoCoupon(CouponStrategy):\n",
    "    def apply_discount(self, context: DiscountParameters) -> int:\n",
    "        return context.total_price\n",
    "\n",
    "class ShoppingCart:\n",
    "    def __init__(self, discount_strategy: CouponStrategy):\n",
    "        self.items = []\n",
    "        self.discount_strategy = discount_strategy\n",
    "\n",
    "    def add_item(self, item_name: str, price: int):\n",
    "        self.items.append((item_name, price))\n",
    "\n",
    "    def calculate_total(self) -> int:\n",
    "        # クーポンなしの場合も同様に扱えるようになる\n",
    "        context = DiscountParameters(self.items)\n",
    "        return self.discount_strategy.apply_discount(context)\n",
    "\n",
    "cart = ShoppingCart(NoCoupon()) # クーポンなしの場合\n",
    "cart.add_item('Tシャツ', 2000)\n",
    "cart.add_item('靴', 5000)\n",
    "print(f'{cart.calculate_total()}円')"
   ]
  }
 ],
 "metadata": {
  "language_info": {
   "name": "python"
  }
 },
 "nbformat": 4,
 "nbformat_minor": 2
}
