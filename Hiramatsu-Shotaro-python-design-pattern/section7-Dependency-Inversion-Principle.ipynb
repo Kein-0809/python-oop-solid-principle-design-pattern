{
 "cells": [
  {
   "cell_type": "markdown",
   "metadata": {},
   "source": [
    "# 依存関係逆転の原則（**D**ependency Inversion Principle：DIP）"
   ]
  },
  {
   "cell_type": "markdown",
   "metadata": {},
   "source": [
    "**上位のモジュールは、下位のモジュールに依存してはならない。どちらのモジュールも抽象に依存すべきである。**\n",
    "\n",
    "**抽象は実装の詳細に依存してはならない。実装の詳細が抽象に依存すべきである。**"
   ]
  },
  {
   "cell_type": "markdown",
   "metadata": {},
   "source": [
    "**上位のモジュール**\n",
    "\n",
    "⇒　人間に近い処理を担当（例：ビジネスのルール、アプリケーションのユースケース、など）\n",
    "\n",
    "⇒　アプリケーションの**目的**（なぜ存在するのか？）を体現する\n",
    "\n",
    "\n"
   ]
  },
  {
   "cell_type": "markdown",
   "metadata": {},
   "source": [
    "**下位のモジュール**\n",
    "\n",
    "⇒　コンピュータに近い処理を担当（例：データベースアクセス、アルゴリズム、外部との通信、など）\n",
    "\n",
    "⇒　アプリケーションの目的達成の**手段**（どう実現するのか？）を体現する"
   ]
  },
  {
   "cell_type": "markdown",
   "metadata": {},
   "source": [
    "次のコードでは、\n",
    "\n",
    "上位モジュールである注文処理（process_order）が\n",
    "\n",
    "*   ユーザーの有効性チェック\n",
    "*   在庫チェック\n",
    "*   支払い処理\n",
    "*   在庫更新処理\n",
    "\n",
    "といった、データベースアクセスや外部サービスの利用などを伴う、\n",
    "\n",
    "下位モジュールから構成されている"
   ]
  },
  {
   "cell_type": "code",
   "execution_count": null,
   "metadata": {},
   "outputs": [],
   "source": [
    "# eコマースの注文処理\n",
    "\n",
    "# 下位モジュール\n",
    "def validate_user(user_name: str) -> bool:\n",
    "    # ユーザーの有効性をチェック\n",
    "    pass\n",
    "\n",
    "# 下位モジュール\n",
    "def check_stock(product_name: str) -> bool:\n",
    "    # 在庫をチェック\n",
    "    pass\n",
    "\n",
    "# 下位モジュール\n",
    "def make_payment(user_name: str, product_name: str) -> bool:\n",
    "    # 支払いを処理\n",
    "    pass\n",
    "\n",
    "# 下位モジュール\n",
    "def update_stock(product_name: str) -> None:\n",
    "    # 在庫を更新\n",
    "    pass\n",
    "\n",
    "# 上位モジュール (下位のモジュールに依存している) → 下位のモジュールを使用しなげればならないから\n",
    "# 上位モジュールが下位モジュールの変更などによって大きな影響を受ける\n",
    "def process_order(user_name: str, product_name: str) -> str:\n",
    "    if not validate_user(user_name):\n",
    "        return '無効なユーザーです。'\n",
    "    if not check_stock(product_name):\n",
    "        return '在庫切れです。'\n",
    "    if not make_payment(user_name, product_name):\n",
    "        return '購入額が足りません。'\n",
    "\n",
    "    update_stock(product_name)\n",
    "    return '注文処理が完了しました。'"
   ]
  },
  {
   "cell_type": "markdown",
   "metadata": {},
   "source": [
    "## 構造化プログラミングと依存の方向性"
   ]
  },
  {
   "cell_type": "markdown",
   "metadata": {},
   "source": [
    "オブジェクト指向プログラミング以前の、構造化プログラミングでは、\n",
    "\n",
    "大きな機能を、複数の小さな機能に分解するような設計を行っていたため、\n",
    "\n",
    "上位モジュールが下位モジュールに依存しやすかった"
   ]
  },
  {
   "cell_type": "markdown",
   "metadata": {},
   "source": [
    "上記のような、注文処理を実装する場合、\n",
    "\n",
    "*   ユーザーの有効性チェック\n",
    "*   在庫チェック\n",
    "*   支払い処理\n",
    "*   在庫更新処理\n",
    "\n",
    "といった機能に分解して、それぞれの機能を分担して開発する\n",
    "\n",
    "⇒　このやり方だと、上位モジュールが下位モジュールに依存することになる\n",
    "\n",
    "⇒　**下位モジュールの変更に、上位モジュールが影響を受ける**構造\n"
   ]
  },
  {
   "cell_type": "markdown",
   "metadata": {},
   "source": [
    "しかし、上位モジュールが下位モジュールの変更に影響を受けるのは、おかしな話\n",
    "\n",
    "⇒　言うなれば、手段の変更によって、目的を変えなければいけなくなるようなもの\n",
    "\n",
    "⇒　レストランの店員「電子マネー決済なら(手段: 下位モジュール)、ハンバーグは注文できないですね(目的: 上位モジュール)」\n",
    "\n",
    "\n"
   ]
  },
  {
   "cell_type": "markdown",
   "metadata": {},
   "source": [
    "構造化プログラミングの時代から、依存の方向性を「**逆転**」させて、\n",
    "\n",
    "常に手段（下位モジュール）が目的（上位モジュール）に依存するべき\n",
    "\n",
    "\n",
    "\n",
    "⇒　これを達成するための原則が、DIP"
   ]
  },
  {
   "cell_type": "markdown",
   "metadata": {},
   "source": [
    "上位のモジュールは、下位のモジュールに依存してはならない。どちらのモジュールも**抽象に依存すべき**である。\n",
    "\n",
    "抽象は実装の詳細に依存してはならない。**実装の詳細が抽象に依存すべき**である。"
   ]
  },
  {
   "cell_type": "markdown",
   "metadata": {},
   "source": [
    "## 抽象への依存とは"
   ]
  },
  {
   "cell_type": "markdown",
   "metadata": {},
   "source": [
    "抽象への依存とは、Pythonにおいては、**抽象クラスへの依存**の意味\n",
    "\n",
    "インターフェースのある言語では、インターフェースへの依存も含む\n",
    "\n"
   ]
  },
  {
   "cell_type": "markdown",
   "metadata": {},
   "source": [
    "次のコードにおいて、\n",
    "\n",
    "*   具象クラス(サブクラス・継承先)（EmailNotification, SMSNotification）\n",
    "*   notify関数\n",
    "\n",
    "はどちらも、抽象クラス（AbstractNotification）に依存している"
   ]
  },
  {
   "cell_type": "code",
   "execution_count": null,
   "metadata": {},
   "outputs": [],
   "source": [
    "from abc import ABC, abstractmethod\n",
    "\n",
    "# 上位のモジュール (理由: インターフェース自体には具体的な実装は記述されないから) (何らかの通知を送るという情報だけ)\n",
    "class AbstractNotification(ABC): # 抽象クラス・インターフェースの役割\n",
    "    @abstractmethod\n",
    "    def send(self, user_id: int) -> None:\n",
    "        pass\n",
    "\n",
    "# 下位のモジュール (理由: 具体的にどのような通知を送信するのかを記述するから) (メールで通知を送信するという具体的な実装を記述する)\n",
    "class EmailNotification(AbstractNotification): # 具象クラス\n",
    "    def send(self, user_id: int) -> None:\n",
    "        # メールで通知を送信\n",
    "        print('メール')\n",
    "\n",
    "# 下位のモジュール (理由: 具体的にどのような通知を送信するのかを記述するから) (SMSで通知を送信するという具体的な実装を記述する)\n",
    "class SMSNotification(AbstractNotification): # 具象クラス\n",
    "    def send(self, user_id: int) -> None:\n",
    "        # SMSで通知を送信\n",
    "        print('SMS')\n",
    "\n",
    "# 上位モジュール (理由: 通知を送るという最終的な目的を表すから) (最終的に決定された何らかの通知を送るという目的を表す)\n",
    "def notify(user_id: int, notification: AbstractNotification):\n",
    "    notification.send(user_id)"
   ]
  },
  {
   "cell_type": "markdown",
   "metadata": {},
   "source": [
    "モジュールAがモジュールBに依存していることを「A → B」で表すと、\n",
    "\n",
    "```\n",
    "notify (上位モジュール) → AbstractNotification (notifyのインターフェース) (B: 上位モジュール)\n",
    "                                ↑\n",
    "                        EmailNotification, SMSNotification (A: 下位モジュール)\n",
    "\n",
    "```\n",
    "\n"
   ]
  },
  {
   "cell_type": "markdown",
   "metadata": {},
   "source": [
    "この例では、\n",
    "\n",
    "*   上位モジュール：notify関数（とnotify関数が使うインターフェース(AbstractNotification)）\n",
    "*   下位モジュール：具象クラス(EmailNotification, SMSNotification)\n",
    "\n",
    "なので、下位モジュールが上位モジュールに依存していると言える\n",
    "\n",
    "⇒　依存関係「逆転」"
   ]
  },
  {
   "cell_type": "markdown",
   "metadata": {},
   "source": [
    "### 抽象に依存するメリット・デメリット"
   ]
  },
  {
   "cell_type": "markdown",
   "metadata": {},
   "source": [
    "抽象に依存すると、\n",
    "\n",
    "*   下位モジュール(手段)の変更が、上位モジュール(目的)に及ばなくなる\n",
    "*   具象クラスよりも、抽象クラスの方が変更されづらい\n",
    "*   具象クラスを切り替えられるようになる（OCPの実現、LSPは前提）\n",
    "\n",
    "ので、変更に強いコードになる\n",
    "\n"
   ]
  },
  {
   "cell_type": "markdown",
   "metadata": {},
   "source": [
    "また、具象クラスに依存しないので、\n",
    "\n",
    "*   共同開発がしやすくなる\n",
    "*   テストがしやすくなる\n",
    "\n",
    "というメリットもある"
   ]
  },
  {
   "cell_type": "markdown",
   "metadata": {},
   "source": [
    "下記のコードでは、\n",
    "\n",
    "Orderクラスが、AbstractPaymentクラスに依存している。\n",
    "\n",
    "そのため、AbastractPaymentを継承した具象クラスを好きに切り替えることができて、手段を変更しても目的に影響が及ばない\n",
    "\n",
    "開発中のテストの側面で見たとき、継承した具体的な決済のクラスがいくつか定義されるが、この決済のクラスの実装っていうのは結構時間がかる場合がある。\n",
    "\n",
    "もし仮にこのオーダークラスが具体的な決済のクラスに依存してしまうとなると、具体的な決済のクラスの完成には時間がかかり、不完全な未完成な部品に依存しなければならなくなってしまう。\n",
    "\n",
    "そうすると、このオーダークラスの機能が正常に実装されているかのテストがしづらくなってしまう。\n",
    "\n",
    "なぜなら、Orderクラスの振る舞いに何か間違いがあった時、それがOrderクラスの実装の間違いから来ているのか、もしくは未完成な具体的な決済のクラスから来ているのかっていうのが判断しづらくなってしまう。\n",
    "\n",
    "だから抽象への依存を使ってこのような問題を解決することができる"
   ]
  },
  {
   "cell_type": "code",
   "execution_count": null,
   "metadata": {},
   "outputs": [],
   "source": [
    "from abc import ABC, abstractmethod\n",
    "\n",
    "class AbstractPayment(ABC):\n",
    "    @abstractmethod\n",
    "    def pay(self, amount: int) -> bool:\n",
    "        pass\n",
    "\n",
    "# 支払い機能のモック、テスト用としても機能する (具象クラス: 手段・下位モジュール)\n",
    "class MockPayment(AbstractPayment):\n",
    "    def pay(self, amount: int) -> bool:\n",
    "        return True\n",
    "    \n",
    "# # 具象クラス (手段・下位モジュール)\n",
    "# # テストをする時にまだ実装されていない(開発中)\n",
    "# class CreditCardPayment(AbstractPayment):\n",
    "#     def pay(self, amount: int) -> bool:\n",
    "#         return False\n",
    "\n",
    "# # 具象クラス (手段・下位モジュール)\n",
    "# # テストをする時にまだ実装されていない(開発中)\n",
    "# class CashPayment(AbstractPayment):\n",
    "#     def pay(self, amount: int) -> bool:\n",
    "#         return True\n",
    "\n",
    "# 具体的な支払い処理の実装の完成を待たずとも、クライアントの実装と動作確認を行える (上位モジュール)\n",
    "class Order:\n",
    "    def __init__(self, payment: AbstractPayment) -> None:\n",
    "        self._payment = payment"
   ]
  },
  {
   "cell_type": "markdown",
   "metadata": {},
   "source": [
    "抽象クラスを定義する必要があるので、コードが増えるのがデメリットと言えるが、\n",
    "\n",
    "その他の原則と同じく、正しく適用できれば、基本的にはメリットが上回る"
   ]
  },
  {
   "cell_type": "markdown",
   "metadata": {},
   "source": [
    "## Dependency Injection（依存性の注入、DI）パターン"
   ]
  },
  {
   "cell_type": "markdown",
   "metadata": {},
   "source": [
    "DIPと関係の深いデザインパターンとして、\n",
    "\n",
    "**Dependency Injection（依存性の注入、DI）パターン**がある"
   ]
  },
  {
   "cell_type": "markdown",
   "metadata": {},
   "source": [
    "その名の通り、依存関係をモジュールの外部から注入するパターン\n",
    "\n",
    "依存関係を注入することで、動的に依存関係を変更することができる\n"
   ]
  },
  {
   "cell_type": "markdown",
   "metadata": {},
   "source": [
    "DIパターンを使った手法の手順 (メソッドで注入するパターン)\n",
    "\n",
    "1. 抽象クラスを定義する (AbstractNotification)\n",
    "\n",
    "2. 抽象クラスを継承する具象クラスを定義する (EmailNotification, SMSNotification)\n",
    "\n",
    "3. DIパターンを使用するための器となる関数(抽象クラスに依存する・抽象クラスを使用する)を定義する。器となる関数の中には、手段として使用する具象クラスを注入するために、具象クラスが継承した同じ抽象クラスを引数として受取り、関数内で使用できるようにする (notify関数の引数の\"notification: AbstractNotification\" と メソッドの引数の\"self.notification.send(user_id)\"の\"notification\"の部分)\n",
    "\n",
    "4. 関数の呼び出し時に、具象クラスへの依存を注入する(器となる関数に具象クラスのインスタンスを引数として渡す) (notify関数の呼び出し時にEmailNotificationもしくはSMSNotificationを渡す)\n"
   ]
  },
  {
   "cell_type": "code",
   "execution_count": null,
   "metadata": {},
   "outputs": [
    {
     "name": "stdout",
     "output_type": "stream",
     "text": [
      "メール\n",
      "SMS\n"
     ]
    }
   ],
   "source": [
    "# DIパターンのメソッドで注入するパターン\n",
    "\n",
    "from abc import ABC, abstractmethod\n",
    "\n",
    "# 抽象クラス\n",
    "class AbstractNotification(ABC):\n",
    "    @abstractmethod\n",
    "    def send(self, user_id: int) -> None:\n",
    "        pass\n",
    "\n",
    "# 具象クラス\n",
    "class EmailNotification(AbstractNotification):\n",
    "    def send(self, user_id: int) -> None:\n",
    "        # メールで通知を送信\n",
    "        print('メール')\n",
    "\n",
    "# 具象クラス\n",
    "class SMSNotification(AbstractNotification):\n",
    "    def send(self, user_id: int) -> None:\n",
    "        # SMSで通知を送信\n",
    "        print('SMS')\n",
    "\n",
    "# 抽象クラスに依存する(抽象クラスを使用する)関数 (DIパターンを使用するための器となる関数)\n",
    "# \"notify\"関数の定義時にはどの具象クラスに依存するかはまだ決まっていない (\"send\"メソッドを呼び出すときに具体的な具象クラスを注入する)\n",
    "def notify(user_id: int, notification: AbstractNotification):\n",
    "    notification.send(user_id)\n",
    "\n",
    "\n",
    "notification1 = EmailNotification()\n",
    "notification2 = SMSNotification()\n",
    "\n",
    "# 関数の呼び出し時に具象クラスへの依存を注入する (引数に入れる = 注入する)\n",
    "notify(1, notification1) # メールで通知を送信 (EmailNotificationを注入)\n",
    "notify(2, notification2) # SMSで通知を送信 (SMSNotificationを注入)"
   ]
  },
  {
   "cell_type": "markdown",
   "metadata": {},
   "source": [
    "モジュールの定義時には、抽象に依存しておいて（DIP）、\n",
    "\n",
    "実行時に具象への依存をモジュールに注入する（DI）ことで、\n",
    "\n",
    "依存関係を動的に決定することができる\n",
    "\n",
    "⇒　OCPが実現できる（ただし、LSPは前提）"
   ]
  },
  {
   "cell_type": "markdown",
   "metadata": {},
   "source": [
    "**ちょっとクイズ**\n",
    "\n",
    "次のコードは、DIPに違反しています\n",
    "\n",
    "DIPを満たすようにした上で、\n",
    "\n",
    "DIパターンを使って、FastSwimmingとSlowSwimmingを\n",
    "\n",
    "Fishオブジェクトの生成時に切り替えられるようにしてください"
   ]
  },
  {
   "cell_type": "code",
   "execution_count": null,
   "metadata": {},
   "outputs": [],
   "source": [
    "# 元のコード\n",
    "class FastSwimming:\n",
    "    def swim(self) -> str:\n",
    "        return '速く泳ぎます'\n",
    "\n",
    "class SlowSwimming:\n",
    "    def swim(self) -> str:\n",
    "        return 'ゆっくり泳ぎます'\n",
    "\n",
    "class Fish:\n",
    "    def __init__(self) -> None:\n",
    "        self.swimming_behaviour = FastSwimming()\n",
    "\n",
    "    def swim(self) -> None:\n",
    "        print(f'魚が{self.swimming_behaviour.swim()}')"
   ]
  },
  {
   "cell_type": "markdown",
   "metadata": {},
   "source": [
    "解答の一例としては、次のようなコードになる\n",
    "\n",
    "DIパターンを使った手法の手順 (コンストラクタで注入するパターン)\n",
    "\n",
    "1. 抽象クラスを定義する (SwimmingBehaviour)\n",
    "\n",
    "2. 抽象クラスを継承する具象クラスを定義する (FastSwimming, SlowSwimming)\n",
    "\n",
    "3. DIパターンを使用するための器となるクラス(抽象クラスに依存する・抽象クラスを使用する)を定義し、そのクラスのコンストラクタで手段として使用する具象クラスが継承したものと同じ抽象クラスを引数に受取り、DIパターンを使用するための器となるクラスのインスタンス化時に、注入するクラスを同時にインスタンス化する\n",
    "\n",
    "\t```\n",
    "\tdef __init__(self, swimming_type: SwimmingBehaviour) -> None:\n",
    "\t\tself.swimming_behaviour = swimming_type\n",
    "\t```\n",
    "\n",
    "4. 抽象クラスに依存する(抽象クラスを使用する)関数を定義する。DIパターンを使用するための器となるクラスのコンストラクタ内でインスタンス化した抽象クラスをメソッド内で使用する (Fishクラスの__init__メソッドの引数の\"swimming_type: SwimmingBehaviour\")\t\n",
    "\n",
    "5. DIパターンを使用するための器となるクラスのインスタンス化時に、引数に具象クラスを注入する(具象クラスの引数を渡す) (Fishクラスのインスタンス化時にFastSwimmingもしくはSlowSwimmingを渡す)\n",
    "\n",
    "6. DIパターンを使用するための器となるクラスが抽象クラスに依存する(抽象クラスを使用する)関数を呼び出す (fast_fish.swim()やslow_fish.swim())\n"
   ]
  },
  {
   "cell_type": "code",
   "execution_count": null,
   "metadata": {},
   "outputs": [
    {
     "name": "stdout",
     "output_type": "stream",
     "text": [
      "魚が速く泳ぎます\n",
      "魚がゆっくり泳ぎます\n"
     ]
    }
   ],
   "source": [
    "# DIパターンのコンストラクタで注入するパターン\n",
    "\n",
    "from abc import ABC, abstractmethod\n",
    "\n",
    "# 抽象クラス\n",
    "class SwimmingBehaviour(ABC):\n",
    "    @abstractmethod\n",
    "    def swim(self) -> str:\n",
    "        pass\n",
    "\n",
    "# 具象クラス\n",
    "class FastSwimming(SwimmingBehaviour):\n",
    "    def swim(self) -> str:\n",
    "        return '速く泳ぎます'\n",
    "\n",
    "# 具象クラス\n",
    "class SlowSwimming(SwimmingBehaviour):\n",
    "    def swim(self) -> str:\n",
    "        return 'ゆっくり泳ぎます'\n",
    "\n",
    "# 抽象クラスに依存する(抽象クラスを使用する)クラス (DIパターンを使用するための器となるクラス)\n",
    "class Fish:\n",
    "    # コンストラクタでDIパターンを使用して、抽象クラスに依存する\n",
    "    def __init__(self, swimming_type: SwimmingBehaviour) -> None:\n",
    "        self.swimming_behaviour = swimming_type\n",
    "\n",
    "    def swim(self) -> None:\n",
    "        print(f'魚が{self.swimming_behaviour.swim()}')\n",
    "\n",
    "# Fishオブジェクトの初期化時に、依存性を注入する\n",
    "fast_fish = Fish(FastSwimming())\n",
    "fast_fish.swim()\n",
    "\n",
    "slow_fish = Fish(SlowSwimming())\n",
    "slow_fish.swim()"
   ]
  },
  {
   "cell_type": "markdown",
   "metadata": {},
   "source": [
    "依存性を注入する方法としては、\n",
    "\n",
    "*   コンストラクタ (魚の例のときのコード)\n",
    "*   メソッドの引数 (notify関数のときのコード)\n",
    "\n",
    "などがあるが、コンストラクタから注入されることが一番多い\n",
    "\n",
    "より詳しくは、[Dependency Injection Principles, Practices, and Patterns](https://hiramatsuu.com/archives/1433)を参照"
   ]
  },
  {
   "cell_type": "markdown",
   "metadata": {},
   "source": [
    "## DIPの主な適用場所"
   ]
  },
  {
   "cell_type": "markdown",
   "metadata": {},
   "source": [
    "**データベースアクセスや、外部サービスの利用などの、**\n",
    "\n",
    "**技術的な詳細を扱う場合には、基本的にDIPを適用する**\n"
   ]
  },
  {
   "cell_type": "markdown",
   "metadata": {},
   "source": [
    "ユーザーの新規作成を例にして、\n",
    "\n",
    "データベースアクセスを行ういくつかの方法について見てみましょう"
   ]
  },
  {
   "cell_type": "code",
   "execution_count": null,
   "metadata": {},
   "outputs": [],
   "source": [
    "#　最悪の方法（SQLをコードにベタ書き）\n",
    "class User:\n",
    "    def __init__(self, name: str):\n",
    "        self.name = name\n",
    "\n",
    "class UserApplicationService:\n",
    "    # ユーザーの新規作成を行うメソッド\n",
    "    def register_user(self, name: str) -> None:\n",
    "        user = User(name)\n",
    "\n",
    "        # データベースに接続する処理\n",
    "        query = f\"INSERT INTO users (name) VALUES ('{user.name}')\"\n",
    "        # クエリの検証・実行、データベースの開放処理\n",
    "\n",
    "# 使用例\n",
    "user_application_service = UserApplicationService()\n",
    "user_application_service.register_user('ユーザー')"
   ]
  },
  {
   "cell_type": "markdown",
   "metadata": {},
   "source": [
    "上記のコードは、次のような問題点がある\n",
    "\n",
    "*   register_userメソッドの責務は、ユーザーの登録のはずなのに、データベース操作の責務も持ってしまっている\n",
    "*   データベースが変わったときに、register_userメソッドを変更する必要がある\n",
    "*   データベースと密結合しているため、register_userメソッドのユニットテストが難しい\n"
   ]
  },
  {
   "cell_type": "code",
   "execution_count": null,
   "metadata": {},
   "outputs": [],
   "source": [
    "# クラスを適用した方法\n",
    "class User:\n",
    "    def __init__(self, name: str):\n",
    "        self.name = name\n",
    "\n",
    "# Repositoryパターン (手段・下位モジュール)\n",
    "class SQLiteUserRepository:\n",
    "    def add(self, user: User) -> None:\n",
    "        # データベースに接続する処理\n",
    "        query = f\"INSERT INTO users (name) VALUES ('{user.name}')\"\n",
    "        # クエリの検証・実行、データベースの開放処理\n",
    "\n",
    "# ユーザーのユースケースを表現するクラス (目的・上位モジュール)\n",
    "class UserApplicationService:\n",
    "    def __init__(self):\n",
    "        self.repository = SQLiteUserRepository() # 抽象に依存している (手段・下位モジュール)\n",
    "\n",
    "    def register_user(self, name: str) -> None:\n",
    "        user = User(name)\n",
    "        self.repository.add(user)\n",
    "\n",
    "# 使用例\n",
    "user_application_service = UserApplicationService()\n",
    "user_application_service.register_user('ユーザー')"
   ]
  },
  {
   "cell_type": "markdown",
   "metadata": {},
   "source": [
    "上記のコードは、前述のコードと比較して\n",
    "\n",
    "*   データベース操作をSQLiteUserRepositoryクラスで抽象化した\n",
    "*   その結果、データベース操作の責務がSQLiteUserRepositoryクラスに分割された\n",
    "\n",
    "\n"
   ]
  },
  {
   "cell_type": "markdown",
   "metadata": {},
   "source": [
    "これは、ドメイン駆動設計の**Repositoryパターン**と呼ばれる設計パターン\n",
    "\n",
    "⇒　データベース操作用のクラスを用意することで、データベース操作の詳細を隠蔽する"
   ]
  },
  {
   "cell_type": "markdown",
   "metadata": {},
   "source": [
    "一方で、次のような問題点もある\n",
    "*   UserApplicationServiceという上位モジュールが、SQLiteUserRepositoryという下位モジュールに依存している\n",
    "*   データベースを動的に切り替えることができず、ユニットテストがしづらい"
   ]
  },
  {
   "cell_type": "markdown",
   "metadata": {},
   "source": [
    "上記の問題点を解決するために、DIPを適用する\n",
    "\n",
    "DIパターンを使った手法の手順 (コンストラクタで注入してメソッドで使用するパターン)\n",
    "\n",
    "1. 抽象クラスを定義する (UserRepository)\n",
    "\n",
    "2. 抽象クラスを継承する具象クラスを定義する (SQLiteUserRepository, InMemoryUserRepository)\n",
    "\n",
    "3. DIパターンを使用するための器となるクラス(抽象クラスに依存する・抽象クラスを使用する)を定義し、そのクラスのコンストラクタで手段として使用する具象クラスが継承したものと同じ抽象クラスを引数に受取り、DIパターンを使用するための器となるクラスのインスタンス化時に、注入するクラスを同時にインスタンス化する\n",
    "\n",
    "\t```\n",
    "\tdef __init__(self, repository: UserRepository): # 抽象に依存、DIパターン\n",
    "    self.repository = repository\n",
    "\t```\n",
    "\n",
    "4. 抽象クラスに依存する(抽象クラスを使用する)関数を定義する。DIパターンを使用するための器となるクラスのコンストラクタ内でインスタンス化した抽象クラスをメソッド内で使用する\n",
    "\n",
    "\t```\n",
    "\tdef register_user(self, name: str) -> None:\n",
    "\t\tuser = User(name)\n",
    "\t\tself.repository.add(user)\n",
    "\t```\n",
    "\n",
    "5. DIパターンを使用するための器となるクラスのインスタンス化時に、引数に具象クラスを注入する(具象クラスの引数を渡す) (UserApplicationServiceクラスのインスタンス化時に引数として、SQLiteUserRepositoryもしくはInMemoryUserRepositoryのインスタンスを渡す)\n",
    "\n",
    "6. DIパターンを使用するための器となるクラスが抽象クラスに依存する(抽象クラスを使用する)関数を呼び出す (user_application_service.register_user('ユーザー') もしくは user_application_service.register_user('ユーザー'))"
   ]
  },
  {
   "cell_type": "code",
   "execution_count": null,
   "metadata": {},
   "outputs": [],
   "source": [
    "#　DIPを適用した方法\n",
    "\n",
    "from abc import ABC, abstractmethod\n",
    "\n",
    "class User:\n",
    "    def __init__(self, name: str):\n",
    "        self.name = name\n",
    "\n",
    "\n",
    "# リポジトリの抽象を用意する\n",
    "# 抽象クラス\n",
    "class UserRepository(ABC):\n",
    "    @abstractmethod\n",
    "    def add(self, user: User) -> None:\n",
    "        pass\n",
    "\n",
    "\n",
    "# SQLiteのリポジトリ\n",
    "# 具象クラス\n",
    "class SQLiteUserRepository(UserRepository):\n",
    "    def add(self, user: User) -> None:\n",
    "        # データベースに接続する処理\n",
    "        query = f\"INSERT INTO users (name) VALUES ('{user.name}')\"\n",
    "        # クエリの検証・実行、データベースの開放処理\n",
    "\n",
    "\n",
    "# インメモリのリポジトリ\n",
    "# 具象クラス\n",
    "class InMemoryUserRepository(UserRepository):\n",
    "    def __init__(self):\n",
    "        self.users = []\n",
    "\n",
    "    def add(self, user: User) -> None:\n",
    "        self.users.append(user)\n",
    "\n",
    "\n",
    "# ユーザーのユースケースを表現するクラス\n",
    "# 抽象に依存する(抽象クラスを使用する)クラス (DIパターンを使用するための器となるクラス)\n",
    "class UserApplicationService:\n",
    "    def __init__(self, repository: UserRepository): # 抽象に依存、DIパターン\n",
    "        self.repository = repository\n",
    "\n",
    "    # 抽象に依存する(抽象クラスを使用する)関数\n",
    "    def register_user(self, name: str) -> None:\n",
    "        user = User(name)\n",
    "        self.repository.add(user)\n",
    "\n",
    "# 使用例\n",
    "sqlite_repository = SQLiteUserRepository()\n",
    "user_application_service = UserApplicationService(sqlite_repository)\n",
    "user_application_service.register_user('ユーザー')\n",
    "\n",
    "in_memory_repository = InMemoryUserRepository()\n",
    "user_application_service = UserApplicationService(in_memory_repository)\n",
    "user_application_service.register_user('ユーザー')"
   ]
  },
  {
   "cell_type": "markdown",
   "metadata": {},
   "source": [
    "上記のコードでは、\n",
    "*   DIPを満たすようになった\n",
    "*   リポジトリをSQLiteとインメモリで切り替えられるようになる"
   ]
  },
  {
   "cell_type": "markdown",
   "metadata": {},
   "source": [
    "データベースや外部サービスへの依存は、\n",
    "\n",
    "テストケースを作りづらくするため、\n",
    "\n",
    "DIPを適用してテスト用の具象クラスと切り替えられた方が便利\n",
    "\n",
    "より詳しくは、[単体テストの考え方/使い方](https://hiramatsuu.com/archives/1433)を参照"
   ]
  },
  {
   "cell_type": "markdown",
   "metadata": {},
   "source": [
    "## 他の原則との関係性"
   ]
  },
  {
   "cell_type": "markdown",
   "metadata": {},
   "source": [
    "DIPとLSPを守ることで、OCPを実現できる\n"
   ]
  },
  {
   "cell_type": "markdown",
   "metadata": {},
   "source": [
    "## DIPのまとめ"
   ]
  },
  {
   "cell_type": "markdown",
   "metadata": {},
   "source": [
    "*   依存関係逆転の原則（DIP）は、\n",
    "  \n",
    "  「上位のモジュールは、下位のモジュールに依存してはならない。どちらのモジュールも抽象に依存すべきである。\n",
    "  \n",
    "    抽象は実装の詳細に依存してはならない。実装の詳細が抽象に依存すべきである。」という原則\n",
    "*   上位のモジュールは、アプリケーションの「目的」を体現し、下位のモジュールはアプリケーションの「手段」を体現している\n",
    "*   上位モジュールが下位モジュールに依存すると、上位モジュールが下位モジュールの変更の影響を受けるようになってしまう\n",
    "*   言うなれば、手段の変更によって、目的を変えなければいけない、というおかしな構造になってしまう\n",
    "*   構造化プログラミングでは、上位モジュールが下位モジュールに依存する傾向があったが、この方向性を「逆転」するのがDIP\n",
    "*   抽象に依存することで、変更に強くなり、テストがしやすくなり、共同開発がしやすくなる\n",
    "*   Dependency Injection（依存性の注入、DI）パターンを使って、\n",
    "\n",
    "    依存関係をモジュールの外部から注入することで、動的に依存関係を変更することができる\n",
    "*   データベースアクセスや、外部サービスの利用などの、技術的な詳細を扱う場合には、基本的にDIPを適用する\n",
    "*   DIPとLSPを守ることで、OCPを実現できる\n"
   ]
  },
  {
   "cell_type": "markdown",
   "metadata": {},
   "source": [
    "## DIPの演習問題"
   ]
  },
  {
   "cell_type": "markdown",
   "metadata": {},
   "source": [
    "①DIPとはどのような原則でしょうか\n",
    "\n",
    "これまでに学んだことを、できる限り多く思い出してみましょう"
   ]
  },
  {
   "cell_type": "markdown",
   "metadata": {},
   "source": [
    "②以下の対立する2つの要素において、\n",
    "\n",
    "下位のモジュールにあたるのは、それぞれどちらでしょうか\n",
    "\n",
    "\n",
    "*   在庫を管理するクラス vs データベースアクセスを行うクラス\n",
    "*   センサーデータを管理するクラス vs センサーデータに基づいてパターン認識を行うクラス\n",
    "*   通知を送るクラス vs プッシュ通知を送るクラス"
   ]
  },
  {
   "cell_type": "markdown",
   "metadata": {},
   "source": [
    "③DIPの適用によって、共同開発やユニットテストがしやすくなるのは、なぜでしょうか"
   ]
  },
  {
   "cell_type": "markdown",
   "metadata": {},
   "source": [
    "④次のコードは、DIPに違反しているでしょうか\n",
    "\n",
    "違反している場合は、その理由を述べた上で、\n",
    "\n",
    "DIPを満たすようにコードを改善してください\n"
   ]
  },
  {
   "cell_type": "code",
   "execution_count": null,
   "metadata": {},
   "outputs": [],
   "source": [
    "class GasolineEngine:\n",
    "    def start(self) -> None:\n",
    "        print('ガソリンエンジンが始動しました')\n",
    "\n",
    "class NormalTires:\n",
    "    def __init__(self) -> None:\n",
    "        self._pressure: int = 100\n",
    "\n",
    "    def is_inflated(self) -> bool:\n",
    "        if self._pressure >= 1:\n",
    "            return True\n",
    "        else:\n",
    "            print('タイヤに空気を入れてください')\n",
    "            return False\n",
    "\n",
    "    def use_air(self) -> None:\n",
    "        self._pressure -= 1\n",
    "\n",
    "class Car:\n",
    "    def __init__(self) -> None:\n",
    "        self.engine = GasolineEngine()\n",
    "        self.tires = NormalTires()\n",
    "\n",
    "    def start(self) -> None:\n",
    "        if self.tires.is_inflated():\n",
    "            self.engine.start()\n",
    "            self.tires.use_air()\n",
    "            print('車が発進しました')"
   ]
  },
  {
   "cell_type": "markdown",
   "metadata": {},
   "source": [
    "⑤次のコードは、DIPに違反しているでしょうか\n",
    "\n",
    "違反している場合は、その理由を述べた上で、\n",
    "\n",
    "DIPを満たすようにコードを改善してください\n"
   ]
  },
  {
   "cell_type": "code",
   "execution_count": null,
   "metadata": {},
   "outputs": [],
   "source": [
    "#　ユーザーを表現するクラス\n",
    "class User:\n",
    "    def __init__(self, id: int, name: str):\n",
    "        self.id = id\n",
    "        self.name = name\n",
    "\n",
    "# RDBへのアクセスを担当するクラス\n",
    "class RDBUserRepository:\n",
    "    def save(self, user: User) -> None:\n",
    "        print(f'Save {user.name} to the RDB')  # 疑似的なRDBへの保存処理\n",
    "\n",
    "    def get(self, id: int) -> User:\n",
    "        print(f'Get user from the RDB by id {id}')  # 疑似的なRDBからの取得処理\n",
    "        return User(id, 'user_name')\n",
    "\n",
    "# ユーザーに関するユースケースを実現するクラス\n",
    "class UserApplicationService:\n",
    "    def __init__(self):\n",
    "        self.user_repository = RDBUserRepository()\n",
    "\n",
    "    def create(self, id: int, name: str):\n",
    "        user = User(id, name)\n",
    "        self.user_repository.save(user)"
   ]
  }
 ],
 "metadata": {
  "language_info": {
   "name": "python"
  }
 },
 "nbformat": 4,
 "nbformat_minor": 2
}
