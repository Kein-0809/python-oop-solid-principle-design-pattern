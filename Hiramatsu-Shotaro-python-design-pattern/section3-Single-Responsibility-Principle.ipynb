{
 "cells": [
  {
   "cell_type": "markdown",
   "metadata": {},
   "source": [
    "# 単一責任の原則（**S**ingle Responsibility Principle：SRP）"
   ]
  },
  {
   "cell_type": "markdown",
   "metadata": {},
   "source": [
    "**クラスの変更理由は1つだけにすべきである**"
   ]
  },
  {
   "cell_type": "markdown",
   "metadata": {},
   "source": [
    "オブジェクト指向においては、\n",
    "\n",
    "それぞれの責務※を持つクラス（オブジェクト）たちが、\n",
    "\n",
    "コラボレーションすることで、機能を実現する\n",
    "\n",
    "⇒　「**それぞれのクラスの責務は、ただ1つだけにしましょう**」というのがSRP\n",
    "\n",
    "※「責任」は「責務」と言うこともある（例：このクラスの責務は〇〇だ。）"
   ]
  },
  {
   "cell_type": "markdown",
   "metadata": {},
   "source": [
    "クラスが持つ責務の数は、\n",
    "\n",
    "クラスの変更理由の数から考えるとわかりやすい\n",
    "\n",
    "⇒　「**単一責任 ＝ 変更理由が1つ**」ということを意味する\n",
    "\n"
   ]
  },
  {
   "cell_type": "markdown",
   "metadata": {},
   "source": [
    "例えば、YouTubeのような動画サービスについて考えてみよう"
   ]
  },
  {
   "cell_type": "code",
   "execution_count": null,
   "metadata": {},
   "outputs": [],
   "source": [
    "# 動画を表現するクラス\n",
    "class Video:\n",
    "    def __init__(self, title: str, file_name: str) -> None:\n",
    "        self.title = title\n",
    "        self.file_name = file_name\n",
    "        self.comments: list[tuple[str, str]] = []\n",
    "\n",
    "# 動画の処理を行うクラス\n",
    "class VideoController:\n",
    "    # 動画のアップロード\n",
    "    def upload_video(self, video: Video) -> None:\n",
    "        # 処理（省略）\n",
    "        print(f'{video.title}がアップロードされました。')\n",
    "\n",
    "    #　動画の再生\n",
    "    def play_video(self, video: Video) -> None:\n",
    "        # 処理（省略）\n",
    "        print(f'{video.title}を再生します。')\n",
    "\n",
    "    # コメントの投稿\n",
    "    def post_comment(self, video: Video, user_name: str, comment: str) -> None:\n",
    "        video.comments.append((user_name, comment))\n",
    "        print(f'{user_name}が次のコメントを投稿しました：{comment}')"
   ]
  },
  {
   "cell_type": "markdown",
   "metadata": {},
   "source": [
    "上記の VideoControllerクラスは、責務（変更理由）が3つある\n",
    "\n",
    "*   動画のアップロード\n",
    "*   動画の再生\n",
    "*   コメントの投稿"
   ]
  },
  {
   "cell_type": "markdown",
   "metadata": {},
   "source": [
    "責務（変更理由）が2つ以上あるクラスは、\n",
    "\n",
    "*   クラスが何を担当しているのかがわかりづらくなる\n",
    "*   クラスの名前が曖昧なものになる\n",
    "*   それぞれの責務がクラス内部で結合しやすくなる\n",
    "*   変更箇所がわかりづらくなる\n",
    "\n",
    "⇒　理解しづらく、変更しづらいコードになる\n",
    "\n",
    "⇒　変更理由が1つになるように、クラスを分割してみよう"
   ]
  },
  {
   "cell_type": "code",
   "execution_count": null,
   "metadata": {},
   "outputs": [],
   "source": [
    "# 動画を表現するクラス\n",
    "class Video:\n",
    "    def __init__(self, title: str, file_name: str) -> None:\n",
    "        self.title = title\n",
    "        self.file_name = file_name\n",
    "        self.comments: list[tuple[str, str]] = []\n",
    "\n",
    "# 動画のアップロード\n",
    "class VideoUploader:\n",
    "    def upload(self, video: Video) -> None:\n",
    "        # 処理（省略）\n",
    "        print(f'{video.title}がアップロードされました。')\n",
    "\n",
    "#　動画の再生\n",
    "class VideoPlayer:\n",
    "    def play(self, video: Video) -> None:\n",
    "        # 処理（省略）\n",
    "        print(f'{video.title}を再生します。')\n",
    "\n",
    "# コメントの投稿\n",
    "class CommentPost:\n",
    "    def post_comment(self, video: Video, user_name: str, comment: str) -> None:\n",
    "        video.comments.append((user_name, comment))\n",
    "        print(f'{user_name}が次のコメントを投稿しました：{comment}')"
   ]
  },
  {
   "cell_type": "markdown",
   "metadata": {},
   "source": [
    "SRPを満たすように、クラスを変更理由ごとに分割すると、\n",
    "\n",
    "*   何のためのクラスなのかが、わかりやすくなる\n",
    "*   明確で具体的な名前をつけることができる\n",
    "*   それぞれのクラスが小さくなり、理解しやすくなる\n",
    "*   責任が結合しづらくなるので、変更の影響が小さくなる\n",
    "\n",
    "⇒　変更しやすくなる\n"
   ]
  },
  {
   "cell_type": "markdown",
   "metadata": {},
   "source": [
    "SRPが提案するのは、\n",
    "\n",
    "「**変更理由が2つ以上あるクラスは、**\n",
    "\n",
    "　**変更理由が1つだけの、単一責任のクラスに分割しよう！**」\n",
    "\n",
    "ということ\n"
   ]
  },
  {
   "cell_type": "markdown",
   "metadata": {},
   "source": [
    "## 関数・メソッドにおけるSRP"
   ]
  },
  {
   "cell_type": "markdown",
   "metadata": {},
   "source": [
    "SRPは、クラスだけではなく、**関数・メソッドの単位でも有用**"
   ]
  },
  {
   "cell_type": "code",
   "execution_count": null,
   "metadata": {},
   "outputs": [
    {
     "name": "stdout",
     "output_type": "stream",
     "text": [
      "合計：15\n",
      "平均：5.0\n"
     ]
    }
   ],
   "source": [
    "# データを処理する関数（3つの責務を持つ）\n",
    "def process_data(data: list[str]) -> None:\n",
    "    #　 責務1: データの整形\n",
    "    formatted_data: list[int] = []\n",
    "    for item in data:\n",
    "        if item.isdigit(): #　文字列内のすべての文字が数字かどうかをチェック\n",
    "            formatted_data.append(int(item))\n",
    "\n",
    "    # 責務2: データの処理\n",
    "    if len(formatted_data): # 要素が1つでもあるなら\n",
    "        total: int = sum(formatted_data)\n",
    "        average: float = total / len(formatted_data)\n",
    "    else: # 要素が0なら\n",
    "        total: int = 0\n",
    "        average: float = 0.0\n",
    "\n",
    "    # 責務3: フォーマットした結果の出力\n",
    "    print(f'合計：{total}')\n",
    "    print(f'平均：{average}')\n",
    "\n",
    "\n",
    "data = ['5', '2', '8']\n",
    "process_data(data)"
   ]
  },
  {
   "cell_type": "markdown",
   "metadata": {},
   "source": [
    "2つ以上の責務が1つの関数（メソッド）に含まれると、\n",
    "\n",
    "*   関数が何を担当しているのかがわかりづらくなる\n",
    "*   関数の名前が曖昧なものになる\n",
    "*   それぞれの責任が結合しやすくなる\n",
    "*   変更箇所がわかりづらくなる"
   ]
  },
  {
   "cell_type": "code",
   "execution_count": null,
   "metadata": {},
   "outputs": [
    {
     "name": "stdout",
     "output_type": "stream",
     "text": [
      "合計：15\n",
      "平均：5.0\n"
     ]
    }
   ],
   "source": [
    "# SRPを満たすように、関数を3つに分割\n",
    "# データの整形\n",
    "def format_data(data: list[str]) -> list[int]:\n",
    "    formatted_data: list[int] = []\n",
    "    for item in data:\n",
    "        if isinstance(item, str) and item.isdigit():\n",
    "            formatted_data.append(int(item))\n",
    "    return formatted_data\n",
    "\n",
    "# データの処理\n",
    "def calculate_data(data: list[int]) -> tuple[int, float]:\n",
    "    if len(data): # 要素が1つでもあるなら\n",
    "        total: int = sum(data)\n",
    "        average: float = total / len(data)\n",
    "    else: # 要素が0なら\n",
    "        total: int = 0\n",
    "        average: float = 0.0\n",
    "    return total, average\n",
    "\n",
    "# フォーマットした結果の出力\n",
    "def print_proocessed_result(data: list[str]) -> None:\n",
    "    formatted_data: list[int] = format_data(data)\n",
    "    total, average = calculate_data(formatted_data)\n",
    "\n",
    "    print(f'合計：{total}')\n",
    "    print(f'平均：{average}')\n",
    "\n",
    "\n",
    "data = ['5', '2', '8']\n",
    "print_proocessed_result(data)"
   ]
  },
  {
   "cell_type": "markdown",
   "metadata": {},
   "source": [
    "関数（メソッド）をSRPを満たすように分割すると、\n",
    "\n",
    "*   何のためのメソッドなのかが、わかりやすくなる\n",
    "*   明確で具体的な名前をつけることができる\n",
    "*   それぞれのメソッドが小さくなり、理解しやすくなる\n",
    "*   責任が結合しづらくなるので、変更の影響が小さくなる\n",
    "\n",
    "⇒　変更しやすくなる"
   ]
  },
  {
   "cell_type": "markdown",
   "metadata": {},
   "source": [
    "## 凝集度（Cohesion）と結合度（Coupling）"
   ]
  },
  {
   "cell_type": "markdown",
   "metadata": {},
   "source": [
    "単一責任の原則（SRP）は、**凝集度を高める**ための原則とも言える"
   ]
  },
  {
   "cell_type": "markdown",
   "metadata": {},
   "source": [
    "**凝集度（Cohesion）とは**\n",
    "\n",
    "モジュール内の要素がどれだけ密接に関連しているかを測るための概念\n",
    "\n",
    "⇒　凝集度が高いモジュールは、理解しやすく、変更箇所が明確になる"
   ]
  },
  {
   "cell_type": "markdown",
   "metadata": {},
   "source": [
    "**結合度（Coupling）とは**\n",
    "\n",
    "モジュール間の依存関係の強さを表す概念\n",
    "\n",
    "あるモジュールが、他のモジュールにどの程度依存しているかを測る指標\n",
    "\n",
    "⇒　モジュール間の結合度が低いと、変更の影響範囲が小さくなるので、変更しやすくなる"
   ]
  },
  {
   "cell_type": "markdown",
   "metadata": {},
   "source": [
    "凝集度が高くなると、\n",
    "\n",
    "責務ごとにクラスに分かれるので、責務ごとの結合度が低くなりやすい\n",
    "\n",
    "⇒　凝集度を高めると、結合度が低くなることが多い"
   ]
  },
  {
   "cell_type": "markdown",
   "metadata": {},
   "source": [
    "変更しやすいソフトウェアにするためには、\n",
    "\n",
    "*   モジュール**内**の関連性を最大にする　⇒　凝集度を最大化する\n",
    "\n",
    "*   モジュール**間**の関連性を最小にする　⇒　結合度を最小化する\n",
    "\n",
    "必要があり、SRPを守ることで凝集度を高めるのに役立つ"
   ]
  },
  {
   "cell_type": "markdown",
   "metadata": {},
   "source": [
    "### ノートパソコンで考えてみよう"
   ]
  },
  {
   "cell_type": "markdown",
   "metadata": {},
   "source": [
    "ノートパソコンは、以下のような部品（モジュール）からなる\n",
    "\n",
    "*   画面：映像を表示する\n",
    "*   スピーカー：音を出す\n",
    "*   CPU：制御と演算\n",
    "*   キーボード：文字などの入力を受け付ける\n",
    "*   バッテリー：電力を供給する\n",
    "\n",
    "\n",
    "\n",
    "\n"
   ]
  },
  {
   "cell_type": "markdown",
   "metadata": {},
   "source": [
    "これらの部品には、それぞれ明確な1つの責務があり、\n",
    "\n",
    "その責務を実現するための機能が各部品に用意されている\n",
    "\n",
    "⇒　凝集度が高い"
   ]
  },
  {
   "cell_type": "markdown",
   "metadata": {},
   "source": [
    "また、これらの部品の依存関係は、必要最小限になっている\n",
    "\n",
    "*   CPUが演算を行うのに、画面は必要ない\n",
    "\n",
    "*   バッテリーを交換する際に、キーボードを交換する必要はない\n",
    "\n",
    "⇒　結合度が低い"
   ]
  },
  {
   "cell_type": "markdown",
   "metadata": {},
   "source": [
    "良質な設計は、高凝集・低結合になる傾向がある"
   ]
  },
  {
   "cell_type": "markdown",
   "metadata": {},
   "source": [
    "## SRPのメリット・デメリット"
   ]
  },
  {
   "cell_type": "markdown",
   "metadata": {},
   "source": [
    "SRPを満たすように、クラスを変更理由ごとに分割すると、\n",
    "\n",
    "クラスの凝集度が高まり、変更しやすさが向上する\n",
    "\n",
    "が、デメリットもある\n",
    "\n",
    "⇒　**クラスの利用方法が複雑になる**こと\n"
   ]
  },
  {
   "cell_type": "markdown",
   "metadata": {},
   "source": [
    "オンラインストアの注文処理について考えてみよう"
   ]
  },
  {
   "cell_type": "code",
   "execution_count": null,
   "metadata": {},
   "outputs": [],
   "source": [
    "# 注文クラス\n",
    "class Order:\n",
    "    def place_order(self) -> None:\n",
    "        # 在庫管理の処理\n",
    "        print('在庫を確認します')\n",
    "        print('在庫を減らします')\n",
    "        # 支払い処理\n",
    "        print('支払いを処理します')\n",
    "        # 配送処理\n",
    "        print('注文を出荷します')\n",
    "\n",
    "# 注文の処理\n",
    "order = Order()\n",
    "order.place_order()"
   ]
  },
  {
   "cell_type": "markdown",
   "metadata": {},
   "source": [
    "SRPを満たすように3つのクラスに分割すると、\n",
    "\n",
    "注文処理が複雑になる"
   ]
  },
  {
   "cell_type": "code",
   "execution_count": null,
   "metadata": {},
   "outputs": [],
   "source": [
    "# 在庫管理クラス\n",
    "class Inventory:\n",
    "    def check(self) -> None:\n",
    "        print('在庫を確認します')\n",
    "\n",
    "    def reduce(self) -> None:\n",
    "        print('在庫を減らします')\n",
    "\n",
    "# 支払い処理クラス\n",
    "class Payment:\n",
    "    def process(self) -> None:\n",
    "        print('支払いを処理します')\n",
    "\n",
    "# 配送処理クラス\n",
    "class Shipping:\n",
    "    def ship_order(self) -> None:\n",
    "        print('注文を出荷します')\n",
    "\n",
    "# 注文の処理\n",
    "inventory = Inventory()\n",
    "payment = Payment()\n",
    "shipping = Shipping()\n",
    "\n",
    "inventory.check()\n",
    "inventory.reduce()\n",
    "payment.process()\n",
    "shipping.ship_order()"
   ]
  },
  {
   "cell_type": "markdown",
   "metadata": {},
   "source": [
    "注文のたびに毎回下4行を書くとなると、次のようなデメリットがある\n",
    "\n",
    "*   コード量が多くなる\n",
    "*   メソッドの呼び出し順を間違える可能性がある\n",
    "*   注文に必要な手続きが変わった時に、修正の手間が大きい"
   ]
  },
  {
   "cell_type": "markdown",
   "metadata": {},
   "source": [
    "この問題を解決する、**Facadeパターン**というデザインパターンがある\n",
    "\n",
    "\n",
    "\n"
   ]
  },
  {
   "cell_type": "markdown",
   "metadata": {},
   "source": [
    "## デザインパターンとは"
   ]
  },
  {
   "cell_type": "markdown",
   "metadata": {},
   "source": [
    "過去のソフトウェア開発者たちが見出した優れた設計に、\n",
    "\n",
    "名前をつけてカタログ化することで、再利用しやすくしたもの\n",
    "\n"
   ]
  },
  {
   "cell_type": "markdown",
   "metadata": {},
   "source": [
    "GoF（Gang of Four）と呼ばれる4人が提唱した、\n",
    "\n",
    "23種類の**GoFデザインパターン**が有名だが、\n",
    "\n",
    "GoF以外のデザインパターンも数多くある"
   ]
  },
  {
   "cell_type": "markdown",
   "metadata": {},
   "source": [
    "### Facadeパターン"
   ]
  },
  {
   "cell_type": "markdown",
   "metadata": {},
   "source": [
    "**Facade（ファサード）パターンとは**\n",
    "\n",
    "⇒　複雑なオブジェクト操作の手順をまとめて、簡単なインターフェースを提供するパターン"
   ]
  },
  {
   "cell_type": "code",
   "execution_count": null,
   "metadata": {},
   "outputs": [],
   "source": [
    "# 在庫管理クラス\n",
    "class Inventory:\n",
    "    def check(self) -> None:\n",
    "        print('在庫を確認します')\n",
    "\n",
    "    def reduce(self) -> None:\n",
    "        print('在庫を減らします')\n",
    "\n",
    "# 支払い処理クラス\n",
    "class Payment:\n",
    "    def process(self) -> None:\n",
    "        print('支払いを処理します')\n",
    "\n",
    "# 配送処理クラス\n",
    "class Shipping:\n",
    "    def ship_order(self) -> None:\n",
    "        print('注文を出荷します')\n",
    "\n",
    "# 注文処理のFacade\n",
    "class OrderFacade:\n",
    "    def __init__(self) -> None:\n",
    "        self.inventory = Inventory()\n",
    "        self.payment = Payment()\n",
    "        self.shipping = Shipping()\n",
    "\n",
    "    def place_order(self) -> None:\n",
    "        self.inventory.check()\n",
    "        self.inventory.reduce()\n",
    "        self.payment.process()\n",
    "        self.shipping.ship_order()\n",
    "\n",
    "# 注文処理\n",
    "order_facade = OrderFacade()\n",
    "order_facade.place_order()"
   ]
  },
  {
   "cell_type": "markdown",
   "metadata": {},
   "source": [
    "OrderFacadeを用意することで、\n",
    "\n",
    "Inventoryクラス・Paymentクラス・Shippingクラスを具体的にどう組み合わせるかを\n",
    "\n",
    "呼び出し側で意識する必要がなくなっている\n",
    "\n"
   ]
  },
  {
   "cell_type": "markdown",
   "metadata": {},
   "source": [
    "その結果として、次のようなメリットが得られる\n",
    "\n",
    "\n",
    "*   コード量が少なくなる\n",
    "*   メソッドの呼び出し順を間違えなくなる\n",
    "*   呼び出し順など注文の手続きが変わっても、Facadeの中身を変えるだけでよい"
   ]
  },
  {
   "cell_type": "markdown",
   "metadata": {},
   "source": [
    "Facadeは「建物の正面」という意味\n",
    "\n",
    "客は、建物の内部を知る必要はなく、建物の正面だけ知っていれば良い\n",
    "\n",
    "⇒　スタバで注文するのに、カウンターの中の手続きを知っている必要はない"
   ]
  },
  {
   "cell_type": "markdown",
   "metadata": {},
   "source": [
    "SRPを守るために分割されたクラスは、\n",
    "\n",
    "Facadeでまとめて、シンプルなインターフェースを提供するようにしよう"
   ]
  },
  {
   "cell_type": "markdown",
   "metadata": {},
   "source": [
    "## どうやってクラスを見出すのか？\n",
    "\n"
   ]
  },
  {
   "cell_type": "markdown",
   "metadata": {},
   "source": [
    "SRPを守るには、\n",
    "\n",
    "大きな1つのクラスを、単一責任の複数のクラスに切り出すことが必要\n",
    "\n",
    "⇒　必要なクラス（責務）をどうやって見出せばよいのか？"
   ]
  },
  {
   "cell_type": "markdown",
   "metadata": {},
   "source": [
    "Bobおじさん\n",
    "\n",
    "\n",
    "「SRPは最もシンプルな原則のひとつであるが、\n",
    "\n",
    "　正しく適用することが最も難しい原則の一つである」\n",
    "\n",
    "⇒　クラスを見出すための具体的な方法については「経験を積むこと」とお茶を濁している"
   ]
  },
  {
   "cell_type": "markdown",
   "metadata": {},
   "source": [
    "ひらまつ\n",
    "\n",
    "「設計パターンやアーキテクチャについて学ぶことで、\n",
    "\n",
    "　**クラスの典型的な責務を知る**ことが大事」\n",
    "\n",
    "⇒　典型的な責務を一通り知ってから経験を積むと、最も早く上達できる"
   ]
  },
  {
   "cell_type": "markdown",
   "metadata": {},
   "source": [
    "いの一番に学ぶべき知識は、\n",
    "\n",
    "*   **デザインパターン**\n",
    "*   **ドメイン駆動設計（Domain-Driven Design：DDD）**\n",
    "\n",
    "本講座の後に、これらを学ぶのがおすすめ\n"
   ]
  },
  {
   "cell_type": "markdown",
   "metadata": {},
   "source": [
    "ドメイン駆動設計（DDD）とは、**ドメインの知識に焦点を当てた設計手法**\n"
   ]
  },
  {
   "cell_type": "markdown",
   "metadata": {},
   "source": [
    "ドメイン（domain）とは、日本語では「領域」の意味\n",
    "\n",
    "特に、ソフトウェア開発の文脈では、**ソフトウェアを適用する対象となる領域**のこと\n",
    "\n"
   ]
  },
  {
   "cell_type": "markdown",
   "metadata": {},
   "source": [
    "### 値オブジェクト（Value Object）"
   ]
  },
  {
   "cell_type": "markdown",
   "metadata": {},
   "source": [
    "ドメイン駆動設計（Domain-Driven Design）のアイデアの1つ\n",
    "\n",
    "ある値を扱う際に、組み込みの型をクラスで包み込んで独自の値として扱う方法"
   ]
  },
  {
   "cell_type": "markdown",
   "metadata": {},
   "source": [
    "ユーザーの属性を組み込みの型で表現した、以下のUserクラスには、いくつか問題点がある"
   ]
  },
  {
   "cell_type": "code",
   "execution_count": null,
   "metadata": {},
   "outputs": [],
   "source": [
    "# 属性をプリミティブ型で表現したUserクラス\n",
    "class User:\n",
    "    def __init__(self, name: str, age: int) -> None:\n",
    "      self.name = name\n",
    "      self.age = age"
   ]
  },
  {
   "cell_type": "markdown",
   "metadata": {},
   "source": [
    "Pythonにおいて、\n",
    "\n",
    "*   str型は、あらゆる文字を含めることができるし、文字数の制限もない\n",
    "*   int型は、あらゆる整数値を扱うことができる\n",
    "\n",
    "※ただし、どちらもメモリサイズによる制限はある"
   ]
  },
  {
   "cell_type": "markdown",
   "metadata": {},
   "source": [
    "これらの組み込みの型の性質は、\n",
    "\n",
    "ユーザー名や年齢の性質と一致しない\n",
    "\n",
    "*   ユーザー名は0文字ではいけないし、文字数には上限がある\n",
    "*   セキュリティ上の都合から、山括弧（<>）などのいくつかの記号は、ユーザー名として使えないようにしたい\n",
    "*   年齢は負の整数にはならないし、1000歳まで生きる人はいない"
   ]
  },
  {
   "cell_type": "markdown",
   "metadata": {},
   "source": [
    "**組み込み型が持つルールは、**\n",
    "\n",
    "**ドメイン（ビジネス）のルールと、ほとんどの場合一致しない**\n",
    "\n",
    "⇒　**ドメインのルールと一致する、専用の値**が必要！\n",
    "\n",
    "⇒　このために使うのが、値オブジェクト"
   ]
  },
  {
   "cell_type": "code",
   "execution_count": null,
   "metadata": {},
   "outputs": [],
   "source": [
    "# ユーザー名のルールを持つ値オブジェクト\n",
    "class UserName:\n",
    "    def __init__(self, value: str) -> None:\n",
    "        # 文字数のチェック\n",
    "        if value is None:\n",
    "            raise ValueError('ユーザー名は、3文字以上20文字以内にしてください。')\n",
    "        if not 3 <= len(value) <= 20:\n",
    "            raise ValueError('ユーザー名は、3文字以上20文字以内にしてください。')\n",
    "        # 使用不可の文字が使われていないことをチェックする処理\n",
    "        self.value = value\n",
    "\n",
    "# 年齢のルールを持つ値オブジェクト\n",
    "class Age:\n",
    "    def __init__(self, value: int) -> None:\n",
    "        # 数値の範囲のチェック\n",
    "        if value is None:\n",
    "            raise ValueError('年齢は、0歳以上150歳以下にしてください。')\n",
    "        if not 0 <= value <= 150:\n",
    "            raise ValueError('年齢は、0歳以上150歳以下にしてください。')\n",
    "        self.value = value\n",
    "\n",
    "# 属性が値オブジェクトになったUserクラス\n",
    "class User:\n",
    "    def __init__(self, name: UserName, age: Age) -> None:\n",
    "        self.name = name\n",
    "        self.age = age"
   ]
  },
  {
   "cell_type": "markdown",
   "metadata": {},
   "source": [
    "UserNameとAgeが値オブジェクト\n",
    "\n",
    "ガード節によって、値オブジェクトが不正値になることを防いでいる\n",
    "\n",
    "⇒　ドメインのルールに違反とすると、例外が発生して、オブジェクトを生成できない\n",
    "\n",
    "⇒　UserNameとAgeのオブジェクトは、ドメインのルールが反映された値になっている"
   ]
  },
  {
   "cell_type": "markdown",
   "metadata": {},
   "source": [
    "**ちょっと演習①**\n",
    "\n",
    "値オブジェクトを使わずに、次のように書くと問題があります\n",
    "\n",
    "どのような問題でしょうか？"
   ]
  },
  {
   "cell_type": "code",
   "execution_count": null,
   "metadata": {},
   "outputs": [],
   "source": [
    "class User:\n",
    "    def __init__(self, name: str, age: int) -> None:\n",
    "      self.name = name\n",
    "      self.age = age\n",
    "\n",
    "# ユーザー作成時にチェックする\n",
    "name: str = 'さとう'\n",
    "age: int = 30\n",
    "\n",
    "if name is None:\n",
    "    raise ValueError('ユーザー名は、3文字以上20文字以内にしてください。')\n",
    "elif not 3 <= len(name) <= 20:\n",
    "    raise ValueError('ユーザー名は、3文字以上20文字以内にしてください。')\n",
    "elif age is None:\n",
    "    raise ValueError('年齢は、0歳以上150歳以下にしてください。')\n",
    "elif not 0 <= age <= 150:\n",
    "    raise ValueError('年齢は、0歳以上150歳以下にしてください。')\n",
    "else:\n",
    "    user = User(name, age)"
   ]
  },
  {
   "cell_type": "markdown",
   "metadata": {},
   "source": [
    "**答え：不正値チェックのロジックが分散する**\n",
    "\n",
    "\n",
    "値とロジックが分散しており、\n",
    "\n",
    "手続き的な（オブジェクト指向らしくない）プログラムになっているため、\n",
    "\n",
    "ユーザー作成のたびに、if文をコピペする必要がある\n",
    "\n"
   ]
  },
  {
   "cell_type": "markdown",
   "metadata": {},
   "source": [
    "**ちょっと演習②**\n",
    "\n",
    "値オブジェクトを使わずに、次のように書くと問題があります\n",
    "\n",
    "どのような問題でしょうか？"
   ]
  },
  {
   "cell_type": "code",
   "execution_count": null,
   "metadata": {},
   "outputs": [],
   "source": [
    "# Userクラスでユーザー名と年齢のチェックをする\n",
    "class User:\n",
    "    def __init__(self, name: str, age: int) -> None:\n",
    "        # nameの文字数のチェック\n",
    "        if name is None:\n",
    "            raise ValueError('ユーザー名は、3文字以上20文字以内にしてください。')\n",
    "        if not 3 <= len(name) <= 20:\n",
    "            raise ValueError('ユーザー名は、3文字以上20文字以内にしてください。')\n",
    "        # nameに使用不可の文字が使われていないことのチェック\n",
    "\n",
    "        # ageの範囲のチェック\n",
    "        if age is None:\n",
    "            raise ValueError('年齢は、0歳以上150歳以下にしてください。')\n",
    "        if not 0 <= age <= 150:\n",
    "            raise ValueError('年齢は、0歳以上150歳以下にしてください。')\n",
    "\n",
    "        self.name = name\n",
    "        self.age = age"
   ]
  },
  {
   "cell_type": "markdown",
   "metadata": {},
   "source": [
    "**答え：SRPに違反する**\n",
    "\n",
    "Userクラスが\n",
    "\n",
    "*   ユーザー名のチェック\n",
    "*   年齢のチェック\n",
    "*   ユーザーの表現\n",
    "\n",
    "という3つの責務を持ってしまっている\n",
    "\n",
    "⇒　値を正常値に保つことは、それ自体が責務なので、専用の値オブジェクトを用意する"
   ]
  },
  {
   "cell_type": "markdown",
   "metadata": {},
   "source": [
    "DDDには、値オブジェクト以外にも、さまざまなパターンがある\n",
    "\n",
    "*   データベース操作を切り離す　⇒　リポジトリ\n",
    "*   ユースケースを実現する　⇒　アプリケーション・サービス\n",
    "\n",
    "これらのパターンを知ることで、必要なクラスを見出しやすくなる\n"
   ]
  },
  {
   "cell_type": "markdown",
   "metadata": {},
   "source": [
    "### 値オブジェクトは不変（イミュータブル）"
   ]
  },
  {
   "cell_type": "markdown",
   "metadata": {},
   "source": [
    "値オブジェクトは、整数や文字列と同じ「値」であるので、\n",
    "\n",
    "int型やstr型と同様に、\n",
    "\n",
    "基本的に**不変（イミュータブル）である**ことが求められる"
   ]
  },
  {
   "cell_type": "code",
   "execution_count": null,
   "metadata": {},
   "outputs": [
    {
     "name": "stdout",
     "output_type": "stream",
     "text": [
      "1000\n",
      "1500\n",
      "1000 1500\n"
     ]
    }
   ],
   "source": [
    "x = 1000\n",
    "print(x)\n",
    "\n",
    "y = x + 500\n",
    "print(y)\n",
    "\n",
    "print(x, y)"
   ]
  },
  {
   "cell_type": "code",
   "execution_count": null,
   "metadata": {},
   "outputs": [
    {
     "name": "stdout",
     "output_type": "stream",
     "text": [
      "1000円\n",
      "1500円\n",
      "1500円 1500円\n"
     ]
    }
   ],
   "source": [
    "# ミュータブル（可変）な値オブジェクト\n",
    "class Yen:\n",
    "    def __init__(self, amount: int):\n",
    "        self._amount = amount\n",
    "\n",
    "    def __add__(self, other: 'Yen'):\n",
    "        self._amount += other._amount # 自身のオブジェクトの値を変更\n",
    "        return self # 自身のオブジェクトを返す\n",
    "\n",
    "    def __str__(self):\n",
    "        return f'{self._amount}円'\n",
    "\n",
    "\n",
    "price1 = Yen(1000)\n",
    "print(price1) # 1000円\n",
    "\n",
    "price2 = price1 + Yen(500)\n",
    "print(price2) # 1500円\n",
    "\n",
    "print(price1, price2) # 1500円 1500円：元のオブジェクトの値が変更されている"
   ]
  },
  {
   "cell_type": "code",
   "execution_count": null,
   "metadata": {},
   "outputs": [
    {
     "name": "stdout",
     "output_type": "stream",
     "text": [
      "1000円\n",
      "1500円\n",
      "1000円 1500円\n"
     ]
    }
   ],
   "source": [
    "#　イミュータブル（不変）な値オブジェクト\n",
    "class Yen:\n",
    "    def __init__(self, amount: int):\n",
    "        self._amount = amount\n",
    "\n",
    "    def __add__(self, other: 'Yen'):\n",
    "        return Yen(self._amount + other._amount) # 新しいオブジェクトを返す\n",
    "\n",
    "    def __str__(self):\n",
    "        return f'{self._amount}円'\n",
    "\n",
    "\n",
    "price1 = Yen(1000)\n",
    "print(price1) # 1000円\n",
    "\n",
    "price2 = price1 + Yen(500)\n",
    "print(price2) # 1500円\n",
    "\n",
    "print(price1, price2) # 1000円 1500円：元のオブジェクトの値は変更されない"
   ]
  },
  {
   "cell_type": "markdown",
   "metadata": {},
   "source": [
    "変更されないものに依存する方が、変更に強いコードになるので、\n",
    "\n",
    "不変にできるものは基本的に、不変なオブジェクトとする方が良い\n",
    "\n"
   ]
  },
  {
   "cell_type": "markdown",
   "metadata": {},
   "source": [
    "## SRPのまとめ"
   ]
  },
  {
   "cell_type": "markdown",
   "metadata": {},
   "source": [
    "*   単一責任の原則（SRP）は、「クラスの変更理由は一つだけにすべきである」という原則\n",
    "*   クラスの責務（責任）の数は、クラスの変更理由の数を見ると判断しやすい\n",
    "*   メソッドの単位でもSRPを満たしていることが重要\n",
    "*   SRPを満たすことで、凝集度の高いクラスやメソッドを設計しやすくなる\n",
    "*   凝集度はモジュール内の関連性の強さ、結合度はモジュール間の関連性の強さを表す指標\n",
    "*   凝集度が高まると、コードがわかりやすくなる上に、結合度が低くなりやすい\n",
    "*   そのため、SRPを満たすと変更しやすいコードになる\n",
    "*   SRPを満たすとクラスが増えるが、Facadeパターンでシンプルなインターフェースを提供することができる\n",
    "*   クラスを見出すには、パターンやアーキテクチャについて学んでから経験を積むことが大事\n",
    "*   組み込み型の代わりに、ドメイン駆動設計の値オブジェクトを使う\n",
    "*   値オブジェクトは、ドメインのルールを持った、ドメイン専用の値\n",
    "*   値オブジェクトは基本的に不変であり、不変にできるものはなるべく不変の方が良い\n",
    "*   本講座修了後には、DDDを学ぼう"
   ]
  },
  {
   "cell_type": "markdown",
   "metadata": {},
   "source": [
    "## SRPの演習問題"
   ]
  },
  {
   "cell_type": "markdown",
   "metadata": {},
   "source": [
    "①SRPとはどのような原則でしょうか\n",
    "\n",
    "これまでに学んだことを、できる限り多く思い出してみましょう"
   ]
  },
  {
   "cell_type": "markdown",
   "metadata": {},
   "source": [
    "②凝集度と結合度とはそれぞれどのようなものでしょうか\n",
    "\n",
    "また、これらはどのような関係にありますか"
   ]
  },
  {
   "cell_type": "markdown",
   "metadata": {},
   "source": [
    "③次のコードはSRPに違反しているでしょうか\n",
    "\n",
    "違反している場合は、その理由を述べた上で、\n",
    "\n",
    "SRPを満たすようにコードを改善してください"
   ]
  },
  {
   "cell_type": "code",
   "execution_count": null,
   "metadata": {},
   "outputs": [],
   "source": [
    "class Customer:\n",
    "    def __init__(self, name: str, age: int):\n",
    "        self.name = name\n",
    "        self.age = age\n",
    "\n",
    "    def __str__(self) -> str:\n",
    "        return f'名前: {self.name}、年齢: {self.age}'\n",
    "\n",
    "    def calculate_discount(self, total_amount: int) -> None:\n",
    "        if self.age >= 60:\n",
    "            discount = total_amount * 0.1\n",
    "        else:\n",
    "            discount = total_amount * 0.05\n",
    "        print(f'割引額: {discount}')\n",
    "\n",
    "    def send_email(self) -> None:\n",
    "        email_content = f'お客様のご購入ありがとうございます、{self.name}さん。'\n",
    "        # メール送信の処理\n",
    "        print('メールを送信しました。')\n",
    "\n",
    "    def calculate_points(self, total_amount: int) -> None:\n",
    "        points = total_amount // 10\n",
    "        print(f'獲得ポイント: {points}')"
   ]
  },
  {
   "cell_type": "markdown",
   "metadata": {},
   "source": [
    "④スマートホームのシステムについて考えてみましょう\n",
    "\n",
    "*   家を出る時には、電灯とエアコンを消して、カーテンを閉める\n",
    "*   家に帰ってきた時には、電灯とエアコンを点けて、カーテンを開ける\n",
    "\n",
    "上記2つの手順を、それぞれ1つのメソッドだけで完了できるようにするには、\n",
    "\n",
    "次のコードにどのような変更を加えれば良いでしょうか\n"
   ]
  },
  {
   "cell_type": "code",
   "execution_count": null,
   "metadata": {},
   "outputs": [],
   "source": [
    "class Light:\n",
    "    def turn_on(self):\n",
    "        print('電灯がオンになりました')\n",
    "\n",
    "    def turn_off(self):\n",
    "        print('電灯がオフになりました')\n",
    "\n",
    "class AirConditioner:\n",
    "    def turn_on(self):\n",
    "        print('エアコンがオンになりました')\n",
    "\n",
    "    def turn_off(self):\n",
    "        print('エアコンがオフになりました')\n",
    "\n",
    "class Curtain:\n",
    "    def open(self):\n",
    "        print('カーテンを開きました')\n",
    "\n",
    "    def close(self):\n",
    "        print('カーテンを閉じました')"
   ]
  },
  {
   "cell_type": "markdown",
   "metadata": {},
   "source": [
    "⑤メールアドレスを表現する値オブジェクトを作成してみましょう\n",
    "\n",
    "ただし、メールアドレスの値は次の条件を満たす必要があるものとします※\n",
    "\n",
    "*   メールアドレスは必ず「@」を含む\n",
    "*   メールアドレスの「@」の前には少なくとも1文字以上、後ろには少なくとも2文字以上の文字列がある\n",
    "\n",
    "※実際のメールアドレスと比べて、制約が少なすぎますが、簡単のためこのようにしています\n",
    "\n"
   ]
  },
  {
   "cell_type": "code",
   "execution_count": null,
   "metadata": {},
   "outputs": [],
   "source": []
  }
 ],
 "metadata": {
  "language_info": {
   "name": "python"
  }
 },
 "nbformat": 4,
 "nbformat_minor": 2
}
