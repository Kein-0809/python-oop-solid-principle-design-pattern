{
 "cells": [
  {
   "cell_type": "markdown",
   "metadata": {},
   "source": [
    "# オープン・クローズドの原則（**O**pen-Closed Principle：OCP）\n"
   ]
  },
  {
   "cell_type": "markdown",
   "metadata": {},
   "source": [
    "**クラス・モジュール・関数などのソフトウェアの構成要素は、**\n",
    "\n",
    "**拡張に対して開いていて、修正に対して閉じているべきである**"
   ]
  },
  {
   "cell_type": "markdown",
   "metadata": {},
   "source": [
    "言い換えるならば、\n",
    "\n",
    "**既存のコードを変更することなく、機能（パターン）を追加できるべきある**\n",
    "\n",
    "ということ"
   ]
  },
  {
   "cell_type": "markdown",
   "metadata": {},
   "source": [
    "アプリケーションのユーザーに通知を送るクラスについて考えてみよう"
   ]
  },
  {
   "cell_type": "code",
   "execution_count": null,
   "metadata": {},
   "outputs": [
    {
     "name": "stdout",
     "output_type": "stream",
     "text": [
      "SMS\n"
     ]
    }
   ],
   "source": [
    "#　OCPを満たしていないコード\n",
    "class Notification:\n",
    "    def send(self, notification_type: str, user_id: int) -> None:\n",
    "        if notification_type == 'email':\n",
    "            # メールで通知を送信\n",
    "            print('メール')\n",
    "        elif notification_type == 'sms':\n",
    "            # SMSで通知を送信\n",
    "            print('SMS')\n",
    "\n",
    "notification = Notification()\n",
    "notification.send('sms', 123)"
   ]
  },
  {
   "cell_type": "markdown",
   "metadata": {},
   "source": [
    "上記のコードにおいて、\n",
    "\n",
    "新しい通知方法を追加しようとした場合には、\n",
    "\n",
    "Notificationクラスの修正が必要になる\n"
   ]
  },
  {
   "cell_type": "markdown",
   "metadata": {},
   "source": [
    "例えば、プッシュ通知を追加する必要が出てきた場合、\n",
    "\n",
    "次のように変更する必要がある"
   ]
  },
  {
   "cell_type": "code",
   "execution_count": null,
   "metadata": {},
   "outputs": [
    {
     "name": "stdout",
     "output_type": "stream",
     "text": [
      "SMS\n",
      "プッシュ通知\n"
     ]
    }
   ],
   "source": [
    "#　OCPを満たしていないコード\n",
    "class Notification:\n",
    "    def send(self, notification_type: str, user_id: int) -> None:\n",
    "        if notification_type == 'email':\n",
    "            # メールで通知を送信\n",
    "            print('メール')\n",
    "        elif notification_type == 'sms':\n",
    "            # SMSで通知を送信\n",
    "            print('SMS')\n",
    "        elif notification_type == 'push':\n",
    "            # プッシュ通知を送信\n",
    "            print('プッシュ通知')\n",
    "\n",
    "notification = Notification()\n",
    "notification.send('sms', 123)\n",
    "notification.send('push', 456)"
   ]
  },
  {
   "cell_type": "markdown",
   "metadata": {},
   "source": [
    "NotificationクラスはOCPに違反しているので、\n",
    "\n",
    "通知の方法が増えた時に、sendメソッドの変更が必要になる\n",
    "\n",
    "*   通知のパターンが増えるたびに、sendメソッドが肥大化していく\n",
    "*   パターンの追加の際に、既存のパターンにバグを入れてしまう恐れがある\n",
    "\n",
    "\n",
    "⇒　sendメソッドを変更することなしに、通知のパターンを追加できるようにする必要がある"
   ]
  },
  {
   "cell_type": "markdown",
   "metadata": {},
   "source": [
    "OCPを満たすように修正すると、次のようになる"
   ]
  },
  {
   "cell_type": "code",
   "execution_count": null,
   "metadata": {},
   "outputs": [
    {
     "name": "stdout",
     "output_type": "stream",
     "text": [
      "SMS\n"
     ]
    }
   ],
   "source": [
    "from abc import ABC, abstractmethod\n",
    "\n",
    "# 通知のインターフェース\n",
    "class AbstractNotification(ABC):\n",
    "    @abstractmethod\n",
    "    def send(self, user_id: int) -> None:\n",
    "        pass\n",
    "\n",
    "# 具体的な通知\n",
    "class EmailNotification(AbstractNotification):\n",
    "    def send(self, user_id: int) -> None:\n",
    "        # メールで通知を送信\n",
    "        print('メール')\n",
    "\n",
    "class SMSNotification(AbstractNotification):\n",
    "    def send(self, user_id: int) -> None:\n",
    "        # SMSで通知を送信\n",
    "        print('SMS')\n",
    "\n",
    "sms_notification = SMSNotification()\n",
    "sms_notification.send(123)"
   ]
  },
  {
   "cell_type": "markdown",
   "metadata": {},
   "source": [
    "通知のアルゴリズムごとにクラスに分割されているので、\n",
    "\n",
    "通知の種類が増えても、既存のコードの変更が不要で、\n",
    "\n",
    "新たなクラスを追加するだけで良くなる"
   ]
  },
  {
   "cell_type": "code",
   "execution_count": null,
   "metadata": {},
   "outputs": [
    {
     "name": "stdout",
     "output_type": "stream",
     "text": [
      "SMS\n",
      "プッシュ通知\n"
     ]
    }
   ],
   "source": [
    "#　OCPを満たすように変更したコード\n",
    "from abc import ABC, abstractmethod\n",
    "\n",
    "class AbstractNotification(ABC):\n",
    "    @abstractmethod\n",
    "    def send(self, user_id: int) -> None:\n",
    "        pass\n",
    "\n",
    "class EmailNotification(AbstractNotification):\n",
    "    def send(self, user_id: int) -> None:\n",
    "        # メールで通知を送信\n",
    "        print('メール')\n",
    "\n",
    "class SMSNotification(AbstractNotification):\n",
    "    def send(self, user_id: int) -> None:\n",
    "        # SMSで通知を送信\n",
    "        print('SMS')\n",
    "\n",
    "class PushNotification(AbstractNotification):\n",
    "    def send(self, user_id: int) -> None:\n",
    "        # プッシュ通知を送信\n",
    "        print('プッシュ通知')\n",
    "\n",
    "\n",
    "sms_notification = SMSNotification()\n",
    "sms_notification.send(123)\n",
    "push_notification = PushNotification()\n",
    "push_notification.send(456) # プッシュ通知を送信"
   ]
  },
  {
   "cell_type": "code",
   "execution_count": null,
   "metadata": {},
   "outputs": [],
   "source": [
    "#　OCPを満たしていないコード\n",
    "class Notification:\n",
    "    def send(self, notification_type: str, user_id: int) -> None:\n",
    "        if notification_type == 'email':\n",
    "            # メールで通知を送信\n",
    "            print('メール')\n",
    "        elif notification_type == 'sms':\n",
    "            # SMSで通知を送信\n",
    "            print('SMS')\n",
    "        elif notification_type == 'push':\n",
    "            # プッシュ通知を送信\n",
    "            print('プッシュ通知')"
   ]
  },
  {
   "cell_type": "markdown",
   "metadata": {},
   "source": [
    "SRPに従うようにクラスを分割すると、以下のようになる"
   ]
  },
  {
   "cell_type": "code",
   "execution_count": null,
   "metadata": {},
   "outputs": [],
   "source": [
    "class EmailNotification:\n",
    "    def send(self, user_id: int) -> None:\n",
    "        # メールで通知を送信\n",
    "        print('メール')\n",
    "\n",
    "class SMSNotification:\n",
    "    def send(self, user_id: int) -> None:\n",
    "        # SMSで通知を送信\n",
    "        print('SMS')\n",
    "\n",
    "class PushNotification:\n",
    "    def send(self, user_id: int) -> None:\n",
    "        # プッシュ通知を送信\n",
    "        print('プッシュ通知')"
   ]
  },
  {
   "cell_type": "markdown",
   "metadata": {},
   "source": [
    "抽象クラスを使うことで、\n",
    "\n",
    "*   具象クラスに共通のインターフェースを定義することができる\n",
    "*   通知機能のクライアントが、具象クラスに依存しなくなる\n",
    "\n",
    "⇒　具象クラスを切り替えることができるようになる"
   ]
  },
  {
   "cell_type": "code",
   "execution_count": null,
   "metadata": {},
   "outputs": [],
   "source": [
    "#　抽象クラス（インターフェース）を用意すれば、具象クラスに依存しなくなる\n",
    "from abc import ABC, abstractmethod\n",
    "\n",
    "class AbstractNotification(ABC):\n",
    "    @abstractmethod\n",
    "    def send(self, user_id: int) -> None:\n",
    "        pass\n",
    "\n",
    "class EmailNotification(AbstractNotification):\n",
    "    def send(self, user_id: int) -> None:\n",
    "        # メールで通知を送信\n",
    "        print('メール')\n",
    "\n",
    "class SMSNotification(AbstractNotification):\n",
    "    def send(self, user_id: int) -> None:\n",
    "        # SMSで通知を送信\n",
    "        print('SMS')\n",
    "\n",
    "class PushNotification(AbstractNotification):\n",
    "    def send(self, user_id: int) -> None:\n",
    "        # プッシュ通知を送信\n",
    "        print('プッシュ通知')\n",
    "\n",
    "#　通知機能のクライアントである notify関数は具象クラスに依存していない\n",
    "def notify(user_id: int, notification: AbstractNotification): #　AbstractNotificationのサブクラスだけ渡せる\n",
    "    notification.send(user_id)"
   ]
  },
  {
   "cell_type": "markdown",
   "metadata": {},
   "source": [
    "上記の例では、notify関数に渡すオブジェクトを変えるだけで、\n",
    "\n",
    "**通知の方法を切り替える**ことができる\n"
   ]
  },
  {
   "cell_type": "code",
   "execution_count": null,
   "metadata": {},
   "outputs": [
    {
     "name": "stdout",
     "output_type": "stream",
     "text": [
      "通知の種類を入力：push\n",
      "プッシュ通知\n"
     ]
    }
   ],
   "source": [
    "# 辞書でオブジェクトを切り替え\n",
    "notifications = {\n",
    "    'email':EmailNotification(),\n",
    "    'sms':SMSNotification(),\n",
    "    'push':PushNotification(),\n",
    "}\n",
    "\n",
    "notification_type = input('通知の種類を入力：') # 通知の種類の指定\n",
    "notify(1, notifications[notification_type])"
   ]
  },
  {
   "cell_type": "markdown",
   "metadata": {},
   "source": [
    "この方法には、**Strategyパターン**という名前が付いている\n",
    "\n",
    "⇒　アルゴリズムを実行時に選択できるようにするパターン\n",
    "\n",
    "\n",
    "\n",
    "```\n",
    "# Strategyパターン\n",
    "from abc import ABC, abstractmethod\n",
    "\n",
    "# ストラテジーのインターフェース\n",
    "class AbstractStrategy(ABC):\n",
    "    @abstractmethod\n",
    "    def do(self):\n",
    "        pass\n",
    "\n",
    "# 具体的なストラテジー\n",
    "class StrategyA(AbstractStrategy):\n",
    "    def do(self):\n",
    "        print('StrategyA')\n",
    "\n",
    "class StrategyB(AbstractStrategy):\n",
    "    def do(self):\n",
    "        print('StrategyB')\n",
    "\n",
    "class StrategyC(AbstractStrategy):\n",
    "    def do(self):\n",
    "        print('StrategyC')\n",
    "\n",
    "# クライアント\n",
    "def client(strategy: AbstractStrategy): # インターフェース（抽象クラス）に依存\n",
    "    strategy.do()\n",
    "```\n",
    "\n"
   ]
  },
  {
   "cell_type": "markdown",
   "metadata": {},
   "source": [
    "## OCPのメリット・デメリット"
   ]
  },
  {
   "cell_type": "markdown",
   "metadata": {},
   "source": [
    "### メリット"
   ]
  },
  {
   "cell_type": "markdown",
   "metadata": {},
   "source": [
    "抽象クラス（インターフェース）に依存すれば、\n",
    "\n",
    "具象クラス（実装）が変わっても、クライアントの変更が必要ないし、\n",
    "\n",
    "具象クラスを追加するだけで、機能（パターン）追加ができる\n",
    "\n",
    "⇒　**変わりづらいものに依存すれば、変更による影響が小さくなる**"
   ]
  },
  {
   "cell_type": "markdown",
   "metadata": {},
   "source": [
    "変わりやすいもの\n",
    "\n",
    "*   具象クラス\n",
    "*   実装\n",
    "*   自作の機能\n",
    "*   可変（ミュータブル）のオブジェクト\n",
    "\n"
   ]
  },
  {
   "cell_type": "markdown",
   "metadata": {},
   "source": [
    "変わりにくいもの\n",
    "\n",
    "*   抽象クラス\n",
    "*   インターフェース\n",
    "*   組み込みの機能\n",
    "*   不変（イミュータブル）のオブジェクト"
   ]
  },
  {
   "cell_type": "markdown",
   "metadata": {},
   "source": [
    "変更しない部分から、変更される部分を切り離した上で、\n",
    "\n",
    "変更される部分を抽象でカプセル化（隠蔽）する\n",
    "\n",
    "⇒　変更の影響範囲を最小限にすることができる\n",
    "\n",
    "⇒　変更しやすいコードになる"
   ]
  },
  {
   "cell_type": "markdown",
   "metadata": {},
   "source": [
    "### デメリット"
   ]
  },
  {
   "cell_type": "markdown",
   "metadata": {},
   "source": [
    "OCPを実践するデメリット・リスクとしては、次のようなものがある\n",
    "\n",
    "*   コードの量が増える\n",
    "*   過度にOCPを適用してしまう\n"
   ]
  },
  {
   "cell_type": "markdown",
   "metadata": {},
   "source": [
    "**ちょっとクイズ**\n",
    "\n",
    "コードは「資産」か？それとも「負債」か？"
   ]
  },
  {
   "cell_type": "markdown",
   "metadata": {},
   "source": [
    "コード自体は「負債」\n",
    "\n",
    "⇒　少なければ少ないほど良い\n",
    "\n",
    "⇒　コードが多いほど、保守の手間が大きくなる\n",
    "\n"
   ]
  },
  {
   "cell_type": "markdown",
   "metadata": {},
   "source": [
    "コードによって得られる機能が「資産」\n",
    "\n",
    "⇒　機能が多いほどコード（負債）も増加するので、単純に機能が多いほど良いとは言えない\n",
    "\n",
    "⇒　やはり、**メリットがコストを上回るなら採用するべき**"
   ]
  },
  {
   "cell_type": "markdown",
   "metadata": {},
   "source": [
    "例えば、現時点ではユーザーの種類が１つしかない場合、\n",
    "\n",
    "OCPを適用せずに、具象クラスに依存する設計の方が良いかもしれない\n",
    "\n",
    "\n"
   ]
  },
  {
   "cell_type": "code",
   "execution_count": null,
   "metadata": {},
   "outputs": [],
   "source": [
    "# OCPの早すぎる適用\n",
    "from abc import ABC, abstractmethod\n",
    "\n",
    "class AbstractUser(ABC):\n",
    "    def __init__(self, name: UserName, age: Age) -> None:\n",
    "        self.name = name\n",
    "        self.age = age\n",
    "\n",
    "class NormalUser(AbstractUser):\n",
    "    # 以下略\n",
    "    pass"
   ]
  },
  {
   "cell_type": "code",
   "execution_count": null,
   "metadata": {},
   "outputs": [],
   "source": [
    "# OCPをまだ適用しない設計の方が良いかも？\n",
    "class User:\n",
    "    def __init__(self, name: UserName, age: Age) -> None:\n",
    "        self.name = name\n",
    "        self.age = age"
   ]
  },
  {
   "cell_type": "markdown",
   "metadata": {},
   "source": [
    "あとからStrategyパターンを適用する方法は、\n",
    "\n",
    "[リファクタリング 既存のコードを安全に改善する（第2版）](https://hiramatsuu.com/archives/1433)などを参照"
   ]
  },
  {
   "cell_type": "markdown",
   "metadata": {},
   "source": [
    "## Decoratorパターン"
   ]
  },
  {
   "cell_type": "markdown",
   "metadata": {},
   "source": [
    "OCPと関連の強いデザインパターンには、**Decoratorパターン**もある\n",
    "\n",
    "⇒　既存のコードを変更せずに、\n",
    "\n",
    "　　オブジェクトに機能を追加することを可能にするデザインパターン\n",
    "\n"
   ]
  },
  {
   "cell_type": "markdown",
   "metadata": {},
   "source": [
    "Pythonの機能である@abstractmethodなどのデコレータと考え方は同じ\n",
    "\n",
    "⇒　既存のメソッドにデコレータをつけるだけで、機能が追加できる\n",
    "\n",
    "⇒　OCPを満たしている"
   ]
  },
  {
   "cell_type": "markdown",
   "metadata": {},
   "source": [
    "あるコーヒーショップでは、\n",
    "\n",
    "コーヒーに生クリームやバニラアイスなどのトッピングができるとする\n",
    "\n",
    "このコーヒーショップの注文システムを考えてみよう\n",
    "\n",
    "\n"
   ]
  },
  {
   "cell_type": "code",
   "execution_count": null,
   "metadata": {},
   "outputs": [],
   "source": [
    "# よくない設計の例\n",
    "\n",
    "# ベースのコーヒークラス\n",
    "class Coffee:\n",
    "    @property\n",
    "    def cost(self) -> int:\n",
    "        return 200\n",
    "\n",
    "    @property\n",
    "    def description(self) -> str:\n",
    "        return 'コーヒー'\n",
    "\n",
    "# 生クリームをトッピングしたコーヒー\n",
    "class CreamCoffee(Coffee):\n",
    "    @property\n",
    "    def cost(self) -> int:\n",
    "        return super().cost + 50\n",
    "\n",
    "    @property\n",
    "    def description(self) -> str:\n",
    "        return f'{super().description}、生クリーム'\n",
    "\n",
    "# バニラアイスをトッピングしたコーヒー\n",
    "class VanillaCoffee(Coffee):\n",
    "    @property\n",
    "    def cost(self) -> int:\n",
    "        return super().cost + 70\n",
    "\n",
    "    @property\n",
    "    def description(self) -> str:\n",
    "        return f'{super().description}、バニラアイス'"
   ]
  },
  {
   "cell_type": "markdown",
   "metadata": {},
   "source": [
    "上記の設計のように、\n",
    "\n",
    "トッピングごとにクラスを増やすと、クラスの数が増え過ぎてしまう"
   ]
  },
  {
   "cell_type": "markdown",
   "metadata": {},
   "source": [
    "次のコードのようにするだけで、\n",
    "\n",
    "トッピングされたコーヒーを表現できるようにしたい\n",
    "\n",
    "\n",
    "\n",
    "```\n",
    "coffee = Coffee()\n",
    "\n",
    "# トッピング追加\n",
    "coffee_with_cream = CreamDecorator(coffee)\n",
    "coffee_with_vanilla = VanillaDecorator(coffee)\n",
    "coffee_with_cream_and_vanilla = VanillaDecorator(coffee_with_cream)\n",
    "```\n",
    "\n",
    "これを実現するのが、Decoratorパターン\n"
   ]
  },
  {
   "cell_type": "code",
   "execution_count": null,
   "metadata": {},
   "outputs": [],
   "source": [
    "from abc import ABC, abstractmethod\n",
    "\n",
    "# コーヒーインターフェース\n",
    "class AbstractCoffee(ABC):\n",
    "    @property\n",
    "    @abstractmethod\n",
    "    def cost(self) -> int:\n",
    "        pass\n",
    "\n",
    "    @property\n",
    "    @abstractmethod\n",
    "    def description(self) -> str:\n",
    "        pass\n",
    "\n",
    "# ベースのコーヒークラス\n",
    "class Coffee(AbstractCoffee):\n",
    "    @property\n",
    "    def cost(self) -> int:\n",
    "        return 200\n",
    "\n",
    "    @property\n",
    "    def description(self) -> str:\n",
    "        return 'コーヒー'\n",
    "\n",
    "# コーヒーのトッピングデコレーター\n",
    "# 抽象クラス（インスタンス化しない）\n",
    "# 第2引数であるABCは抽象クラスであることを明示 (PythonのabcモジュールのABCを使用)\n",
    "class CoffeeDecorator(AbstractCoffee, ABC):\n",
    "    def __init__(self, decorated_coffee: AbstractCoffee):\n",
    "        self.decorated_coffee = decorated_coffee\n",
    "\n",
    "    @property\n",
    "    def cost(self) -> int:\n",
    "        return self.decorated_coffee.cost\n",
    "\n",
    "    @property\n",
    "    def description(self) -> str:\n",
    "        return self.decorated_coffee.description\n",
    "\n",
    "# トッピングの具体的なデコレータークラス\n",
    "class CreamDecorator(CoffeeDecorator):\n",
    "    @property\n",
    "    def cost(self) -> int:\n",
    "        return self.decorated_coffee.cost + 50\n",
    "\n",
    "    @property\n",
    "    def description(self) -> str:\n",
    "        return f'{self.decorated_coffee.description}、生クリーム'\n",
    "\n",
    "class VanillaDecorator(CoffeeDecorator):\n",
    "    @property\n",
    "    def cost(self) -> int:\n",
    "        return self.decorated_coffee.cost + 70\n",
    "\n",
    "    @property\n",
    "    def description(self) -> str:\n",
    "        return f'{self.decorated_coffee.description}、バニラアイス'"
   ]
  },
  {
   "cell_type": "markdown",
   "metadata": {},
   "source": [
    "上記のコードの`ABC`についての説明\n",
    "\n",
    "`ABC`は\"Abstract Base Class\"（抽象基底クラス）の略で、Pythonの`abc`モジュールで提供されている基底クラスです。\n",
    "\n",
    "このコードで`ABC`を継承している理由は以下の通りです：\n",
    "\n",
    "1. **抽象クラスの定義**\n",
    "- `ABC`を継承することで、そのクラスが抽象クラスであることを明示的に示します\n",
    "- `CoffeeDecorator`クラスは直接インスタンス化されるべきではない抽象クラスとして設計されています\n",
    "\n",
    "2. **抽象メソッドの実装強制**\n",
    "- `ABC`を継承したクラスでは、`@abstractmethod`デコレータで修飾されたメソッドの実装が子クラスで強制されます\n",
    "- これにより、デコレータパターンの実装において必要なメソッドの実装漏れを防ぐことができます\n",
    "\n",
    "3. **インターフェースの保証**\n",
    "```python\n",
    "class CoffeeDecorator(AbstractCoffee, ABC):\n",
    "    # AbstractCoffeeのインターフェースを継承\n",
    "    # ABCで抽象クラスであることを明示\n",
    "```\n",
    "\n",
    "このように、`ABC`は単なる引数ではなく、多重継承の一部として使用されており：\n",
    "- `AbstractCoffee`: コーヒーのインターフェースを定義\n",
    "- `ABC`: クラスを抽象クラスとして定義\n",
    "\n",
    "この2つの役割を果たしています。\n",
    "\n",
    "これにより：\n",
    "- デコレータの基底クラスとしての役割を明確にする\n",
    "- 具象クラスでの実装を強制する\n",
    "- 型の安全性を高める\n",
    "\n",
    "といった利点が得られます。\n"
   ]
  },
  {
   "cell_type": "markdown",
   "metadata": {},
   "source": [
    "各デコレータはCoffeeDecoratorクラスを継承している\n",
    "\n",
    "⇒　デコレータを自由に切り替えることができる"
   ]
  },
  {
   "cell_type": "markdown",
   "metadata": {},
   "source": [
    "CoffeeDecoratorクラスは、Coffeeクラスを継承している\n",
    "\n",
    "⇒　トッピングなしと、トッピングありを切り替えることができる\n",
    "\n",
    "\n",
    "\n"
   ]
  },
  {
   "cell_type": "code",
   "execution_count": null,
   "metadata": {},
   "outputs": [
    {
     "name": "stdout",
     "output_type": "stream",
     "text": [
      "注文: コーヒー\n",
      "料金: 200円\n",
      "-----\n",
      "注文: コーヒー、生クリーム\n",
      "料金: 250円\n",
      "-----\n",
      "注文: コーヒー、バニラアイス\n",
      "料金: 270円\n",
      "-----\n",
      "注文: コーヒー、生クリーム、バニラアイス\n",
      "料金: 320円\n",
      "-----\n"
     ]
    }
   ],
   "source": [
    "def print_coffee_details(coffee: AbstractCoffee) -> None:\n",
    "    print(f'注文: {coffee.description}')\n",
    "    print(f'料金: {coffee.cost}円')\n",
    "    print('-----')\n",
    "\n",
    "coffee = Coffee()\n",
    "\n",
    "# トッピング追加\n",
    "coffee_with_cream = CreamDecorator(coffee)\n",
    "coffee_with_vanilla = VanillaDecorator(coffee)\n",
    "coffee_with_cream_and_vanilla = VanillaDecorator(coffee_with_cream)\n",
    "\n",
    "# 出力\n",
    "print_coffee_details(coffee)\n",
    "print_coffee_details(coffee_with_cream)\n",
    "print_coffee_details(coffee_with_vanilla)\n",
    "print_coffee_details(coffee_with_cream_and_vanilla)"
   ]
  },
  {
   "cell_type": "markdown",
   "metadata": {},
   "source": [
    "Decoratorパターンを使えば、\n",
    "\n",
    "*   デコレータでラップするだけで、トッピングをいくらでも追加できる\n",
    "*   トッピングの種類が増えたら、1つデコレータを追加するだけで良い"
   ]
  },
  {
   "cell_type": "markdown",
   "metadata": {},
   "source": [
    "## 他の原則との関係性"
   ]
  },
  {
   "cell_type": "markdown",
   "metadata": {},
   "source": [
    "OCPを満たすようにすると、実装の種類ごとにクラスに分割されるので、\n",
    "\n",
    "SRPを満たしやすくなる\n"
   ]
  },
  {
   "cell_type": "markdown",
   "metadata": {},
   "source": [
    "OCPを実現するための、継承の使い方を示すのがLSP（後ほど解説）"
   ]
  },
  {
   "cell_type": "markdown",
   "metadata": {},
   "source": [
    "抽象に依存することの重要さはDIPが説明している"
   ]
  },
  {
   "cell_type": "markdown",
   "metadata": {},
   "source": [
    "OCPは、SOLID原則の中で一番重要な原則と言える"
   ]
  },
  {
   "cell_type": "markdown",
   "metadata": {},
   "source": [
    "## OCPのまとめ"
   ]
  },
  {
   "cell_type": "markdown",
   "metadata": {},
   "source": [
    "*   オープン・クローズドの原則（OCP）は、「ソフトウェアの構成要素は、\n",
    "  \n",
    "  拡張に対して開いていて、修正に対して閉じているべきである」とする原則\n",
    "*   OCPを満たすことで、既存のコードを変更することなく、機能（パターン）を追加できるようになる\n",
    "*   抽象クラス（インターフェース）に依存すれば、具象クラス（実装）が変わっても、既存のモジュールの変更が不要になる\n",
    "*   変わりづらいものに依存することで、変更の影響を小さくすることができる\n",
    "*   変更に強いソフトウェアにするには、変更される部分を、変更されない部分から切り離し、抽象でカプセル化することが重要\n",
    "*   OCPを実現するための代表的なデザインパターンとして、StrategyパターンやDecoratorパターンなどがある\n",
    "*   OCPを満たすようにすると、実装の種類ごとにクラスに分割されるので、SRPを満たしやすくなる\n",
    "*   OCPはSOLID原則の中で一番重要な原則と言える"
   ]
  },
  {
   "cell_type": "markdown",
   "metadata": {},
   "source": [
    "## OCPの演習問題"
   ]
  },
  {
   "cell_type": "markdown",
   "metadata": {},
   "source": [
    "①OCPとはどのような原則でしょうか\n",
    "\n",
    "これまでに学んだことを、できる限り多く思い出してみましょう"
   ]
  },
  {
   "cell_type": "markdown",
   "metadata": {},
   "source": [
    "②以下の対立する2つの要素において、\n",
    "\n",
    "一般的に変更されづらいのはそれぞれどちらでしょうか\n",
    "\n",
    "\n",
    "*   抽象クラス vs 具象クラス\n",
    "*   実装 vs インターフェース\n",
    "*   組み込みの機能 vs 自作の機能"
   ]
  },
  {
   "cell_type": "markdown",
   "metadata": {},
   "source": [
    "③次のコードはOCPに違反しているでしょうか\n",
    "\n",
    "違反している場合は、その理由を述べた上で、\n",
    "\n",
    "OCPを満たすようにコードを改善してください"
   ]
  },
  {
   "cell_type": "code",
   "execution_count": null,
   "metadata": {},
   "outputs": [],
   "source": [
    "class Payment:\n",
    "    def pay(self, amount: int, method: str) -> None:\n",
    "        if method == 'cash':\n",
    "            # 現金決済の処理\n",
    "            print(f'{amount}円を現金で支払いました。')\n",
    "        elif method == 'credit_card':\n",
    "            # クレジットカード決済の処理\n",
    "            print(f'{amount}円をクレジットカードで支払いました。')\n",
    "        elif method == 'QRPay':\n",
    "            # QRコード決済の処理\n",
    "            print(f'{amount}円をQRコードで支払いました。')\n",
    "        else:\n",
    "            raise ValueError('利用できない決済方法です。')"
   ]
  },
  {
   "cell_type": "markdown",
   "metadata": {},
   "source": [
    "④あるカラオケ店の料金計算システムについて考えてみよう\n",
    "\n",
    "このカラオケ店では、次のような料金システムになっているとする\n",
    "\n",
    "*   利用時間は1時間単位\n",
    "*   基本料金は1時間あたり700円\n",
    "*   学生は料金が基本料金の80%になる\n",
    "*   会員は料金が基本料金の90%になる\n",
    "*   学生割引と会員割引は併用できる"
   ]
  },
  {
   "cell_type": "markdown",
   "metadata": {},
   "source": [
    "このシステムを用意するために、\n",
    "\n",
    "新米エンジニアのAくんが次のようなコードを用意しました"
   ]
  },
  {
   "cell_type": "code",
   "execution_count": null,
   "metadata": {},
   "outputs": [
    {
     "name": "stdout",
     "output_type": "stream",
     "text": [
      "カラオケの料金は: 1008円\n"
     ]
    }
   ],
   "source": [
    "# 料金を計算する関数\n",
    "def calculate_fee(hours: int, is_student: bool, is_member: bool) -> int:\n",
    "    base_rate: int = 700\n",
    "    discount_rate: float = 1.0\n",
    "\n",
    "    if is_student and is_member:\n",
    "        discount_rate = 0.8 * 0.9\n",
    "    elif is_student:\n",
    "        discount_rate = 0.8\n",
    "    elif is_member:\n",
    "        discount_rate = 0.9\n",
    "\n",
    "    total_fee: int = int(hours * base_rate * discount_rate)\n",
    "    return total_fee\n",
    "\n",
    "# 使用例\n",
    "hours: int = 2\n",
    "is_student: bool = True\n",
    "is_member: bool = True\n",
    "\n",
    "fee: int = calculate_fee(hours, is_student, is_member)\n",
    "print(f'カラオケの料金は: {fee}円')"
   ]
  },
  {
   "cell_type": "markdown",
   "metadata": {},
   "source": [
    "上記のコードにおける、SOLID原則の観点から見た時の問題点を指摘した上で、\n",
    "\n",
    "Decoratorパターンを適用して問題を解決してください\n"
   ]
  },
  {
   "cell_type": "code",
   "execution_count": null,
   "metadata": {},
   "outputs": [],
   "source": [
    "from abc import ABC, abstractmethod\n",
    "\n",
    "# 室料インターフェース\n",
    "class AbstractRoomFee(ABC):\n",
    "    @abstractmethod\n",
    "    def cost(self, hours: int) -> int:\n",
    "        pass\n",
    "\n",
    "# 続きを記入\n"
   ]
  },
  {
   "cell_type": "markdown",
   "metadata": {},
   "source": [
    "⑤ ④の解答のコードに、料金が70%になるシニア割引のデコレータを追加してください"
   ]
  },
  {
   "cell_type": "code",
   "execution_count": null,
   "metadata": {},
   "outputs": [],
   "source": []
  }
 ],
 "metadata": {
  "language_info": {
   "name": "python"
  }
 },
 "nbformat": 4,
 "nbformat_minor": 2
}
