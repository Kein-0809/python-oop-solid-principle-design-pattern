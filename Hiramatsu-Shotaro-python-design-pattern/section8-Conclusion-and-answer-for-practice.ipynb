{
 "cells": [
  {
   "cell_type": "markdown",
   "metadata": {},
   "source": [
    "# おわりに"
   ]
  },
  {
   "cell_type": "markdown",
   "metadata": {},
   "source": [
    "# 演習問題の解答"
   ]
  },
  {
   "cell_type": "markdown",
   "metadata": {},
   "source": [
    "## 前提知識"
   ]
  },
  {
   "cell_type": "markdown",
   "metadata": {},
   "source": [
    "### 例外"
   ]
  },
  {
   "cell_type": "markdown",
   "metadata": {},
   "source": [
    "①次のコードの問題点を指摘し、適切な形に修正してください"
   ]
  },
  {
   "cell_type": "code",
   "execution_count": null,
   "metadata": {},
   "outputs": [],
   "source": [
    "try:\n",
    "    # 例外が発生する可能性のある処理\n",
    "    x = int(input('整数を入力してください: '))\n",
    "    result = 10 / x\n",
    "    print('結果:', result)\n",
    "except Exception:\n",
    "    pass"
   ]
  },
  {
   "cell_type": "markdown",
   "metadata": {},
   "source": [
    "例外を握りつぶしている\n",
    "\n",
    "try節では、ValueErrorとZeroDivisionErrorが発生する可能性があるため、\n",
    "\n",
    "それぞれの例外処理を書く（例外は具体的なものが望ましい）"
   ]
  },
  {
   "cell_type": "code",
   "execution_count": null,
   "metadata": {},
   "outputs": [],
   "source": [
    "try:\n",
    "    x = int(input('整数を入力してください: '))\n",
    "    result = 10 / x\n",
    "    print('結果:', result)\n",
    "except ValueError:\n",
    "    print('エラー: 整数を入力してください')\n",
    "except ZeroDivisionError:\n",
    "    print('エラー: 0以外の数を入力してください')"
   ]
  },
  {
   "cell_type": "markdown",
   "metadata": {},
   "source": [
    "②以下のコードにおいて、次の値をinput()に入力したときの出力はそれぞれどうなるか？\n",
    "\n",
    "*   1\n",
    "*   0\n",
    "*   a\n"
   ]
  },
  {
   "cell_type": "code",
   "execution_count": null,
   "metadata": {},
   "outputs": [
    {
     "name": "stdout",
     "output_type": "stream",
     "text": [
      "a\n",
      "ValueError\n",
      "finally\n"
     ]
    }
   ],
   "source": [
    "try:\n",
    "    x = int(input())\n",
    "    result = 10 / x\n",
    "    print('try')\n",
    "except ValueError:\n",
    "    print('ValueError')\n",
    "except ZeroDivisionError:\n",
    "    print('ZeroDivisionError')\n",
    "else:\n",
    "    print('else')\n",
    "finally:\n",
    "    print('finally')"
   ]
  },
  {
   "cell_type": "markdown",
   "metadata": {},
   "source": [
    "*   1：try else finally\n",
    "*   0：ZeroDivisionError finally\n",
    "*   a：ValueError finally"
   ]
  },
  {
   "cell_type": "markdown",
   "metadata": {},
   "source": [
    "例外処理の書式（完全版）\n",
    "\n",
    "```\n",
    "try:\n",
    "    例外の発生が予想される処理\n",
    "except 捕捉（catch）する例外の種類:\n",
    "    tryの中で例外が発生した場合の処理\n",
    "else:\n",
    "    tryの中で例外が発生しなかった場合の処理\n",
    "finally:\n",
    "    例外の発生の有無によらず実行する処理\n",
    "```"
   ]
  },
  {
   "cell_type": "markdown",
   "metadata": {},
   "source": [
    "③次のAgeクラスにガード節を追加して、\n",
    "\n",
    "コンストラクタに0〜130の整数以外が渡されると、\n",
    "\n",
    "例外（ValueError）が発生するようにしてください\n",
    "\n",
    "ただし、整数値かどうかのチェックには、is_int関数を使ってください\n",
    "\n"
   ]
  },
  {
   "cell_type": "code",
   "execution_count": null,
   "metadata": {},
   "outputs": [],
   "source": [
    "# 年齢のルールを持つ値オブジェクト\n",
    "class Age:\n",
    "    def __init__(self, value):\n",
    "        self.value = value\n",
    "\n",
    "\n",
    "def is_int(value):\n",
    "    try:\n",
    "        int_value = int(value)\n",
    "        return int_value == value\n",
    "    except ValueError:\n",
    "        return False"
   ]
  },
  {
   "cell_type": "code",
   "execution_count": null,
   "metadata": {},
   "outputs": [],
   "source": [
    "# 年齢のルールを持つ値オブジェクト\n",
    "class Age:\n",
    "    def __init__(self, value):\n",
    "        # ガード節\n",
    "        if not is_int(value):\n",
    "            raise ValueError('年齢は、整数値にしてください。')\n",
    "        if not 0 <= value <= 130:\n",
    "            raise ValueError('年齢は、0歳以上130歳以下にしてください。')\n",
    "\n",
    "        self.value = value\n",
    "\n",
    "\n",
    "def is_int(value):\n",
    "    try:\n",
    "        int_value = int(value)\n",
    "        return int_value == value\n",
    "    except ValueError:\n",
    "        return False"
   ]
  },
  {
   "cell_type": "markdown",
   "metadata": {},
   "source": [
    "### 型ヒント"
   ]
  },
  {
   "cell_type": "markdown",
   "metadata": {},
   "source": [
    "次のコードに型ヒントをつけてください\n",
    "\n",
    "ただし、半径（radius）はintとします"
   ]
  },
  {
   "cell_type": "code",
   "execution_count": null,
   "metadata": {},
   "outputs": [],
   "source": [
    "class Circle:\n",
    "    PI: float = 3.14\n",
    "\n",
    "    def __init__(self, radius: int) -> None:\n",
    "        self._radius = radius # self._radius: int = radiusでも可だが少し冗長\n",
    "\n",
    "    def length(self) -> float:\n",
    "        return self._radius * 2 * Circle.PI\n",
    "\n",
    "    def area(self) -> float:\n",
    "        return self._radius * self._radius * Circle.PI"
   ]
  },
  {
   "cell_type": "markdown",
   "metadata": {},
   "source": [
    "### フールプルーフとアクセス制限"
   ]
  },
  {
   "cell_type": "markdown",
   "metadata": {},
   "source": [
    "次のコードに、①~③の変更をそれぞれ行ってください"
   ]
  },
  {
   "cell_type": "code",
   "execution_count": null,
   "metadata": {},
   "outputs": [],
   "source": [
    "class User:\n",
    "    def __init__(self, name: str, age: int) -> None:\n",
    "        self.name = name\n",
    "        self.age = age"
   ]
  },
  {
   "cell_type": "markdown",
   "metadata": {},
   "source": [
    "① nameとageがプライベートな属性であることを表現してください\n"
   ]
  },
  {
   "cell_type": "code",
   "execution_count": null,
   "metadata": {},
   "outputs": [],
   "source": [
    "class User:\n",
    "    def __init__(self, name: str, age: int) -> None:\n",
    "        self._name = name\n",
    "        self._age = age"
   ]
  },
  {
   "cell_type": "markdown",
   "metadata": {},
   "source": [
    "② @propertyデコレータを使って、クラスの外部から読み取り可能な、name属性とage属性を定義してください"
   ]
  },
  {
   "cell_type": "code",
   "execution_count": null,
   "metadata": {},
   "outputs": [
    {
     "name": "stdout",
     "output_type": "stream",
     "text": [
      "佐藤\n",
      "30\n"
     ]
    }
   ],
   "source": [
    "class User:\n",
    "    def __init__(self, name: str, age: int) -> None:\n",
    "        self._name = name\n",
    "        self._age = age\n",
    "\n",
    "    @property\n",
    "    def name(self) -> str:\n",
    "        return self._name\n",
    "\n",
    "    @property\n",
    "    def age(self) -> int:\n",
    "        return self._age\n",
    "\n",
    "\n",
    "user = User('佐藤', 30)\n",
    "print(user.name)\n",
    "print(user.age)"
   ]
  },
  {
   "cell_type": "markdown",
   "metadata": {},
   "source": [
    "③ name属性とage属性を、クラスの外部から変更可能にしてください\n",
    "\n",
    "　 ただし、その際にガード節を用いて、次の状態が保たれるようにしてください\n",
    "\n",
    "*   名前（name）は、1文字以上20文字以下\n",
    "*   年齢（age）は、0歳以上150歳以下"
   ]
  },
  {
   "cell_type": "code",
   "execution_count": null,
   "metadata": {},
   "outputs": [
    {
     "name": "stdout",
     "output_type": "stream",
     "text": [
      "田中\n",
      "31\n"
     ]
    },
    {
     "ename": "ValueError",
     "evalue": "ignored",
     "output_type": "error",
     "traceback": [
      "\u001b[0;31m---------------------------------------------------------------------------\u001b[0m\n",
      "\u001b[0;31mValueError\u001b[0m                                Traceback (most recent call last)\n",
      "\u001b[0;32m<ipython-input-5-6dcabe600257>\u001b[0m in \u001b[0;36m<cell line: 37>\u001b[0;34m()\u001b[0m\n",
      "\u001b[1;32m     35\u001b[0m \u001b[0muser\u001b[0m\u001b[0;34m.\u001b[0m\u001b[0mage\u001b[0m \u001b[0;34m+=\u001b[0m \u001b[0;36m1\u001b[0m\u001b[0;34m\u001b[0m\u001b[0;34m\u001b[0m\u001b[0m\n",
      "\u001b[1;32m     36\u001b[0m \u001b[0mprint\u001b[0m\u001b[0;34m(\u001b[0m\u001b[0muser\u001b[0m\u001b[0;34m.\u001b[0m\u001b[0mage\u001b[0m\u001b[0;34m)\u001b[0m\u001b[0;34m\u001b[0m\u001b[0;34m\u001b[0m\u001b[0m\n",
      "\u001b[0;32m---> 37\u001b[0;31m \u001b[0muser\u001b[0m\u001b[0;34m.\u001b[0m\u001b[0mage\u001b[0m \u001b[0;34m=\u001b[0m \u001b[0;34m-\u001b[0m\u001b[0;36m10\u001b[0m \u001b[0;31m# 例外が発生\u001b[0m\u001b[0;34m\u001b[0m\u001b[0;34m\u001b[0m\u001b[0m\n",
      "\u001b[0m\n",
      "\u001b[0;32m<ipython-input-5-6dcabe600257>\u001b[0m in \u001b[0;36mage\u001b[0;34m(self, value)\u001b[0m\n",
      "\u001b[1;32m     26\u001b[0m     \u001b[0;32mdef\u001b[0m \u001b[0mage\u001b[0m\u001b[0;34m(\u001b[0m\u001b[0mself\u001b[0m\u001b[0;34m,\u001b[0m \u001b[0mvalue\u001b[0m\u001b[0;34m:\u001b[0m \u001b[0mstr\u001b[0m\u001b[0;34m)\u001b[0m \u001b[0;34m->\u001b[0m \u001b[0;32mNone\u001b[0m\u001b[0;34m:\u001b[0m\u001b[0;34m\u001b[0m\u001b[0;34m\u001b[0m\u001b[0m\n",
      "\u001b[1;32m     27\u001b[0m         \u001b[0;32mif\u001b[0m \u001b[0;32mnot\u001b[0m \u001b[0;36m0\u001b[0m \u001b[0;34m<=\u001b[0m \u001b[0mvalue\u001b[0m \u001b[0;34m<=\u001b[0m \u001b[0;36m150\u001b[0m\u001b[0;34m:\u001b[0m\u001b[0;34m\u001b[0m\u001b[0;34m\u001b[0m\u001b[0m\n",
      "\u001b[0;32m---> 28\u001b[0;31m             \u001b[0;32mraise\u001b[0m \u001b[0mValueError\u001b[0m\u001b[0;34m(\u001b[0m\u001b[0;34m'年齢（age）は、0歳以上150歳以下'\u001b[0m\u001b[0;34m)\u001b[0m\u001b[0;34m\u001b[0m\u001b[0;34m\u001b[0m\u001b[0m\n",
      "\u001b[0m\u001b[1;32m     29\u001b[0m         \u001b[0mself\u001b[0m\u001b[0;34m.\u001b[0m\u001b[0m_age\u001b[0m \u001b[0;34m=\u001b[0m \u001b[0mvalue\u001b[0m\u001b[0;34m\u001b[0m\u001b[0;34m\u001b[0m\u001b[0m\n",
      "\u001b[1;32m     30\u001b[0m \u001b[0;34m\u001b[0m\u001b[0m\n",
      "\n",
      "\u001b[0;31mValueError\u001b[0m: 年齢（age）は、0歳以上150歳以下"
     ]
    }
   ],
   "source": [
    "class User:\n",
    "    def __init__(self, name: str, age: int) -> None:\n",
    "        # ガード節をコンストラクタにも追加\n",
    "        if not 1 <= len(name) <= 20:\n",
    "            raise ValueError('名前（name）は、1文字以上20文字以下')\n",
    "        if not 0 <= age <= 150:\n",
    "            raise ValueError('年齢（age）は、0歳以上150歳以下')\n",
    "        self._name = name\n",
    "        self._age = age\n",
    "\n",
    "    @property\n",
    "    def name(self) -> str:\n",
    "        return self._name\n",
    "\n",
    "    @name.setter\n",
    "    def name(self, value: str) -> None:\n",
    "        if not 1 <= len(value) <= 20:\n",
    "            raise ValueError('名前（name）は、1文字以上20文字以下')\n",
    "        self._name = value\n",
    "\n",
    "    @property\n",
    "    def age(self) -> int:\n",
    "        return self._age\n",
    "\n",
    "    @age.setter\n",
    "    def age(self, value: int) -> None:\n",
    "        if not 0 <= value <= 150:\n",
    "            raise ValueError('年齢（age）は、0歳以上150歳以下')\n",
    "        self._age = value\n",
    "\n",
    "\n",
    "user = User('佐藤', 30)\n",
    "user.name = '田中'\n",
    "print(user.name)\n",
    "user.age += 1\n",
    "print(user.age)\n",
    "user.age = -10 # 例外が発生"
   ]
  },
  {
   "cell_type": "markdown",
   "metadata": {},
   "source": [
    "### クラスの依存関係"
   ]
  },
  {
   "cell_type": "markdown",
   "metadata": {},
   "source": [
    "次のコードにおいて、①~③の3問を考えてみましょう\n",
    "\n"
   ]
  },
  {
   "cell_type": "code",
   "execution_count": null,
   "metadata": {},
   "outputs": [],
   "source": [
    "class A:\n",
    "    def __init__(self):\n",
    "        self.b = B()\n",
    "        self.c = C()\n",
    "        self.d = D()\n",
    "\n",
    "class B:\n",
    "    def __init__(self):\n",
    "        self.c = C()\n",
    "        self.d = D()\n",
    "\n",
    "class C(D):\n",
    "    def __init__(self):\n",
    "        self.value = 'value'\n",
    "\n",
    "class D:\n",
    "    def __init__(self):\n",
    "        self.value = 'value'"
   ]
  },
  {
   "cell_type": "markdown",
   "metadata": {},
   "source": [
    "①上記のコードの依存関係をすべて説明してください"
   ]
  },
  {
   "cell_type": "markdown",
   "metadata": {},
   "source": [
    "*   クラスAは、クラスBとクラスCとクラスDに依存している\n",
    "*   クラスBは、クラスCとクラスDに依存している\n",
    "*   クラスCは、クラスDとstrクラスに依存している\n",
    "*   クラスDは、strクラスに依存している"
   ]
  },
  {
   "cell_type": "markdown",
   "metadata": {},
   "source": [
    "②A~Dのクラスのうち、変更された場合に、\n",
    "\n",
    "*   他のクラスに最も影響を与えるクラス\n",
    "*   他のクラスに最も影響を与えないクラス\n",
    "\n",
    "は、それぞれどのクラスでしょうか"
   ]
  },
  {
   "cell_type": "markdown",
   "metadata": {},
   "source": [
    "最も影響を与えるのは、クラスD：最も依存されているから\n",
    "\n",
    "最も影響を与えないのは、クラスA：どのクラスにも依存されていないから"
   ]
  },
  {
   "cell_type": "markdown",
   "metadata": {},
   "source": [
    "③A~Dのクラスのうち、\n",
    "\n",
    "*   他のクラスの変更の影響を最も受けやすいクラス\n",
    "*   他のクラスの変更の影響を最も受けにくいクラス\n",
    "\n",
    "は、それぞれどのクラスでしょうか"
   ]
  },
  {
   "cell_type": "markdown",
   "metadata": {},
   "source": [
    "最も影響を受けるのは、クラスA：最も依存しているクラスが多いから\n",
    "\n",
    "最も影響を受けにくいのは、クラスD：組み込みのstrクラスにしか依存していないから"
   ]
  },
  {
   "cell_type": "markdown",
   "metadata": {},
   "source": [
    "## 単一責任の原則（**S**ingle Responsibility Principle：SRP）"
   ]
  },
  {
   "cell_type": "markdown",
   "metadata": {},
   "source": [
    "①SRPとはどのような原則でしょうか\n",
    "\n",
    "これまでに学んだことを、できる限り多く思い出してみましょう"
   ]
  },
  {
   "cell_type": "markdown",
   "metadata": {},
   "source": [
    "②凝集度と結合度とはそれぞれどのようなものでしょうか\n",
    "\n",
    "また、これらはどのような関係にありますか"
   ]
  },
  {
   "cell_type": "markdown",
   "metadata": {},
   "source": [
    "③次のコードはSRPに違反しているでしょうか\n",
    "\n",
    "違反している場合は、その理由を述べた上で、\n",
    "\n",
    "SRPを満たすようにコードを改善してください"
   ]
  },
  {
   "cell_type": "code",
   "execution_count": null,
   "metadata": {},
   "outputs": [],
   "source": [
    "class Customer:\n",
    "    def __init__(self, name: str, age: int):\n",
    "        self.name = name\n",
    "        self.age = age\n",
    "\n",
    "    def __str__(self) -> str:\n",
    "        return f'名前: {self.name}、年齢: {self.age}'\n",
    "\n",
    "    def calculate_discount(self, total_amount: int) -> None:\n",
    "        if self.age >= 60:\n",
    "            discount = total_amount * 0.1\n",
    "        else:\n",
    "            discount = total_amount * 0.05\n",
    "        print(f'割引額: {discount}')\n",
    "\n",
    "    def send_email(self) -> None:\n",
    "        email_content = f'お客様のご購入ありがとうございます、{self.name}さん。'\n",
    "        # メール送信の処理\n",
    "        print('メールを送信しました。')\n",
    "\n",
    "    def calculate_points(self, total_amount: int) -> None:\n",
    "        points = total_amount // 10\n",
    "        print(f'獲得ポイント: {points}')"
   ]
  },
  {
   "cell_type": "markdown",
   "metadata": {},
   "source": [
    "Customerクラスは、\n",
    "\n",
    "*   顧客情報の管理\n",
    "*   割引の計算\n",
    "*   メールの送信\n",
    "*   ポイント計算\n",
    "\n",
    "という4つの責務を持っており、SRPに違反している"
   ]
  },
  {
   "cell_type": "markdown",
   "metadata": {},
   "source": [
    "改善の一例としては、次のようなコードが考えられる"
   ]
  },
  {
   "cell_type": "code",
   "execution_count": null,
   "metadata": {},
   "outputs": [],
   "source": [
    "# 顧客クラス\n",
    "class Customer:\n",
    "    def __init__(self, name: str, age: int):\n",
    "        self.name = name\n",
    "        self.age = age\n",
    "\n",
    "    def __str__(self) -> str:\n",
    "        return f'名前: {self.name}、年齢: {self.age}'\n",
    "\n",
    "# 割引計算クラス\n",
    "class DiscountCalculator:\n",
    "    def calculate_discount(self, customer: Customer, total_amount: int) -> None:\n",
    "        if customer.age >= 60:\n",
    "            discount = total_amount * 0.1\n",
    "        else:\n",
    "            discount = total_amount * 0.05\n",
    "        print(f'割引額: {discount}')\n",
    "\n",
    "# メール送信クラス\n",
    "class EmailSender:\n",
    "    def send_email(self, customer: Customer) -> None:\n",
    "        email_content = f'ご担当者様、{customer.name} 様、ご購入いただきありがとうございます。'\n",
    "        # メール送信の処理\n",
    "        print('メールを送信しました。')\n",
    "\n",
    "# ポイント計算クラス\n",
    "class CustomerPointsCalculator:\n",
    "    def calculate_points(self, customer: Customer, total_amount: int) -> None:\n",
    "        points = total_amount // 10  # 小数点以下を切り捨てた整数の割り算\n",
    "        print(f'獲得ポイント: {points}')"
   ]
  },
  {
   "cell_type": "markdown",
   "metadata": {},
   "source": [
    "④スマートホームのシステムについて考えてみましょう\n",
    "\n",
    "*   家を出る時には、電灯とエアコンを消して、カーテンを閉める\n",
    "*   家に帰ってきた時には、電灯とエアコンを点けて、カーテンを開ける\n",
    "\n",
    "上記2つの手順を、それぞれ1つのメソッドだけで完了できるようにするには、\n",
    "\n",
    "次のコードにどのような変更を加えれば良いでしょうか\n"
   ]
  },
  {
   "cell_type": "code",
   "execution_count": null,
   "metadata": {},
   "outputs": [],
   "source": [
    "class Light:\n",
    "    def turn_on(self):\n",
    "        print('電灯がオンになりました')\n",
    "\n",
    "    def turn_off(self):\n",
    "        print('電灯がオフになりました')\n",
    "\n",
    "class AirConditioner:\n",
    "    def turn_on(self):\n",
    "        print('エアコンがオンになりました')\n",
    "\n",
    "    def turn_off(self):\n",
    "        print('エアコンがオフになりました')\n",
    "\n",
    "class Curtain:\n",
    "    def open(self):\n",
    "        print('カーテンを開きました')\n",
    "\n",
    "    def close(self):\n",
    "        print('カーテンを閉じました')"
   ]
  },
  {
   "cell_type": "markdown",
   "metadata": {},
   "source": [
    "Facadeパターンを使って、\n",
    "\n",
    "ユースケースごとにインターフェースを用意すれば良い"
   ]
  },
  {
   "cell_type": "markdown",
   "metadata": {},
   "source": [
    "変更の一例としては、次のようなコードが考えられる"
   ]
  },
  {
   "cell_type": "code",
   "execution_count": null,
   "metadata": {},
   "outputs": [
    {
     "name": "stdout",
     "output_type": "stream",
     "text": [
      "電灯がオフになりました\n",
      "エアコンがオフになりました\n",
      "カーテンを閉じました\n",
      "電灯がオンになりました\n",
      "エアコンがオンになりました\n",
      "カーテンを開きました\n"
     ]
    }
   ],
   "source": [
    "class Light:\n",
    "    def turn_on(self):\n",
    "        print('電灯がオンになりました')\n",
    "\n",
    "    def turn_off(self):\n",
    "        print('電灯がオフになりました')\n",
    "\n",
    "class AirConditioner:\n",
    "    def turn_on(self):\n",
    "        print('エアコンがオンになりました')\n",
    "\n",
    "    def turn_off(self):\n",
    "        print('エアコンがオフになりました')\n",
    "\n",
    "class Curtain:\n",
    "    def open(self):\n",
    "        print('カーテンを開きました')\n",
    "\n",
    "    def close(self):\n",
    "        print('カーテンを閉じました')\n",
    "\n",
    "# Facade\n",
    "class SmartHomeFacade:\n",
    "    def __init__(self):\n",
    "        self.light = Light()\n",
    "        self.ac = AirConditioner()\n",
    "        self.curtain = Curtain()\n",
    "\n",
    "    def leave_home(self):\n",
    "        self.light.turn_off()\n",
    "        self.ac.turn_off()\n",
    "        self.curtain.close()\n",
    "\n",
    "    def return_home(self):\n",
    "        self.light.turn_on()\n",
    "        self.ac.turn_on()\n",
    "        self.curtain.open()\n",
    "\n",
    "# 使用例\n",
    "smart_home = SmartHomeFacade()\n",
    "smart_home.leave_home()\n",
    "smart_home.return_home()"
   ]
  },
  {
   "cell_type": "markdown",
   "metadata": {},
   "source": [
    "⑤メールアドレスを表現する値オブジェクトを作成してみましょう\n",
    "\n",
    "ただし、メールアドレスの値は次の条件を満たす必要があるものとします※\n",
    "\n",
    "*   メールアドレスは必ず「@」を含む\n",
    "*   メールアドレスの「@」の前には少なくとも1文字以上、後ろには少なくとも2文字以上の文字列がある\n",
    "\n",
    "※実際のメールアドレスと比べて、制約が少なすぎますが、簡単のためこのようにしています\n",
    "\n"
   ]
  },
  {
   "cell_type": "code",
   "execution_count": null,
   "metadata": {},
   "outputs": [],
   "source": [
    "class Email:\n",
    "    def __init__(self, value: str) -> None:\n",
    "        if '@' not in value:\n",
    "            raise ValueError(f'無効なメール形式です: {value}')\n",
    "        local_part, domain_part = value.split('@')\n",
    "        if len(local_part) < 1 or len(domain_part) < 2:\n",
    "            raise ValueError(f'無効なメール形式です: {value}')\n",
    "        self.value = value"
   ]
  },
  {
   "cell_type": "markdown",
   "metadata": {},
   "source": [
    "この条件だと少しやりすぎだが、より複雑なルールを持つ場合は、\n",
    "\n",
    "ローカルパート（@の前）とドメインパート（@の後）のそれぞれを\n",
    "\n",
    "値オブジェクトにしても良い\n",
    "\n"
   ]
  },
  {
   "cell_type": "markdown",
   "metadata": {},
   "source": [
    "## オープン・クローズドの原則（**O**pen-Closed Principle：OCP）\n"
   ]
  },
  {
   "cell_type": "markdown",
   "metadata": {},
   "source": [
    "①OCPとはどのような原則でしょうか\n",
    "\n",
    "これまでに学んだことを、できる限り多く思い出してみましょう"
   ]
  },
  {
   "cell_type": "markdown",
   "metadata": {},
   "source": [
    "②以下の対立する2つの要素において、\n",
    "\n",
    "一般的に変更されづらいのはそれぞれどちらでしょうか\n",
    "\n",
    "\n",
    "*   抽象クラス vs 具象クラス\n",
    "*   実装 vs インターフェース\n",
    "*   組み込みの機能 vs 自作の機能"
   ]
  },
  {
   "cell_type": "markdown",
   "metadata": {},
   "source": [
    "*   **抽象クラス** vs 具象クラス\n",
    "*   実装 vs **インターフェース**\n",
    "*   **組み込みの機能** vs 自作の機能"
   ]
  },
  {
   "cell_type": "markdown",
   "metadata": {},
   "source": [
    "③次のコードはOCPに違反しているでしょうか\n",
    "\n",
    "違反している場合は、その理由を述べた上で、\n",
    "\n",
    "OCPを満たすようにコードを改善してください"
   ]
  },
  {
   "cell_type": "code",
   "execution_count": null,
   "metadata": {},
   "outputs": [],
   "source": [
    "class Payment:\n",
    "    def pay(self, amount: int, method: str) -> None:\n",
    "        if method == 'cash':\n",
    "            # 現金決済の処理\n",
    "            print(f'{amount}円を現金で支払いました。')\n",
    "        elif method == 'credit_card':\n",
    "            # クレジットカード決済の処理\n",
    "            print(f'{amount}円をクレジットカードで支払いました。')\n",
    "        elif method == 'QRPay':\n",
    "            # QRコード決済の処理\n",
    "            print(f'{amount}円をQRコードで支払いました。')\n",
    "        else:\n",
    "            raise ValueError('利用できない決済方法です。')"
   ]
  },
  {
   "cell_type": "markdown",
   "metadata": {},
   "source": [
    "新たな決済手段を追加する際に、\n",
    "\n",
    "payメソッドという既存のモジュールを変更する必要があるため、\n",
    "\n",
    "OCPに違反している"
   ]
  },
  {
   "cell_type": "markdown",
   "metadata": {},
   "source": [
    "OCPを満たすためには、Strategyパターンを使って、\n",
    "\n",
    "決済手段という変更されるものを\n",
    "\n",
    "抽象でカプセル化して、切り替えられるようにする"
   ]
  },
  {
   "cell_type": "code",
   "execution_count": null,
   "metadata": {},
   "outputs": [],
   "source": [
    "from abc import ABC, abstractmethod\n",
    "\n",
    "class AbstractPayment(ABC):\n",
    "    @abstractmethod\n",
    "    def pay(self, amount: int) -> None:\n",
    "        pass\n",
    "\n",
    "class CashPayment(AbstractPayment):\n",
    "    def pay(self, amount: int) -> None:\n",
    "        print(f'{amount}円を現金で支払いました。')\n",
    "\n",
    "class CreditCardPayment(AbstractPayment):\n",
    "    def pay(self, amount: int) -> None:\n",
    "        print(f'{amount}円をクレジットカードで支払いました。')\n",
    "\n",
    "class QRPayPayment(AbstractPayment):\n",
    "    def pay(self, amount: int) -> None:\n",
    "        print(f'{amount}円をQRコードで支払いました。')"
   ]
  },
  {
   "cell_type": "markdown",
   "metadata": {},
   "source": [
    "④あるカラオケ店の料金計算システムについて考えてみよう\n",
    "\n",
    "このカラオケ店では、次のような料金システムになっているとする\n",
    "\n",
    "*   利用時間は1時間単位\n",
    "*   基本料金は1時間あたり700円\n",
    "*   学生は料金が基本料金の80%になる\n",
    "*   会員は料金が基本料金の90%になる\n",
    "*   学生割引と会員割引は併用できる"
   ]
  },
  {
   "cell_type": "markdown",
   "metadata": {},
   "source": [
    "このシステムを用意するために、\n",
    "\n",
    "新米エンジニアのAくんが次のようなコードを用意しました"
   ]
  },
  {
   "cell_type": "code",
   "execution_count": null,
   "metadata": {},
   "outputs": [
    {
     "name": "stdout",
     "output_type": "stream",
     "text": [
      "カラオケの料金は: 1008円\n"
     ]
    }
   ],
   "source": [
    "# 料金計算の関数\n",
    "def calculate_fee(hours: int, is_student: bool, is_member: bool) -> int:\n",
    "    base_rate: int = 700\n",
    "    discount_rate: float = 1.0\n",
    "\n",
    "    if is_student and is_member:\n",
    "        discount_rate = 0.8 * 0.9\n",
    "    elif is_student:\n",
    "        discount_rate = 0.8\n",
    "    elif is_member:\n",
    "        discount_rate = 0.9\n",
    "\n",
    "    total_fee: int = int(hours * base_rate * discount_rate)\n",
    "    return total_fee\n",
    "\n",
    "# 使用例\n",
    "hours: int = 2\n",
    "is_student: bool = True\n",
    "is_member: bool = True\n",
    "\n",
    "fee: int = calculate_fee(hours, is_student, is_member)\n",
    "print(f'カラオケの料金は: {fee}円')"
   ]
  },
  {
   "cell_type": "markdown",
   "metadata": {},
   "source": [
    "上記のコードにおける、SOLID原則の観点から見た時の問題点を指摘した上で、\n",
    "\n",
    "Decoratorパターンを適用して問題を解決してください\n"
   ]
  },
  {
   "cell_type": "code",
   "execution_count": null,
   "metadata": {},
   "outputs": [],
   "source": [
    "from abc import ABC, abstractmethod\n",
    "\n",
    "# 室料インターフェース\n",
    "class AbstractRoomFee(ABC):\n",
    "    @abstractmethod\n",
    "    def get_cost(self, hours: int) -> int:\n",
    "        pass\n",
    "\n",
    "# 続きを記入\n"
   ]
  },
  {
   "cell_type": "markdown",
   "metadata": {},
   "source": [
    "Aくんのコードの問題点は\n",
    "\n",
    "*   OCPに違反している：割引や会員属性が増えるたびに、関数の変更が必要\n",
    "\n",
    "*   SRPに違反している：引数にbooleanがある関数は複数責務の可能性大"
   ]
  },
  {
   "cell_type": "markdown",
   "metadata": {},
   "source": [
    "Decoratorパターンを適用した変更の一例としては、\n",
    "\n",
    "次のようなコードが考えられる"
   ]
  },
  {
   "cell_type": "code",
   "execution_count": null,
   "metadata": {},
   "outputs": [
    {
     "name": "stdout",
     "output_type": "stream",
     "text": [
      "カラオケの料金は: 1400円\n",
      "カラオケの料金は: 1120円\n",
      "カラオケの料金は: 1260円\n",
      "カラオケの料金は: 1008円\n"
     ]
    }
   ],
   "source": [
    "from abc import ABC, abstractmethod\n",
    "\n",
    "# 室料インターフェース\n",
    "class AbstractRoomFee(ABC):\n",
    "    @abstractmethod\n",
    "    def get_cost(self, hours: int) -> int:\n",
    "        pass\n",
    "\n",
    "# 基本料金\n",
    "class BaseRoomFee(AbstractRoomFee):\n",
    "    def get_cost(self, hours: int) -> int:\n",
    "        return 700 * hours  # 1時間あたり700円\n",
    "\n",
    "# デコレータのインターフェース\n",
    "class RoomFeeDecorator(AbstractRoomFee, ABC):\n",
    "    def __init__(self, room_fee: AbstractRoomFee):\n",
    "        self._room_fee = room_fee\n",
    "\n",
    "    @abstractmethod\n",
    "    def get_cost(self, hours: int) -> int:\n",
    "        pass\n",
    "\n",
    "# 具体的なデコレータ\n",
    "class StudentDiscountDecorator(RoomFeeDecorator):\n",
    "    def get_cost(self, hours: int) -> int:\n",
    "        base_cost = self._room_fee.get_cost(hours)\n",
    "        return int(base_cost * 0.8)  # 学生料金は基本料金の80%\n",
    "\n",
    "class MembershipDiscountDecorator(RoomFeeDecorator):\n",
    "    def get_cost(self, hours: int) -> int:\n",
    "        base_cost = self._room_fee.get_cost(hours)\n",
    "        return int(base_cost * 0.9)  # 会員料金は基本料金の80%\n",
    "\n",
    "# クライアント\n",
    "def calculate_fee(room_fee: AbstractRoomFee, hours: int):\n",
    "    print(f'カラオケの料金は: {room_fee.get_cost(hours)}円')\n",
    "\n",
    "# テスト\n",
    "calculate_fee(BaseRoomFee(), 2)  # 基本料金\n",
    "calculate_fee(StudentDiscountDecorator(BaseRoomFee()), 2)  # 学生料金\n",
    "calculate_fee(MembershipDiscountDecorator(BaseRoomFee()), 2)  # 会員料金\n",
    "calculate_fee(MembershipDiscountDecorator(StudentDiscountDecorator(BaseRoomFee())), 2)  # 学生・会員料金"
   ]
  },
  {
   "cell_type": "markdown",
   "metadata": {},
   "source": [
    "⑤ ④の解答のコードに、料金が70%になるシニア割引のデコレータを追加してください"
   ]
  },
  {
   "cell_type": "code",
   "execution_count": null,
   "metadata": {},
   "outputs": [
    {
     "name": "stdout",
     "output_type": "stream",
     "text": [
      "カラオケの料金は: 1470円\n",
      "カラオケの料金は: 1323円\n"
     ]
    }
   ],
   "source": [
    "class SeniorDiscountDecorator(RoomFeeDecorator):\n",
    "    def get_cost(self, hours: int) -> int:\n",
    "        base_cost = self._room_fee.get_cost(hours)\n",
    "        return int(base_cost * 0.7)\n",
    "\n",
    "# クライアント\n",
    "def calculate_fee(room_fee: AbstractRoomFee, hours: int):\n",
    "    print(f'カラオケの料金は: {room_fee.get_cost(hours)}円')\n",
    "\n",
    "# テスト\n",
    "calculate_fee(SeniorDiscountDecorator(BaseRoomFee()), 3) # シニア料金\n",
    "calculate_fee(MembershipDiscountDecorator(SeniorDiscountDecorator(BaseRoomFee())), 3) # シニア会員料金"
   ]
  },
  {
   "cell_type": "markdown",
   "metadata": {},
   "source": [
    "## リスコフの置換原則（**L**iskov Substitution Principle：LSP）"
   ]
  },
  {
   "cell_type": "markdown",
   "metadata": {},
   "source": [
    "①LSPとはどのような原則でしょうか\n",
    "\n",
    "これまでに学んだことを、できる限り多く思い出してみましょう"
   ]
  },
  {
   "cell_type": "markdown",
   "metadata": {},
   "source": [
    "②基本型を派生型で置換できないのはどのような場合でしょうか\n",
    "\n",
    "契約による設計の観点から回答してください"
   ]
  },
  {
   "cell_type": "markdown",
   "metadata": {},
   "source": [
    "次のいずれかが起こると、基本型を派生型で置き換えることができなくなる\n",
    "\n",
    "1.   派生型で、基本型よりも事前条件を強める\n",
    "2.  派生型で、基本型よりも事後条件を弱める\n",
    "3.  派生型で、基本型の不変条件に違反する"
   ]
  },
  {
   "cell_type": "markdown",
   "metadata": {},
   "source": [
    "③商品を表現するProductクラスについて考えてみましょう\n",
    "\n",
    "商品は以下のルールを持つとします\n",
    "\n",
    "*   名前は1文字以上20文字以内\n",
    "*   価格は1円以上\n",
    "*   割引率は5~50%\n",
    "\n",
    "次のコードに契約による設計の考え方を取り入れて、\n",
    "\n",
    "コードを改善してください\n",
    "\n",
    "ただし、新たなクラスは定義しないものとします"
   ]
  },
  {
   "cell_type": "code",
   "execution_count": null,
   "metadata": {},
   "outputs": [],
   "source": [
    "class Product:\n",
    "    def __init__(self, name: str, price: int) -> None:\n",
    "        self._name = name\n",
    "        self._price = price\n",
    "\n",
    "    def discount(self, discount_percent: int) -> None:\n",
    "        self._price = self._price * (100 - discount_percent) // 100\n",
    "\n",
    "    def change_name(self, new_name: str) -> None:\n",
    "        self._name = new_name"
   ]
  },
  {
   "cell_type": "code",
   "execution_count": null,
   "metadata": {},
   "outputs": [],
   "source": [
    "# 解答の一例\n",
    "class Product:\n",
    "    def __init__(self, name: str, price: int) -> None:\n",
    "        if not 1 <= len(name) <= 20: # 不変条件\n",
    "            raise ValueError('名前は1文字以上20文字以内')\n",
    "        if price < 1: # 不変条件\n",
    "            raise ValueError('価格は１円以上')\n",
    "        self._name = name\n",
    "        self._price = price\n",
    "\n",
    "    @property # 読み取り専用（もどき）にして外部から変更不可に（不変条件の維持）\n",
    "    def name(self) -> str:\n",
    "        return self._name\n",
    "\n",
    "    @property # 読み取り専用（もどき）にして外部から変更不可に（不変条件の維持）\n",
    "    def price(self) -> int:\n",
    "        return self._price\n",
    "\n",
    "    def discount(self, discount_percent: int) -> None:\n",
    "        if not 5 <= discount_percent <= 50: # 事前条件\n",
    "            raise ValueError('割引率は5~50%')\n",
    "        self._price = self._price * (100 - discount_percent) // 100\n",
    "\n",
    "    def change_name(self, new_name: str) -> None:\n",
    "        if not 1 <= len(new_name) <= 20: #　事前条件・不変条件\n",
    "            raise ValueError('名前は1文字以上20文字以内')\n",
    "        self._name = new_name"
   ]
  },
  {
   "cell_type": "markdown",
   "metadata": {},
   "source": [
    "事後条件は、\n",
    "\n",
    "事前条件や不変条件のように、ガード節として組み込まれるというよりは、\n",
    "\n",
    "**テストケースとして確認される**のが基本"
   ]
  },
  {
   "cell_type": "markdown",
   "metadata": {},
   "source": [
    "④次のコードはLSPに違反しているでしょうか\n",
    "\n",
    "違反している場合は、その理由を述べた上で、\n",
    "\n",
    "LSPを満たすようにコードを改善してください"
   ]
  },
  {
   "cell_type": "code",
   "execution_count": null,
   "metadata": {},
   "outputs": [],
   "source": [
    "from abc import ABC, abstractmethod\n",
    "\n",
    "class CouponStrategy(ABC):\n",
    "    @abstractmethod\n",
    "    def apply_discount(self, price: int) -> int:\n",
    "        pass\n",
    "\n",
    "class PercentageDiscountCoupon(CouponStrategy):\n",
    "    def __init__(self, percentage: int):\n",
    "        self.percentage = percentage\n",
    "\n",
    "    def apply_discount(self, price: int) -> int:\n",
    "        return int(price * (1 - self.percentage / 100))\n",
    "\n",
    "class QuantityDiscountCoupon(CouponStrategy):\n",
    "    def apply_discount(self, price: int, items_count: int) -> int:\n",
    "        if items_count >= 10:\n",
    "            return int(price * 0.9)\n",
    "        return price\n",
    "\n",
    "class ShoppingCart:\n",
    "    def __init__(self, discount_strategy: CouponStrategy):\n",
    "        self.items = []\n",
    "        self.discount_strategy = discount_strategy\n",
    "\n",
    "    def add_item(self, item_name: str, price: int):\n",
    "        self.items.append((item_name, price))\n",
    "\n",
    "    def calculate_total(self) -> int:\n",
    "        total = sum(price for _, price in self.items)\n",
    "        return self.discount_strategy.apply_discount(total)"
   ]
  },
  {
   "cell_type": "markdown",
   "metadata": {},
   "source": [
    "QuantityDiscountCouponクラスのapply_discountメソッドのみ、\n",
    "\n",
    "items_countという引数を渡す必要があり、\n",
    "\n",
    "これは派生型で事前条件を強めていることになるので、LSPに違反する"
   ]
  },
  {
   "cell_type": "code",
   "execution_count": null,
   "metadata": {},
   "outputs": [
    {
     "name": "stdout",
     "output_type": "stream",
     "text": [
      "6300円\n"
     ]
    },
    {
     "ename": "TypeError",
     "evalue": "ignored",
     "output_type": "error",
     "traceback": [
      "\u001b[0;31m---------------------------------------------------------------------------\u001b[0m\n",
      "\u001b[0;31mTypeError\u001b[0m                                 Traceback (most recent call last)\n",
      "\u001b[0;32m<ipython-input-12-8dfb1fb6d3cc>\u001b[0m in \u001b[0;36m<cell line: 9>\u001b[0;34m()\u001b[0m\n",
      "\u001b[1;32m      7\u001b[0m \u001b[0mcart2\u001b[0m\u001b[0;34m.\u001b[0m\u001b[0madd_item\u001b[0m\u001b[0;34m(\u001b[0m\u001b[0;34m'Tシャツ'\u001b[0m\u001b[0;34m,\u001b[0m \u001b[0;36m2000\u001b[0m\u001b[0;34m)\u001b[0m\u001b[0;34m\u001b[0m\u001b[0;34m\u001b[0m\u001b[0m\n",
      "\u001b[1;32m      8\u001b[0m \u001b[0mcart2\u001b[0m\u001b[0;34m.\u001b[0m\u001b[0madd_item\u001b[0m\u001b[0;34m(\u001b[0m\u001b[0;34m'靴'\u001b[0m\u001b[0;34m,\u001b[0m \u001b[0;36m5000\u001b[0m\u001b[0;34m)\u001b[0m\u001b[0;34m\u001b[0m\u001b[0;34m\u001b[0m\u001b[0m\n",
      "\u001b[0;32m----> 9\u001b[0;31m \u001b[0mprint\u001b[0m\u001b[0;34m(\u001b[0m\u001b[0;34mf'{cart2.calculate_total()}円'\u001b[0m\u001b[0;34m)\u001b[0m\u001b[0;34m\u001b[0m\u001b[0;34m\u001b[0m\u001b[0m\n",
      "\u001b[0m\n",
      "\u001b[0;32m<ipython-input-11-d921f65d7bb9>\u001b[0m in \u001b[0;36mcalculate_total\u001b[0;34m(self)\u001b[0m\n",
      "\u001b[1;32m     29\u001b[0m     \u001b[0;32mdef\u001b[0m \u001b[0mcalculate_total\u001b[0m\u001b[0;34m(\u001b[0m\u001b[0mself\u001b[0m\u001b[0;34m)\u001b[0m \u001b[0;34m->\u001b[0m \u001b[0mint\u001b[0m\u001b[0;34m:\u001b[0m\u001b[0;34m\u001b[0m\u001b[0;34m\u001b[0m\u001b[0m\n",
      "\u001b[1;32m     30\u001b[0m         \u001b[0mtotal\u001b[0m \u001b[0;34m=\u001b[0m \u001b[0msum\u001b[0m\u001b[0;34m(\u001b[0m\u001b[0mprice\u001b[0m \u001b[0;32mfor\u001b[0m \u001b[0m_\u001b[0m\u001b[0;34m,\u001b[0m \u001b[0mprice\u001b[0m \u001b[0;32min\u001b[0m \u001b[0mself\u001b[0m\u001b[0;34m.\u001b[0m\u001b[0mitems\u001b[0m\u001b[0;34m)\u001b[0m\u001b[0;34m\u001b[0m\u001b[0;34m\u001b[0m\u001b[0m\n",
      "\u001b[0;32m---> 31\u001b[0;31m         \u001b[0;32mreturn\u001b[0m \u001b[0mself\u001b[0m\u001b[0;34m.\u001b[0m\u001b[0mdiscount_strategy\u001b[0m\u001b[0;34m.\u001b[0m\u001b[0mapply_discount\u001b[0m\u001b[0;34m(\u001b[0m\u001b[0mtotal\u001b[0m\u001b[0;34m)\u001b[0m\u001b[0;34m\u001b[0m\u001b[0;34m\u001b[0m\u001b[0m\n",
      "\u001b[0m\n",
      "\u001b[0;31mTypeError\u001b[0m: QuantityDiscountCoupon.apply_discount() missing 1 required positional argument: 'items_count'"
     ]
    }
   ],
   "source": [
    "# 使用例\n",
    "cart = ShoppingCart(PercentageDiscountCoupon(10))\n",
    "cart.add_item('Tシャツ', 2000)\n",
    "cart.add_item('靴', 5000)\n",
    "print(f'{cart.calculate_total()}円')\n",
    "\n",
    "cart2 = ShoppingCart(QuantityDiscountCoupon())\n",
    "cart2.add_item('Tシャツ', 2000)\n",
    "cart2.add_item('靴', 5000)\n",
    "print(f'{cart2.calculate_total()}円')"
   ]
  },
  {
   "cell_type": "code",
   "execution_count": null,
   "metadata": {},
   "outputs": [
    {
     "name": "stdout",
     "output_type": "stream",
     "text": [
      "5600円\n",
      "7000円\n"
     ]
    }
   ],
   "source": [
    "# 解答の一例\n",
    "from abc import ABC, abstractmethod\n",
    "\n",
    "class CouponStrategy(ABC):\n",
    "    @abstractmethod\n",
    "    def apply_discount(self, price: int, items_count: int = 0) -> int: # 引数を追加\n",
    "        pass\n",
    "\n",
    "class PercentageDiscountCoupon(CouponStrategy):\n",
    "    def __init__(self, percentage: int):\n",
    "        self.percentage = percentage\n",
    "\n",
    "    def apply_discount(self, price: int, items_count: int = 0) -> int:\n",
    "        return int(price * (1 - self.percentage / 100))\n",
    "\n",
    "class QuantityDiscountCoupon(CouponStrategy):\n",
    "  def apply_discount(self, price: int, items_count: int) -> int:\n",
    "        if items_count >= 10:\n",
    "            return int(price * 0.9)\n",
    "        return price\n",
    "\n",
    "class ShoppingCart:\n",
    "    def __init__(self, discount_strategy: CouponStrategy):\n",
    "        self.items = []\n",
    "        self.discount_strategy = discount_strategy\n",
    "\n",
    "    def add_item(self, item_name: str, price: int):\n",
    "        self.items.append((item_name, price))\n",
    "\n",
    "    def calculate_total(self) -> int:\n",
    "        total = sum(price for _, price in self.items)\n",
    "        items_count = len(self.items)\n",
    "        return self.discount_strategy.apply_discount(total, items_count)\n",
    "\n",
    "# 使用例\n",
    "cart = ShoppingCart(PercentageDiscountCoupon(20))\n",
    "cart.add_item('Tシャツ', 2000)\n",
    "cart.add_item('靴', 5000)\n",
    "print(f'{cart.calculate_total()}円')\n",
    "\n",
    "cart2 = ShoppingCart(QuantityDiscountCoupon())\n",
    "cart2.add_item('Tシャツ', 2000)\n",
    "cart2.add_item('靴', 5000)\n",
    "print(f'{cart2.calculate_total()}円')"
   ]
  },
  {
   "cell_type": "markdown",
   "metadata": {},
   "source": [
    "⑤ ④の解答のコードを、\n",
    "\n",
    "次のコードに記載されているクラスを活用して改善してください"
   ]
  },
  {
   "cell_type": "code",
   "execution_count": null,
   "metadata": {},
   "outputs": [],
   "source": [
    "class DiscountParameters:\n",
    "    def __init__(self, items: list):\n",
    "        self._items = items\n",
    "\n",
    "    @property\n",
    "    def total_price(self) -> int:\n",
    "        return sum(price for _, price in self._items)\n",
    "\n",
    "    @property\n",
    "    def item_count(self) -> int:\n",
    "        return len(self._items)"
   ]
  },
  {
   "cell_type": "markdown",
   "metadata": {},
   "source": [
    "④で見たコードは、1つの派生型でしか使わない引数を、\n",
    "\n",
    "すべての派生型で実装するように強制してしまっている\n",
    "\n",
    "⇒　ある派生型に固有の引数が増えるたびに、\n",
    "\n",
    "　　すべての派生型の引数の変更が必要になってしまう"
   ]
  },
  {
   "cell_type": "markdown",
   "metadata": {},
   "source": [
    "この問題は、**Parameter Object（Options Object）**パターンで解決できる"
   ]
  },
  {
   "cell_type": "markdown",
   "metadata": {},
   "source": [
    "### Parameter Object（Options Object）パターン"
   ]
  },
  {
   "cell_type": "markdown",
   "metadata": {},
   "source": [
    "複数のパラメータ（引数）を、１つのオブジェクトにまとめることで隠蔽するパターン"
   ]
  },
  {
   "cell_type": "code",
   "execution_count": null,
   "metadata": {},
   "outputs": [
    {
     "name": "stdout",
     "output_type": "stream",
     "text": [
      "6300円\n",
      "7000円\n"
     ]
    }
   ],
   "source": [
    "from abc import ABC, abstractmethod\n",
    "\n",
    "# 引数のクラスを用意\n",
    "class DiscountParameters:\n",
    "    def __init__(self, items: list):\n",
    "        self._items = items\n",
    "\n",
    "    @property\n",
    "    def total_price(self) -> int:\n",
    "        return sum(price for _, price in self._items)\n",
    "\n",
    "    @property\n",
    "    def item_count(self) -> int:\n",
    "        return len(self._items)\n",
    "\n",
    "class CouponStrategy(ABC):\n",
    "    @abstractmethod\n",
    "    def apply_discount(self, context: DiscountParameters) -> int: # 引数をオブジェクトにする\n",
    "        pass\n",
    "\n",
    "class PercentageDiscountCoupon(CouponStrategy):\n",
    "    def __init__(self, percentage: int):\n",
    "        self.percentage = percentage\n",
    "\n",
    "    def apply_discount(self, context: DiscountParameters) -> int:\n",
    "        return int(context.total_price * (1 - self.percentage / 100)) # 必要な属性だけを利用\n",
    "\n",
    "class QuantityDiscountCoupon(CouponStrategy):\n",
    "    def apply_discount(self, context: DiscountParameters) -> int:\n",
    "        if context.item_count >= 10:\n",
    "            return int(context.total_price * 0.9)\n",
    "        return context.total_price\n",
    "\n",
    "class ShoppingCart:\n",
    "    def __init__(self, discount_strategy: CouponStrategy):\n",
    "        self.items = []\n",
    "        self.discount_strategy = discount_strategy\n",
    "\n",
    "    def add_item(self, item_name: str, price: int):\n",
    "        self.items.append((item_name, price))\n",
    "\n",
    "    def calculate_total(self) -> int:\n",
    "        context = DiscountParameters(self.items) # パラメータオブジェクトを生成\n",
    "        return self.discount_strategy.apply_discount(context) # パラメータオブジェクトだけ渡す\n",
    "\n",
    "# 使用例\n",
    "cart = ShoppingCart(PercentageDiscountCoupon(10))\n",
    "cart.add_item('Tシャツ', 2000)\n",
    "cart.add_item('靴', 5000)\n",
    "print(f'{cart.calculate_total()}円')\n",
    "\n",
    "cart2 = ShoppingCart(QuantityDiscountCoupon())\n",
    "cart2.add_item('Tシャツ', 2000)\n",
    "cart2.add_item('靴', 5000)\n",
    "print(f'{cart2.calculate_total()}円')"
   ]
  },
  {
   "cell_type": "markdown",
   "metadata": {},
   "source": [
    "ついでに、**Null Objectパターン**についても解説"
   ]
  },
  {
   "cell_type": "markdown",
   "metadata": {},
   "source": [
    "### Null Objectパターン"
   ]
  },
  {
   "cell_type": "markdown",
   "metadata": {},
   "source": [
    "上記のコードでは、割引がない場合の処理が不足している\n",
    "\n",
    "次のようにNoneで対処することもできるが、\n",
    "\n",
    "なるべくNoneはコードから追い出す方が望ましい\n",
    "\n",
    "\n"
   ]
  },
  {
   "cell_type": "code",
   "execution_count": null,
   "metadata": {},
   "outputs": [
    {
     "name": "stdout",
     "output_type": "stream",
     "text": [
      "7000円\n"
     ]
    }
   ],
   "source": [
    "class ShoppingCart:\n",
    "    def __init__(self, discount_strategy: CouponStrategy = None):\n",
    "        self.items = []\n",
    "        self.discount_strategy = discount_strategy\n",
    "\n",
    "    # 以下略\n",
    "    def add_item(self, item_name: str, price: int):\n",
    "        self.items.append((item_name, price))\n",
    "\n",
    "    def calculate_total(self) -> int:\n",
    "        context = DiscountParameters(self.items)\n",
    "        # クーポンの使用があるかどうかでの条件分岐\n",
    "        if self.discount_strategy is not None:\n",
    "            return self.discount_strategy.apply_discount(context)\n",
    "        return context.total_price\n",
    "\n",
    "cart = ShoppingCart()\n",
    "cart.add_item('Tシャツ', 2000)\n",
    "cart.add_item('靴', 5000)\n",
    "print(f'{cart.calculate_total()}円')"
   ]
  },
  {
   "cell_type": "markdown",
   "metadata": {},
   "source": [
    "Null Objectパターンを使うことで、\n",
    "\n",
    "Noneチェックの条件分岐をなくして、他のクーポンと同様に扱えるようになる"
   ]
  },
  {
   "cell_type": "code",
   "execution_count": null,
   "metadata": {},
   "outputs": [
    {
     "name": "stdout",
     "output_type": "stream",
     "text": [
      "7000円\n"
     ]
    }
   ],
   "source": [
    "# Null Object（他の派生型と同じインターフェースを持ったNoneの表現）\n",
    "class NoCoupon(CouponStrategy):\n",
    "    def apply_discount(self, context: DiscountParameters) -> int:\n",
    "        return context.total_price\n",
    "\n",
    "class ShoppingCart:\n",
    "    def __init__(self, discount_strategy: CouponStrategy):\n",
    "        self.items = []\n",
    "        self.discount_strategy = discount_strategy\n",
    "\n",
    "    def add_item(self, item_name: str, price: int):\n",
    "        self.items.append((item_name, price))\n",
    "\n",
    "    def calculate_total(self) -> int:\n",
    "        # クーポンなしの場合も同様に扱えるようになる\n",
    "        context = DiscountParameters(self.items)\n",
    "        return self.discount_strategy.apply_discount(context)\n",
    "\n",
    "cart = ShoppingCart(NoCoupon()) # クーポンなしの場合\n",
    "cart.add_item('Tシャツ', 2000)\n",
    "cart.add_item('靴', 5000)\n",
    "print(f'{cart.calculate_total()}円')"
   ]
  },
  {
   "cell_type": "markdown",
   "metadata": {},
   "source": [
    "## インタフェース分離の原則（**I**nterface Segregation Principle：ISP）\n"
   ]
  },
  {
   "cell_type": "markdown",
   "metadata": {},
   "source": [
    "①ISPとはどのような原則でしょうか\n",
    "\n",
    "これまでに学んだことを、できる限り多く思い出してみましょう"
   ]
  },
  {
   "cell_type": "markdown",
   "metadata": {},
   "source": [
    "②Hyrumの法則とはどのような経験則だったでしょうか\n",
    "\n",
    "また、Hyrumの法則の事例は何か他にあるでしょうか"
   ]
  },
  {
   "cell_type": "markdown",
   "metadata": {},
   "source": [
    "③SRPとISPにはどのような共通点・相違点があるでしょうか\n",
    "\n",
    "また、SRPとISPという2つの原則が両方とも必要な理由を\n",
    "\n",
    "あなたなりに考えてみましょう（1つにまとめて良い、という結論も可です）"
   ]
  },
  {
   "cell_type": "markdown",
   "metadata": {},
   "source": [
    "④以下の音楽ストリーミングサービスのコードは、\n",
    "\n",
    "ISPに違反しているでしょうか\n",
    "\n",
    "違反している場合は、その理由を述べた上で、\n",
    "\n",
    "ISPを満たすようにコードを改善してください"
   ]
  },
  {
   "cell_type": "markdown",
   "metadata": {},
   "source": [
    "この音楽ストリーミングサービスでは、\n",
    "\n",
    "無料ユーザーと有料ユーザーで使用できる機能が異なり、\n",
    "\n",
    "次のようになっているとします\n",
    "\n",
    "*   無料ユーザーは、広告有りの再生のみが可能\n",
    "*   有料ユーザーは、広告なしの再生・一時停止・スキップが可能\n",
    "\n",
    "\n"
   ]
  },
  {
   "cell_type": "code",
   "execution_count": null,
   "metadata": {},
   "outputs": [],
   "source": [
    "from abc import ABC, abstractmethod\n",
    "\n",
    "class AbstractMusicPlayer(ABC):\n",
    "    def __init__(self, playlist: list):\n",
    "        self.playlist = playlist\n",
    "\n",
    "    @abstractmethod\n",
    "    def play(self) -> None:\n",
    "        pass\n",
    "\n",
    "    @abstractmethod\n",
    "    def pause(self) -> None:\n",
    "        pass\n",
    "\n",
    "    @abstractmethod\n",
    "    def skip(self) -> None:\n",
    "        pass\n",
    "\n",
    "class FreeUserMusicPlayer(AbstractMusicPlayer):\n",
    "    def play(self) -> None:\n",
    "        print('広告表示')\n",
    "        print('再生します')\n",
    "        # 再生処理\n",
    "\n",
    "    def pause(self) -> None:\n",
    "        pass\n",
    "\n",
    "    def skip(self) -> None:\n",
    "        pass\n",
    "\n",
    "class PaidUserMusicPlayer(AbstractMusicPlayer):\n",
    "    def play(self) -> None:\n",
    "        print('再生します')\n",
    "        # 再生処理\n",
    "\n",
    "    def pause(self) -> None:\n",
    "        print('一時停止します')\n",
    "        # 一時停止処理\n",
    "\n",
    "    def skip(self) -> None:\n",
    "        print('スキップします')\n",
    "        # スキップ処理"
   ]
  },
  {
   "cell_type": "markdown",
   "metadata": {},
   "source": [
    "FreeUserMusicPlayerクラスが使用しない\n",
    "\n",
    "pauseメソッドとskipメソッドの実装が\n",
    "\n",
    "強要されているため、ISPに違反している"
   ]
  },
  {
   "cell_type": "markdown",
   "metadata": {},
   "source": [
    "また、AbstractMusicPlayerクラスは\n",
    "\n",
    "無料ユーザーと有料ユーザーという2種類のクライアントの\n",
    "\n",
    "インターフェースになってしまっているので、\n",
    "\n",
    "無料ユーザー、有料ユーザーそれぞれに対して\n",
    "\n",
    "別のインターフェースを提供する方が望ましい"
   ]
  },
  {
   "cell_type": "markdown",
   "metadata": {},
   "source": [
    "解答の一例としては、次のようなコードが考えられる"
   ]
  },
  {
   "cell_type": "code",
   "execution_count": null,
   "metadata": {},
   "outputs": [],
   "source": [
    "from abc import ABC, abstractmethod\n",
    "\n",
    "# 基本の音楽再生インターフェース、無料ユーザーが使用\n",
    "class MusicPlayerInterface(ABC):\n",
    "    def __init__(self, playlist: list):\n",
    "        self.playlist = playlist\n",
    "\n",
    "    @abstractmethod\n",
    "    def play(self) -> None:\n",
    "        pass\n",
    "\n",
    "# 有料ユーザー向けの音楽再生インターフェース\n",
    "class PaidUserMusicPlayerInterface(MusicPlayerInterface):\n",
    "    @abstractmethod\n",
    "    def pause(self) -> None:\n",
    "        pass\n",
    "\n",
    "    @abstractmethod\n",
    "    def skip(self) -> None:\n",
    "        pass\n",
    "\n",
    "# それぞれの具象クラス\n",
    "class FreeUserMusicPlayer(MusicPlayerInterface):\n",
    "    def play(self) -> None:\n",
    "        print('広告表示')\n",
    "        print('再生します')\n",
    "        # 再生処理\n",
    "\n",
    "class PaidUserMusicPlayer(PaidUserMusicPlayerInterface):\n",
    "    def play(self) -> None:\n",
    "        print('再生します')\n",
    "        # 再生処理\n",
    "\n",
    "    def pause(self) -> None:\n",
    "        print('一時停止します')\n",
    "        # 一時停止処理\n",
    "\n",
    "    def skip(self) -> None:\n",
    "        print('スキップします')\n",
    "        # スキップ処理"
   ]
  },
  {
   "cell_type": "markdown",
   "metadata": {},
   "source": [
    "⑤以下のATMを表現したコードは、\n",
    "\n",
    "ISPに違反しているでしょうか\n",
    "\n",
    "違反している場合は、その理由を述べた上で、\n",
    "\n",
    "ISPを満たすようにコードを改善してください"
   ]
  },
  {
   "cell_type": "markdown",
   "metadata": {},
   "source": [
    "ただし、ATMで行える操作は、\n",
    "\n",
    "*   引き出し\n",
    "*   預け入れ\n",
    "*   振り込み\n",
    "\n",
    "の3つであり、\n",
    "\n",
    "これらの操作は1つのトランザクションで1つだけ行われます\n",
    "\n",
    "また、BankAccountは銀行口座を表す値オブジェクトであるとします"
   ]
  },
  {
   "cell_type": "code",
   "execution_count": null,
   "metadata": {},
   "outputs": [],
   "source": [
    "class ATMInterface(ABC):\n",
    "    @abstractmethod\n",
    "    def withdraw_transaction(self, amount: int) -> None:\n",
    "        pass\n",
    "\n",
    "    @abstractmethod\n",
    "    def deposit_transaction(self, amount: int) -> None:\n",
    "        pass\n",
    "\n",
    "    @abstractmethod\n",
    "    def transfer_transaction(self, to_bank_account: BankAccount, amount: int) -> None:\n",
    "        pass\n",
    "\n",
    "class ATM(ATMInterface):\n",
    "    def __init__(self, bank_account: BankAccount):\n",
    "        self.bank_account = bank_account\n",
    "\n",
    "    def withdraw_transaction(self, amount: int) -> None:\n",
    "        # 引き出し処理\n",
    "        print('出金成功')\n",
    "\n",
    "    def deposit_transaction(self, amount: int) -> None:\n",
    "        # 預け入れ処理\n",
    "        print('入金成功')\n",
    "\n",
    "    def transfer_transaction(self, to_bank_account: BankAccount, amount: int) -> None:\n",
    "        # 振り込み処理\n",
    "        print('振込成功')"
   ]
  },
  {
   "cell_type": "markdown",
   "metadata": {},
   "source": [
    "上記のコードでは、\n",
    "\n",
    "引き出し、預け入れ、振り込み、という３つの機能が、\n",
    "\n",
    "1つのインターフェースに定義されている\n",
    "\n",
    "\n",
    "\n"
   ]
  },
  {
   "cell_type": "markdown",
   "metadata": {},
   "source": [
    "1回のトランザクションで行えるのは、3つのうちの1つだけなので、\n",
    "\n",
    "上記のコードだと、引き出しを行うクライアントに、\n",
    "\n",
    "必要としない、預け入れのためのメソッドが公開されてしまう\n",
    "\n",
    "⇒　ISPに違反している\n",
    "\n",
    "⇒　ATMの利用目的ごとにインターフェースを分割した方が良い"
   ]
  },
  {
   "cell_type": "markdown",
   "metadata": {},
   "source": [
    "解答の一例としては、次のようなコードが考えられる"
   ]
  },
  {
   "cell_type": "code",
   "execution_count": null,
   "metadata": {},
   "outputs": [],
   "source": [
    "from abc import ABC, abstractmethod\n",
    "\n",
    "# 利用目的ごとにインターフェースを分割\n",
    "class WithdrawInterface(ABC):\n",
    "    @abstractmethod\n",
    "    def withdraw_transaction(self, amount: int) -> None:\n",
    "        pass\n",
    "\n",
    "class DepositInterface(ABC):\n",
    "    @abstractmethod\n",
    "    def deposit_transaction(self, amount: int) -> None:\n",
    "        pass\n",
    "\n",
    "class TransferInterface(ABC):\n",
    "    @abstractmethod\n",
    "    def transfer_transaction(self, to_bank_account: BankAccount, amount: int) -> None:\n",
    "        pass\n",
    "\n",
    "# それらを多重継承した具象クラス\n",
    "class ATM(WithdrawInterface, DepositInterface, TransferInterface):\n",
    "    def __init__(self, bank_account: BankAccount):\n",
    "        self.bank_account = bank_account\n",
    "\n",
    "    def withdraw_transaction(self, amount: int) -> None:\n",
    "        # 引き出し処理\n",
    "        print('出金成功')\n",
    "\n",
    "    def deposit_transaction(self, amount: int) -> None:\n",
    "        # 預け入れ処理\n",
    "        print('入金成功')\n",
    "\n",
    "    def transfer_transaction(self, to_bank_account: BankAccount, amount: int) -> None:\n",
    "        # 振り込み処理\n",
    "        print('振込成功')"
   ]
  },
  {
   "cell_type": "markdown",
   "metadata": {},
   "source": [
    "## 依存関係逆転の原則（**D**ependency Inversion Principle：DIP）"
   ]
  },
  {
   "cell_type": "markdown",
   "metadata": {},
   "source": [
    "①DIPとはどのような原則でしょうか\n",
    "\n",
    "これまでに学んだことを、できる限り多く思い出してみましょう"
   ]
  },
  {
   "cell_type": "markdown",
   "metadata": {},
   "source": [
    "②以下の対立する2つの要素において、\n",
    "\n",
    "下位のモジュールにあたるのは、それぞれどちらでしょうか\n",
    "\n",
    "\n",
    "*   在庫を管理するクラス vs データベースアクセスを行うクラス\n",
    "*   センサーデータを管理するクラス vs センサーデータに基づいてパターン認識を行うクラス\n",
    "*   通知を送るクラス vs プッシュ通知を送るクラス"
   ]
  },
  {
   "cell_type": "markdown",
   "metadata": {},
   "source": [
    "*   在庫を管理するクラス vs **データベースアクセスを行うクラス**\n",
    "*   **センサーデータを管理するクラス** vs センサーデータに基づいてパターン認識を行うクラス\n",
    "*   通知を送るクラス vs **プッシュ通知を送るクラス**"
   ]
  },
  {
   "cell_type": "markdown",
   "metadata": {},
   "source": [
    "③DIPの適用によって、共同開発やユニットテストがしやすくなるのは、なぜでしょうか"
   ]
  },
  {
   "cell_type": "markdown",
   "metadata": {},
   "source": [
    "*   抽象にクライアントが依存すれば、具象クラスの完成を待つ必要がなくなるため\n",
    "*   テスト用のモジュールに切り替えることができるようになるため"
   ]
  },
  {
   "cell_type": "markdown",
   "metadata": {},
   "source": [
    "④次のコードは、DIPに違反しているでしょうか\n",
    "\n",
    "違反している場合は、その理由を述べた上で、\n",
    "\n",
    "DIPを満たすようにコードを改善してください\n"
   ]
  },
  {
   "cell_type": "code",
   "execution_count": null,
   "metadata": {},
   "outputs": [],
   "source": [
    "class GasolineEngine:\n",
    "    def start(self) -> None:\n",
    "        print('ガソリンエンジンが始動しました')\n",
    "\n",
    "class NormalTires:\n",
    "    def __init__(self) -> None:\n",
    "        self._pressure: int = 100\n",
    "\n",
    "    def is_inflated(self) -> bool:\n",
    "        if self._pressure >= 1:\n",
    "            return True\n",
    "        else:\n",
    "            print('タイヤに空気を入れてください')\n",
    "            return False\n",
    "\n",
    "    def use_air(self) -> None:\n",
    "        self._pressure -= 1\n",
    "\n",
    "class Car:\n",
    "    def __init__(self) -> None:\n",
    "        self.engine = GasolineEngine()\n",
    "        self.tires = NormalTires()\n",
    "\n",
    "    def start(self) -> None:\n",
    "        if self.tires.is_inflated():\n",
    "            self.engine.start()\n",
    "            self.tires.use_air()\n",
    "            print('車が発進しました')"
   ]
  },
  {
   "cell_type": "markdown",
   "metadata": {},
   "source": [
    "Carクラスが、GasolineEngineクラスと、NormalTiresクラスに依存している\n",
    "\n",
    "通常車のエンジンやタイヤは切り替え可能なので、\n",
    "\n",
    "ドメインのルールを反映するために、\n",
    "\n",
    "DIP（とOCP）を適用した方が望ましいと言える"
   ]
  },
  {
   "cell_type": "code",
   "execution_count": null,
   "metadata": {},
   "outputs": [
    {
     "name": "stdout",
     "output_type": "stream",
     "text": [
      "ガソリンエンジンが始動しました\n",
      "車が発進しました\n"
     ]
    }
   ],
   "source": [
    "# 解答の一例\n",
    "from abc import ABC, abstractmethod\n",
    "\n",
    "# 抽象クラス（インターフェース）の定義\n",
    "class AbstractEngine(ABC):\n",
    "    @abstractmethod\n",
    "    def start(self) -> None:\n",
    "        pass\n",
    "\n",
    "class AbstractTires(ABC):\n",
    "    @abstractmethod\n",
    "    def is_inflated(self) -> bool:\n",
    "        pass\n",
    "\n",
    "    @abstractmethod\n",
    "    def use_air(self) -> None:\n",
    "        pass\n",
    "\n",
    "# 具体的なクラスの定義\n",
    "class GasolineEngine(AbstractEngine):\n",
    "    def start(self) -> None:\n",
    "        print('ガソリンエンジンが始動しました')\n",
    "\n",
    "class NormalTires(AbstractTires):\n",
    "    def __init__(self) -> None:\n",
    "        self._pressure: int = 100\n",
    "\n",
    "    def is_inflated(self) -> bool:\n",
    "        if self._pressure >= 1:\n",
    "            return True\n",
    "        else:\n",
    "            print('タイヤに空気を入れてください')\n",
    "            return False\n",
    "\n",
    "    def use_air(self) -> None:\n",
    "        self._pressure -= 1\n",
    "\n",
    "# Carクラスが具体的なクラスではなくインターフェースに依存するように設計\n",
    "class Car:\n",
    "    def __init__(self, engine: AbstractEngine, tires: AbstractTires) -> None:\n",
    "        self.engine = engine\n",
    "        self.tires = tires\n",
    "\n",
    "    def start(self) -> None:\n",
    "        if self.tires.is_inflated():\n",
    "            self.engine.start()\n",
    "            self.tires.use_air()\n",
    "            print('車が発進しました')\n",
    "\n",
    "# 使い方の例\n",
    "engine = GasolineEngine()\n",
    "tires = NormalTires()\n",
    "car = Car(engine, tires)\n",
    "car.start()"
   ]
  },
  {
   "cell_type": "markdown",
   "metadata": {},
   "source": [
    "⑤次のコードは、DIPに違反しているでしょうか\n",
    "\n",
    "違反している場合は、その理由を述べた上で、\n",
    "\n",
    "DIPを満たすようにコードを改善してください\n"
   ]
  },
  {
   "cell_type": "code",
   "execution_count": null,
   "metadata": {},
   "outputs": [],
   "source": [
    "#　ユーザーを表現するクラス\n",
    "class User:\n",
    "    def __init__(self, id: int, name: str):\n",
    "        self.id = id\n",
    "        self.name = name\n",
    "\n",
    "# RDBへのアクセスを担当するクラス\n",
    "class RDBUserRepository:\n",
    "    def save(self, user: User) -> None:\n",
    "        print(f'{user.name}をRDBに保存しました') # 疑似的なRDBへの保存処理\n",
    "\n",
    "    def get(self, id: int) -> User:\n",
    "        print(f'RDBからid:{id}のユーザーを取得しました') # 疑似的なRDBからの取得処理\n",
    "        return User(id, 'user_name')\n",
    "\n",
    "# ユーザーに関するユースケースを実現するクラス\n",
    "class UserApplicationService:\n",
    "    def __init__(self):\n",
    "        self.user_repository = RDBUserRepository()\n",
    "\n",
    "    def create(self, id: int, name: str):\n",
    "        user = User(id, name)\n",
    "        self.user_repository.save(user)"
   ]
  },
  {
   "cell_type": "markdown",
   "metadata": {},
   "source": [
    "UserApplicationServiceクラスが、\n",
    "\n",
    "RDBUserRepositoryという下位モジュールの具象クラスに依存しているため、\n",
    "\n",
    "DIPに違反している\n",
    "\n"
   ]
  },
  {
   "cell_type": "markdown",
   "metadata": {},
   "source": [
    "DIPを守るためには、次のコードのように\n",
    "\n",
    "AbstractUserRepositoryクラスという抽象クラスを導入する\n"
   ]
  },
  {
   "cell_type": "code",
   "execution_count": null,
   "metadata": {},
   "outputs": [],
   "source": [
    "from abc import ABC, abstractmethod\n",
    "\n",
    "class User:\n",
    "    def __init__(self, id: int, name: str):\n",
    "        self.id = id\n",
    "        self.name = name\n",
    "\n",
    "# データベースアクセスのモジュールをカプセル化する抽象クラス\n",
    "class AbstractUserRepository(ABC):\n",
    "    @abstractmethod\n",
    "    def save(self, user: User) -> None:\n",
    "        pass\n",
    "\n",
    "    @abstractmethod\n",
    "    def get(self, id: int) -> User:\n",
    "        pass\n",
    "\n",
    "# RDBへのアクセスを行うクラス\n",
    "class RDBUserRepository(AbstractUserRepository):\n",
    "    def save(self, user: User) -> None:\n",
    "        print(f'Save {user.name} to the RDB')\n",
    "\n",
    "    def get(self, id: int) -> User:\n",
    "        print(f'Get user from the RDB by id {id}')\n",
    "        return User(id, 'user_name')\n",
    "\n",
    "#　インメモリのテスト用データベースのクラス\n",
    "class InMemoryUserRepository(AbstractUserRepository):\n",
    "    def __init__(self):\n",
    "        self.users = {}\n",
    "\n",
    "    def save(self, user: User) -> None:\n",
    "        self.users[user.id] = user\n",
    "\n",
    "    def get(self, id: int) -> User:\n",
    "        return self.users.get(id)\n",
    "\n",
    "class UserApplicationService:\n",
    "    def __init__(self, user_repository: AbstractUserRepository): # 抽象に依存するようになった\n",
    "        self.user_repository = user_repository\n",
    "\n",
    "    def create(self, id: int, name: str) -> None:\n",
    "        user = User(id, name)\n",
    "        self.user_repository.save(user)"
   ]
  },
  {
   "cell_type": "markdown",
   "metadata": {},
   "source": [
    "上記のようにすることで、\n",
    "\n",
    "*   RDBUserRepositoryの実装が完了していなくても、UserApplicationServiceを開発できるようになる\n",
    "*   テストの際にInMemoryUserRepositoryを使用することで、テストを制御しやすくなる"
   ]
  },
  {
   "cell_type": "markdown",
   "metadata": {},
   "source": [
    "## さらに上達する3つの方法"
   ]
  },
  {
   "cell_type": "markdown",
   "metadata": {},
   "source": [
    "### 原則を破る時は、もっともな理由を用意してから破る"
   ]
  },
  {
   "cell_type": "markdown",
   "metadata": {},
   "source": [
    "原則を破らなくて済むようなデザインパターンなどがある可能性もあるので、\n",
    "\n",
    "原則を破らない方法はないか、一通り調べた上で、\n",
    "\n",
    "どうしても破る必要がある場合のみ、もっともな理由を用意した上で破る"
   ]
  },
  {
   "cell_type": "markdown",
   "metadata": {},
   "source": [
    "### 過去に書いたコードのリファクタリングから始める\n",
    "\n"
   ]
  },
  {
   "cell_type": "markdown",
   "metadata": {},
   "source": [
    "自分が過去に書いてしまったクソコードはこの上ない教材\n",
    "\n",
    "まずは、オブジェクト指向で開発できなかった時代に書いたコードを、\n",
    "\n",
    "オブジェクト指向らしいコードにリファクタリングすることから始めよう\n"
   ]
  },
  {
   "cell_type": "markdown",
   "metadata": {},
   "source": [
    "### 原則やデザインパターンを自分で生み出す"
   ]
  },
  {
   "cell_type": "markdown",
   "metadata": {},
   "source": [
    "ここまで学んできた原則も、他のソフトウェア開発者の誰かが見出したもの\n",
    "\n",
    "⇒　どのように見出したのか？\n",
    "\n",
    "⇒　ありがちな問題に対して、「変更しやすさ」をより向上させる方法はないか？を探した結果\n",
    "\n",
    "⇒　**どちらのコードが変更しやすいか？を判断できれば、自分で原則やパターンを生み出せる**"
   ]
  },
  {
   "cell_type": "code",
   "execution_count": null,
   "metadata": {},
   "outputs": [],
   "source": [
    "#　通知を送るクラス\n",
    "class Notification:\n",
    "    def send(self, notification_type: str, user_id: int) -> None:\n",
    "        if notification_type == 'email':\n",
    "            # メールで通知を送信\n",
    "            print('メール')\n",
    "        elif notification_type == 'sms':\n",
    "            # SMSで通知を送信\n",
    "            print('SMS')\n",
    "        elif notification_type == 'push':\n",
    "            # プッシュ通知を送信\n",
    "            print('プッシュ通知')"
   ]
  },
  {
   "cell_type": "markdown",
   "metadata": {},
   "source": [
    "## 参考文献・おすすめ本"
   ]
  },
  {
   "cell_type": "markdown",
   "metadata": {},
   "source": [
    "本講座の作成に使用した参考文献は、\n",
    "\n",
    "[こちらのページ](https://hiramatsuu.com/archives/1433)にまとめていますので、さらなる学習にご活用ください"
   ]
  },
  {
   "cell_type": "markdown",
   "metadata": {},
   "source": [
    "また、本講座の受講中に、理解が怪しくなった場合は、\n",
    "\n",
    "本講座の動画を見返すだけでなく、\n",
    "\n",
    "\n",
    "[Python でわかる オブジェクト指向 とはなにか？【Python オブジェクト指向 の「なぜ？」を「徹底的に」解説】](https://www.udemy.com/course/oop-python/?referralCode=E4B346B10A3E0755DA54)\n",
    "\n",
    "の理解が完璧かどうかを確認するようにしてください"
   ]
  }
 ],
 "metadata": {
  "language_info": {
   "name": "python"
  }
 },
 "nbformat": 4,
 "nbformat_minor": 2
}
